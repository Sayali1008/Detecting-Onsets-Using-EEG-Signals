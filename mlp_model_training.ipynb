{
  "cells": [
    {
      "cell_type": "markdown",
      "metadata": {
        "id": "tPN4d5o5oLih"
      },
      "source": [
        "## Prerequisites"
      ]
    },
    {
      "cell_type": "code",
      "execution_count": null,
      "metadata": {
        "id": "Hs9jOF8MbUID"
      },
      "outputs": [],
      "source": [
        "%%capture\n",
        "!pip install eeg-filters\n",
        "!pip install ffmpeg # to change AV file format\n",
        "!pip install madmom # MADMOM package\n",
        "!pip install mne    # package for preprocessing EEG data\n",
        "!pip install mne[hdf5]\n",
        "!pip install torchsummaryX"
      ]
    },
    {
      "cell_type": "code",
      "execution_count": null,
      "metadata": {
        "colab": {
          "base_uri": "https://localhost:8080/"
        },
        "id": "b1z3nUB7pigy",
        "outputId": "93201d44-698e-48f3-efa4-b0699b8b6002"
      },
      "outputs": [
        {
          "output_type": "stream",
          "name": "stdout",
          "text": [
            "Collecting mir_eval\n",
            "  Downloading mir_eval-0.7.tar.gz (90 kB)\n",
            "\u001b[K     |████████████████████████████████| 90 kB 3.5 MB/s \n",
            "\u001b[?25hRequirement already satisfied: numpy>=1.7.0 in /usr/local/lib/python3.7/dist-packages (from mir_eval) (1.21.6)\n",
            "Requirement already satisfied: scipy>=1.0.0 in /usr/local/lib/python3.7/dist-packages (from mir_eval) (1.4.1)\n",
            "Requirement already satisfied: future in /usr/local/lib/python3.7/dist-packages (from mir_eval) (0.16.0)\n",
            "Requirement already satisfied: six in /usr/local/lib/python3.7/dist-packages (from mir_eval) (1.15.0)\n",
            "Building wheels for collected packages: mir-eval\n",
            "  Building wheel for mir-eval (setup.py) ... \u001b[?25l\u001b[?25hdone\n",
            "  Created wheel for mir-eval: filename=mir_eval-0.7-py3-none-any.whl size=100721 sha256=08e55f10c9c529c34e8451ff139b306c377c88a6d552fc6546e96a042c7a0984\n",
            "  Stored in directory: /root/.cache/pip/wheels/18/5a/46/d2527ff1fd975e1a793375e6ed763bfe4d3ea396b7cdc470eb\n",
            "Successfully built mir-eval\n",
            "Installing collected packages: mir-eval\n",
            "Successfully installed mir-eval-0.7\n"
          ]
        }
      ],
      "source": [
        "!pip install mir_eval"
      ]
    },
    {
      "cell_type": "code",
      "execution_count": null,
      "metadata": {
        "id": "xi9tzcxQnJat"
      },
      "outputs": [],
      "source": [
        "import os\n",
        "import ffmpeg\n",
        "import madmom\n",
        "import matplotlib.pyplot as plt\n",
        "import mne\n",
        "import numpy as np\n",
        "import torch\n",
        "import torch.nn as nn\n",
        "import torch.nn.functional as F\n",
        "\n",
        "from madmom.features import beats, onsets\n",
        "from scipy import io\n",
        "from scipy.signal import butter, freqz, lfilter\n",
        "from torchsummaryX import summary\n",
        "import mir_eval\n",
        "from tqdm import tqdm"
      ]
    },
    {
      "cell_type": "code",
      "execution_count": null,
      "metadata": {
        "colab": {
          "base_uri": "https://localhost:8080/"
        },
        "id": "A3-D3rO21K3F",
        "outputId": "8dc3288e-597b-40e7-d190-34a10acca123"
      },
      "outputs": [
        {
          "output_type": "stream",
          "name": "stdout",
          "text": [
            "Mounted at /content/drive\n"
          ]
        }
      ],
      "source": [
        "from google.colab import drive\n",
        "drive.mount(\"/content/drive\",force_remount=True)\n",
        "# !ls '/content/drive/MyDrive/2022 Spring/11-785 Introduction to Deep Learning/Project'"
      ]
    },
    {
      "cell_type": "code",
      "execution_count": null,
      "metadata": {
        "id": "Lxi25-usdsaX"
      },
      "outputs": [],
      "source": [
        "data_folder =  \"/content/drive/MyDrive/11785 Project/data\"\n"
      ]
    },
    {
      "cell_type": "markdown",
      "metadata": {
        "id": "0OuYf1pZoPgA"
      },
      "source": [
        "## Preprocessing"
      ]
    },
    {
      "cell_type": "code",
      "execution_count": null,
      "metadata": {
        "id": "D5JJJCmvf_Ts"
      },
      "outputs": [],
      "source": [
        "wav_data = \"/content/drive/MyDrive/2022 Spring/11-785 Introduction to Deep Learning/Project/data/songs_wav\"\n",
        "mat_data = \"/content/drive/MyDrive/2022 Spring/11-785 Introduction to Deep Learning/Project/data/songs_mat\""
      ]
    },
    {
      "cell_type": "code",
      "execution_count": null,
      "metadata": {
        "colab": {
          "base_uri": "https://localhost:8080/"
        },
        "id": "701ZS9v1gP6r",
        "outputId": "957690ad-53df-4354-b1f7-b1a03a5a91d2"
      },
      "outputs": [
        {
          "name": "stdout",
          "output_type": "stream",
          "text": [
            "dict_keys(['__header__', '__version__', '__globals__', 'data21', 'fs', 'subs21'])\n",
            "<class 'numpy.ndarray'>\n"
          ]
        }
      ],
      "source": [
        "load_mat = io.loadmat(mat_data +'/song21_Imputed.mat',  struct_as_record=True)\n",
        "\n",
        "print(load_mat.keys())\n",
        "print(type(load_mat['data21']))\n",
        "# dict_keys(['__header__', '__version__', '__globals__', 'data21', 'fs', 'subs21'])"
      ]
    },
    {
      "cell_type": "code",
      "execution_count": null,
      "metadata": {
        "colab": {
          "base_uri": "https://localhost:8080/"
        },
        "id": "y3eBUiGUsNvF",
        "outputId": "bfd816a1-f574-46f3-aad5-d0f9035ff3db"
      },
      "outputs": [
        {
          "name": "stdout",
          "output_type": "stream",
          "text": [
            "(125, 34795, 20)\n",
            "torch.Size([20, 125, 34795])\n"
          ]
        }
      ],
      "source": [
        "# actual EEG data\n",
        "print(load_mat['data21'].shape) # 125 channels x N time steps x 20 subjects\n",
        "eeg_data = torch.permute(torch.tensor(load_mat['data21']), (2,0,1))\n",
        "print(eeg_data.shape) # 20 x N x 125"
      ]
    },
    {
      "cell_type": "code",
      "execution_count": null,
      "metadata": {
        "colab": {
          "base_uri": "https://localhost:8080/"
        },
        "id": "NIWTPhg55CfE",
        "outputId": "ae6f4182-4d4f-4595-a082-f20bb4f61fcb"
      },
      "outputs": [
        {
          "name": "stdout",
          "output_type": "stream",
          "text": [
            "torch.Size([125, 125])\n",
            "6000\n"
          ]
        }
      ],
      "source": [
        "pad_length = 37500 - eeg_data.shape[2]\n",
        "eeg_data = F.pad(eeg_data, (0,0, 0,0, 0, pad_length), mode='constant', value=0)\n",
        "# print(\"padded EEG data shape: \", eeg_data.shape)\n",
        "\n",
        "# segment into one second blocks\n",
        "eeg_split = np.split(eeg_data, 300, axis=2)\n",
        "split_eeg = []\n",
        "for split in eeg_split:\n",
        "  x = np.split(split, 20, axis=0)\n",
        "  for y in x:\n",
        "    split_eeg.append(torch.squeeze(y))\n",
        "\n",
        "print(split_eeg[1].shape)\n",
        "print(len(split_eeg))"
      ]
    },
    {
      "cell_type": "markdown",
      "metadata": {
        "id": "MziTbWSHvMrN"
      },
      "source": [
        "we filter the EEG data with a bandpass filter (0.1 – 40 Hz) and zero-pad the dataset uniformly to a length of 37500 samples (5 min), since the longest song in the dataset is around five minutes long"
      ]
    },
    {
      "cell_type": "code",
      "execution_count": null,
      "metadata": {
        "colab": {
          "base_uri": "https://localhost:8080/",
          "height": 541
        },
        "id": "HhhOSj6A8VPc",
        "outputId": "2a52b989-ee86-4d82-aebd-d5cd13ce26b4"
      },
      "outputs": [
        {
          "data": {
            "image/png": "[encoded data removed]",
            "text/plain": [
              "<Figure size 432x288 with 1 Axes>"
            ]
          },
          "metadata": {},
          "output_type": "display_data"
        },
        {
          "data": {
            "image/png": "[encoded data removed]",
            "text/plain": [
              "<Figure size 432x288 with 1 Axes>"
            ]
          },
          "metadata": {},
          "output_type": "display_data"
        }
      ],
      "source": [
        "def butter_bandpass(lowcut, highcut, fs, order=5):\n",
        "    return butter(order, [lowcut, highcut], fs=fs, btype='band')\n",
        "\n",
        "def butter_bandpass_filter(data, lowcut, highcut, fs, order=5):\n",
        "    b, a = butter_bandpass(lowcut, highcut, fs, order=order)\n",
        "    y = lfilter(b, a, data)\n",
        "    return y\n",
        "\n",
        "# Sample rate and desired cutoff frequencies (in Hz).\n",
        "fs = 5000.0\n",
        "lowcut = 500.0\n",
        "highcut = 1250.0\n",
        "\n",
        "# Plot the frequency response for a few different orders.\n",
        "plt.figure(1)\n",
        "plt.clf()\n",
        "for order in [3, 6, 9]:\n",
        "    b, a = butter_bandpass(lowcut, highcut, fs, order=order)\n",
        "    w, h = freqz(b, a, fs=fs, worN=2000)\n",
        "    plt.plot(w, abs(h), label=\"order = %d\" % order)\n",
        "\n",
        "plt.plot([0, 0.5 * fs], [np.sqrt(0.5), np.sqrt(0.5)],\n",
        "          '--', label='sqrt(0.5)')\n",
        "plt.xlabel('Frequency (Hz)')\n",
        "plt.ylabel('Gain')\n",
        "plt.grid(True)\n",
        "plt.legend(loc='best')\n",
        "\n",
        "# Filter a noisy signal.\n",
        "T = 0.05\n",
        "nsamples = T * fs\n",
        "t = np.arange(0, nsamples) / fs\n",
        "a = 0.02\n",
        "f0 = 600.0\n",
        "x = 0.1 * np.sin(2 * np.pi * 1.2 * np.sqrt(t))\n",
        "x += 0.01 * np.cos(2 * np.pi * 312 * t + 0.1)\n",
        "x += a * np.cos(2 * np.pi * f0 * t + .11)\n",
        "x += 0.03 * np.cos(2 * np.pi * 2000 * t)\n",
        "\n",
        "# x = EEGdata[0]\n",
        "\n",
        "plt.figure(2)\n",
        "plt.clf()\n",
        "plt.plot(t, x, label='Noisy signal')\n",
        "\n",
        "y = butter_bandpass_filter(x, lowcut, highcut, fs, order=6)\n",
        "plt.plot(t, y, label='Filtered signal (%g Hz)' % f0)\n",
        "plt.xlabel('time (seconds)')\n",
        "plt.hlines([-a, a], 0, T, linestyles='--')\n",
        "plt.grid(True)\n",
        "plt.axis('tight')\n",
        "plt.legend(loc='upper left')\n",
        "\n",
        "plt.show()"
      ]
    },
    {
      "cell_type": "code",
      "execution_count": null,
      "metadata": {
        "id": "_XgPF9tcdSDX"
      },
      "outputs": [],
      "source": [
        ""
      ]
    },
    {
      "cell_type": "markdown",
      "metadata": {
        "id": "yNLc-8IJmmb2"
      },
      "source": [
        "## Attempting to Annotate Music with MADMOM ODF RNN"
      ]
    },
    {
      "cell_type": "code",
      "execution_count": null,
      "metadata": {
        "id": "OIFwuammmkZl"
      },
      "outputs": [],
      "source": [
        "# from scipy.io import wavfile\n",
        "# samplerate, data = wavfile.read('/content/first_fires.wav')"
      ]
    },
    {
      "cell_type": "code",
      "execution_count": null,
      "metadata": {
        "colab": {
          "base_uri": "https://localhost:8080/"
        },
        "id": "Cm0oGRRYohL3",
        "outputId": "937f26aa-79d7-41ad-877b-4165439ab838"
      },
      "outputs": [
        {
          "name": "stdout",
          "output_type": "stream",
          "text": [
            "[1.87500000e+01 8.43750000e+01 1.03906250e+02 ... 2.11773438e+04\n",
            " 2.12421875e+04 2.12828125e+04]\n"
          ]
        }
      ],
      "source": [
        "# proc1.reset()\n",
        "proc1 = madmom.features.onsets.OnsetPeakPickingProcessor(fps = 1.28) #What should fps be?\n",
        "act1 = madmom.features.onsets.RNNOnsetProcessor()('/content/first_fires.wav') \n",
        "onset_values = proc1(act1) \n",
        "print(onset_values)"
      ]
    },
    {
      "cell_type": "code",
      "execution_count": null,
      "metadata": {
        "colab": {
          "base_uri": "https://localhost:8080/"
        },
        "id": "AfqYkH8prdD5",
        "outputId": "e9435c93-e30a-4755-826f-e4ce14df6d9c"
      },
      "outputs": [
        {
          "name": "stdout",
          "output_type": "stream",
          "text": [
            "1200\n",
            "48000\n"
          ]
        }
      ],
      "source": [
        "print(len(onset_values))\n",
        "\n",
        "import os\n",
        "import wave\n",
        "\n",
        "with wave.open('/content/first_fires.wav', \"rb\") as wave_file:\n",
        "  frame_rate = wave_file.getframerate()\n",
        "print(frame_rate)"
      ]
    },
    {
      "cell_type": "code",
      "execution_count": null,
      "metadata": {
        "id": "HQGS_rGaymob"
      },
      "outputs": [],
      "source": [
        "#lmao this is so wrong\n",
        "\n",
        "song_labels = np.zeros(37500)\n",
        "\n",
        "for i in onset_values:\n",
        "  song_labels[int(i)] = 1"
      ]
    },
    {
      "cell_type": "code",
      "execution_count": null,
      "metadata": {
        "colab": {
          "base_uri": "https://localhost:8080/"
        },
        "id": "gSKZIOElJUpF",
        "outputId": "d43bfada-fbbd-4d6c-d85f-324ee616c08e"
      },
      "outputs": [
        {
          "name": "stdout",
          "output_type": "stream",
          "text": [
            "[0. 0. 0. 0. 0. 0. 0. 0. 0. 0. 0. 0. 0. 0. 0. 0. 0. 0. 1. 0.]\n"
          ]
        }
      ],
      "source": [
        "print(song_labels[0:20])"
      ]
    },
    {
      "cell_type": "code",
      "execution_count": null,
      "metadata": {
        "colab": {
          "base_uri": "https://localhost:8080/"
        },
        "id": "pM7qCi7NMHbR",
        "outputId": "a0a524b1-7f93-4425-fff0-385cd0ebcbf1"
      },
      "outputs": [
        {
          "name": "stdout",
          "output_type": "stream",
          "text": [
            "(125,)\n"
          ]
        }
      ],
      "source": [
        "split_song_labels = np.split(song_labels, 300)\n",
        "print(split_song_labels[0].shape)"
      ]
    },
    {
      "cell_type": "markdown",
      "metadata": {
        "id": "ig4_6v-mdZjJ"
      },
      "source": [
        "# Dataloader"
      ]
    },
    {
      "cell_type": "code",
      "execution_count": null,
      "metadata": {
        "id": "-wYzzefNdcTY"
      },
      "outputs": [],
      "source": [
        "class UserDataset(torch.utils.data.Dataset):\n",
        "     def __init__(self, data_path, partition= \"train\", user_id = \"0\",context=0): # You can use partition to specify train or dev\n",
        "\n",
        "        self.X_dir = data_path + \"/users_mat/\" # TODO: get mfcc directory path\n",
        "        self.Y_dir = data_path + \"/ground_truths/\" # TODO: get transcript path\n",
        "\n",
        "        self.X_files = os.listdir(self.X_dir)# TODO: list files in the mfcc directory\n",
        "        #print(self.X_files)\n",
        "        if partition == 'train':\n",
        "            self.X_files = [f for f in self.X_files if user_id not in f]\n",
        "            val = 19\n",
        "        else:\n",
        "            self.X_files = [f for f in self.X_files if user_id in f]\n",
        "            val = 1\n",
        "        \n",
        "        self.Y_onehot = np.load(data_path+'/ground_truths/one_hot.npy')\n",
        "        self.Y_timestamps = np.load(data_path+'/ground_truths/timestamps.npy',allow_pickle=True)\n",
        "        # self.Y_files = os.listdir(self.Y_dir)# TODO: list files in the transcript directory\n",
        "        self.XXX = []\n",
        "        self.YYY = []\n",
        "        self.timestamps = []\n",
        "        self.timestamps_length = []\n",
        "        self.context = context\n",
        "\n",
        "\n",
        "        #print(len(self.Y_timestamps))\n",
        "        #2239 max\n",
        "        # for i in self.Y_timestamps:\n",
        "        #   print(len(i))\n",
        "        \n",
        "        for i in self.Y_timestamps:\n",
        "          # print(i.shape)\n",
        "          self.timestamps_length.append(len(i))\n",
        "          self.timestamps.append(np.pad(i, (0, 2239-len(i)), 'constant'))\n",
        "\n",
        "        for x_file in self.X_files:\n",
        "            Xtemp =  io.loadmat(data_folder+'/users_mat/'+x_file)\n",
        "            data = Xtemp['data']\n",
        "            #print(\"data\",data.shape)\n",
        "            #print(\"data len\",len(data))\n",
        "            for i in range(len(data)):\n",
        "              #print(\"1\",i.shape)\n",
        "              temp = np.reshape(data[i],(300,125,125))\n",
        "              #print(\"1 temp shape\")\n",
        "\n",
        "\n",
        "              # for context\n",
        "\n",
        "              # if i==0:\n",
        "              #   temp = np.pad(temp,((self.context,self.context),(0,0),(0,0)))\n",
        "              #   split_temp = np.split(temp,300 + (2*self.context))\n",
        "\n",
        "              # else:\n",
        "              #   temp = np.pad(temp,((0,self.context),(0,0),(0,0)))\n",
        "              #   split_temp = np.split(temp,300 + (1*self.context))\n",
        "\n",
        "\n",
        "              # temp2 = []\n",
        "              # for i in range(self.context, temp.shape[0]-self.context):\n",
        "              #   temp2.append(temp[i-self.context:i+self.context+1])\n",
        "\n",
        "              # temp2 = np.array(temp2)\n",
        "              # temp = np.reshape(temp2,(300, temp2.shape[1]*temp2.shape[2], 125))\n",
        "\n",
        "              #print(\"2\",temp.shape)\n",
        "\n",
        "\n",
        "              #print(len(split_temp))\n",
        "              # print(\"3\",split_temp.shape)\n",
        "              split_temp = np.split(temp,300)\n",
        "              self.XXX.extend(split_temp)\n",
        "            \n",
        "\n",
        "            for i in range(len(self.Y_onehot)):\n",
        "                #print(\"i \", i.shape)\n",
        "                temp = np.split(self.Y_onehot[i], 300)\n",
        "                # if i==0:\n",
        "                #   temp = np.pad(temp,((self.context,self.context),(0,0)))\n",
        "                # else:\n",
        "                #   temp = np.pad(temp,((0,self.context),(0,0)))\n",
        "\n",
        "                #print(temp.shape)\n",
        "\n",
        "                self.YYY.extend(temp)\n",
        "                \n",
        "\n",
        "        # print(\"lengths\")\n",
        "        # print(len(self.timestamps_length))\n",
        "        # print(len(self.timestamps))\n",
        "        # print(len(self.YYY))\n",
        "        # print(len(self.XXX))\n",
        "\n",
        "        self.XXX = np.array(self.XXX)\n",
        "        self.YYY = np.array(self.YYY)\n",
        "\n",
        "        print(\"XXX shape \",self.XXX.shape)\n",
        "        print(\"YYY \",self.YYY.shape)\n",
        "\n",
        "        self.XXX = np.pad(self.XXX,pad_width=[(self.context,self.context),(0,0),(0,0),(0,0)])\n",
        "\n",
        "        # print(\"XXX shape context \",self.XXX.shape)\n",
        "\n",
        "\n",
        "     def __len__(self):\n",
        "        return len(self.YYY)\n",
        "\n",
        "     def __getitem__(self, ind):\n",
        "\n",
        "        #x = self.XXX[ind:ind+(2*self.context)+1]\n",
        "        # print(\"here\")\n",
        "        # print(self.XXX.shape)\n",
        "        #x = np.reshape(x,(-1, 125))\n",
        "        # print(self.XXX.shape)\n",
        "\n",
        "        x = self.XXX[ind:ind+(2*self.context)+1]\n",
        "        y = self.YYY[ind]\n",
        "        # print(y.shape)\n",
        "\n",
        "        # y = y.flatten()\n",
        "\n",
        "        # print(self.YYY.shape)\n",
        "        # print(\"bye\")\n",
        "        return x, y, self.timestamps, self.timestamps_length\n",
        "    \n",
        "    # def collate_fn(batch):\n",
        "\n",
        "    #     batch_x = [x for x,y in batch]\n",
        "    #     batch_y = [y for x,y in batch]\n",
        "\n",
        "    #     batch_x_pad = pad_sequence(batch_x,batch_first=True) # TODO: pad the sequence with pad_sequence (already imported)\n",
        "    #     lengths_x = [len(x) for x in batch_x]# TODO: Get original lengths of the sequence before padding\n",
        "\n",
        "    #     batch_y_pad = pad_sequence(batch_y,batch_first=True)# TODO: pad the sequence with pad_sequence (already imported)\n",
        "    #     lengths_y = [len(y) for y in batch_y]# TODO: Get original lengths of the sequence before padding\n",
        "\n",
        "    #     return batch_x_pad, batch_y_pad, torch.tensor(lengths_x), torch.tensor(lengths_y)\n",
        "\n"
      ]
    },
    {
      "cell_type": "markdown",
      "metadata": {
        "id": "kJJn0VgAPd6Z"
      },
      "source": [
        "## Fully Connected Network"
      ]
    },
    {
      "cell_type": "code",
      "execution_count": null,
      "metadata": {
        "id": "X_iVpWrMPc9A"
      },
      "outputs": [],
      "source": [
        "class Network(torch.nn.Module):\n",
        "\n",
        "    def __init__(self,context):\n",
        "        super(Network, self).__init__()\n",
        "        \n",
        "        self.flatten = nn.Flatten()\n",
        "\n",
        "        self.layers = nn.Sequential(\n",
        "            nn.Linear(125*125*(2*context+1), 1024),\n",
        "            nn.LeakyReLU(),\n",
        "            #nn.ReLU(),\n",
        "            nn.BatchNorm1d(1024),\n",
        "            nn.Dropout(0.5),\n",
        "            nn.Linear(1024, 512),\n",
        "            nn.LeakyReLU(),\n",
        "            nn.BatchNorm1d(512),\n",
        "            nn.Dropout(0.5),\n",
        "            nn.Linear(512, 125)\n",
        "\n",
        "            \n",
        "        )\n",
        "\n",
        "    def forward(self, x):\n",
        "        x = self.flatten(x)\n",
        "        #print(x.shape)\n",
        "        x = self.layers(x)\n",
        "        return x\n",
        "\n",
        "# eeg = split_eeg[0]\n",
        "# print(eeg.shape)\n",
        "\n",
        "# summary(model, eeg.float().cuda())"
      ]
    },
    {
      "cell_type": "code",
      "execution_count": null,
      "metadata": {
        "colab": {
          "base_uri": "https://localhost:8080/"
        },
        "id": "tg1dIJkAQzxP",
        "outputId": "b7297c91-0fa3-435f-b60e-47431ed25fde"
      },
      "outputs": [
        {
          "output_type": "stream",
          "name": "stdout",
          "text": [
            "XXX shape  (57000, 1, 125, 125)\n",
            "YYY  (57000, 125)\n",
            "XXX shape  (3000, 1, 125, 125)\n",
            "YYY  (3000, 125)\n",
            "57000\n",
            "(3, 1, 125, 125)\n",
            "57000\n"
          ]
        }
      ],
      "source": [
        "\n",
        "# train data loader\n",
        "users_train = UserDataset(data_folder, partition= \"train\", user_id = \"user0\",context=1)\n",
        "train_loader = torch.utils.data.DataLoader(users_train, batch_size=300, shuffle=True,  num_workers=4)\n",
        "users_valid = UserDataset(data_folder, partition= \"valid\", user_id = \"user0\",context=1)\n",
        "val_loader = torch.utils.data.DataLoader(users_valid, batch_size=300, shuffle=False, num_workers=4)\n",
        "\n",
        "print(len(users_train))\n",
        "print(users_train[0][0].shape)\n",
        "print(len(users_train))\n",
        "\n",
        "# print(len)"
      ]
    },
    {
      "cell_type": "code",
      "execution_count": null,
      "metadata": {
        "colab": {
          "base_uri": "https://localhost:8080/"
        },
        "id": "8U4yzUv_hUfB",
        "outputId": "11e6b4f6-b40f-490b-e7c3-5517ff93538f"
      },
      "outputs": [
        {
          "output_type": "stream",
          "name": "stdout",
          "text": [
            "Network(\n",
            "  (flatten): Flatten(start_dim=1, end_dim=-1)\n",
            "  (layers): Sequential(\n",
            "    (0): Linear(in_features=46875, out_features=1024, bias=True)\n",
            "    (1): LeakyReLU(negative_slope=0.01)\n",
            "    (2): BatchNorm1d(1024, eps=1e-05, momentum=0.1, affine=True, track_running_stats=True)\n",
            "    (3): Dropout(p=0.5, inplace=False)\n",
            "    (4): Linear(in_features=1024, out_features=512, bias=True)\n",
            "    (5): LeakyReLU(negative_slope=0.01)\n",
            "    (6): BatchNorm1d(512, eps=1e-05, momentum=0.1, affine=True, track_running_stats=True)\n",
            "    (7): Dropout(p=0.5, inplace=False)\n",
            "    (8): Linear(in_features=512, out_features=125, bias=True)\n",
            "  )\n",
            ")\n"
          ]
        }
      ],
      "source": [
        "model = Network(users_valid.context).cuda()\n",
        "print(model)\n",
        "\n",
        "optimizer = torch.optim.Adam(model.parameters(), lr=1e-3)\n",
        "criterion = nn.BCEWithLogitsLoss()\n",
        "# scheduler = torch.optim.lr_scheduler.ReduceLROnPlateau(optimizer,factor=0.6, patience=2, mode='min')"
      ]
    },
    {
      "cell_type": "code",
      "execution_count": null,
      "metadata": {
        "colab": {
          "base_uri": "https://localhost:8080/"
        },
        "id": "MG1QJu_KgI6F",
        "outputId": "0f124b29-ea47-44d4-9897-da924cf7f8c6"
      },
      "outputs": [
        {
          "output_type": "stream",
          "name": "stdout",
          "text": [
            "10\n"
          ]
        }
      ],
      "source": [
        "print(len(val_loader))\n",
        "model = model.cuda()"
      ]
    },
    {
      "cell_type": "code",
      "execution_count": null,
      "metadata": {
        "id": "sEm0NboxicbA"
      },
      "outputs": [],
      "source": [
        "from sklearn.metrics import f1_score, recall_score, precision_score, roc_auc_score, roc_curve\n",
        "def validation(model,criterion,optimizer):\n",
        "  model.eval()\n",
        "  batch_bar = tqdm(total=len(val_loader), dynamic_ncols=True, leave=False, position=0, desc='Validation')\n",
        "  val_loss = 0\n",
        "  f1  = np.zeros(10)\n",
        "  p  = np.zeros(10)\n",
        "  r  = np.zeros(10)\n",
        "  auc = 0\n",
        "\n",
        "  f1s  = np.zeros(10)\n",
        "  ps  = np.zeros(10)\n",
        "  rs  = np.zeros(10)\n",
        "\n",
        "\n",
        "  for batch_idx, batch in enumerate(val_loader):\n",
        "      optimizer.zero_grad()\n",
        "\n",
        "      data = batch[0].float().cuda()\n",
        "      #print(data.shape)\n",
        "      #print(data.shape)\n",
        "      label = batch[1].cuda()\n",
        "      # print(\"labels\",label.shape,label.int().flatten().shape)\n",
        "      # print(label.int().flatten())\n",
        "\n",
        "      with torch.no_grad():\n",
        "\n",
        "        output = model(data)\n",
        "        # print(\"output\",output.shape,output.flatten().shape)\n",
        "        loss = criterion((output), label.float())\n",
        "\n",
        "\n",
        "      output_s = output #nn.Sigmoid()(output)\n",
        "      temp_output = torch.reshape(output_s,(1,300*125))\n",
        "      temp_output = temp_output.cpu().detach().numpy()\n",
        "      temp_output = np.reshape(temp_output,(37500))\n",
        "\n",
        "      threshold = 0.5 #np.mean(temp_output)/2\n",
        "      # binary_output = np.where(temp_output > threshold, 1, 0)\n",
        "\n",
        "\n",
        "      # #print(len(binary_output))\n",
        "      # indices = np.where(binary_output==1)[0]\n",
        "      # #print(indices)\n",
        "      # predicted = []\n",
        "      # for i in indices:\n",
        "      #   predicted.append(i/125) \n",
        "\n",
        "      \n",
        "      indices = madmom.features.onsets.peak_picking(temp_output,threshold)\n",
        "      #print(indices.shape)\n",
        "      predicted = indices/125\n",
        "      #print(predicted.shape)\n",
        "      #print(\"len\",len(batch[2]))\n",
        "\n",
        "      #print(len(batch[2][0]))\n",
        "      length = batch[3][batch_idx%10][0]\n",
        "      #print('lalala',length)\n",
        "\n",
        "      gt_timestamp = batch[2][batch_idx%10][0][:length]\n",
        "      # print(len(gt_timestamp))\n",
        "      # print(\"hi\")\n",
        "      # print(len(predicted))\n",
        "\n",
        "\n",
        "      metrics = mir_eval.onset.f_measure(np.array(gt_timestamp),np.array(predicted))\n",
        "      f1[batch_idx%10]+=(metrics[0])\n",
        "      p[batch_idx%10]+=(metrics[1])\n",
        "      r[batch_idx%10]+=(metrics[2])\n",
        "\n",
        "      # print(label.shape)\n",
        "      # print(np.unique(label.numpy()))\n",
        "      auc+= roc_auc_score(label.cpu().flatten(),output.cpu().flatten())\n",
        "    \n",
        "\n",
        "      # f1s[batch_idx%10]+= f1_score(label.flatten(),output.flatten())\n",
        "      # ps[batch_idx%10]+=  precision_score(label.flatten(),output.flatten())\n",
        "      # rs[batch_idx%10]+= recall_score(label.flatten(),output.flatten())\n",
        "\n",
        "\n",
        "      val_loss += loss\n",
        "\n",
        "      batch_bar.set_postfix(loss=\"{:.04f}\".format(float(val_loss / (batch_idx + 1))))\n",
        "\n",
        "      # loss.backward()\n",
        "      # optimizer.step()\n",
        "\n",
        "      batch_bar.update()\n",
        "\n",
        "  batch_bar.close()\n",
        "\n",
        "\n",
        "  # print(\"\\n\")\n",
        "  # print(gt_timestamp)\n",
        "\n",
        "  # print(\"hiii\")\n",
        "  # print(predicted)\n",
        "\n",
        "  # print(len(gt_timestamp))\n",
        "  # print(len(predicted))\n",
        "\n",
        "\n",
        "  \n",
        "  return val_loss/len(val_loader), f1, p, r, auc/len(val_loader)"
      ]
    },
    {
      "cell_type": "code",
      "execution_count": null,
      "metadata": {
        "colab": {
          "base_uri": "https://localhost:8080/"
        },
        "id": "ZObFFHIi6Brq",
        "outputId": "0fcd2ffa-e889-45ae-9c28-4a646eccfe9e"
      },
      "outputs": [
        {
          "output_type": "stream",
          "name": "stderr",
          "text": [
            "Validation:   0%|          | 0/10 [00:00<?, ?it/s]/usr/local/lib/python3.7/dist-packages/mir_eval/onset.py:51: UserWarning: Estimated onsets are empty.\n",
            "  warnings.warn(\"Estimated onsets are empty.\")\n",
            "Validation:  10%|█         | 1/10 [00:01<00:09,  1.10s/it, loss=0.1423]/usr/local/lib/python3.7/dist-packages/mir_eval/onset.py:51: UserWarning: Estimated onsets are empty.\n",
            "  warnings.warn(\"Estimated onsets are empty.\")\n",
            "Validation:  20%|██        | 2/10 [00:01<00:04,  1.92it/s, loss=0.1613]/usr/local/lib/python3.7/dist-packages/mir_eval/onset.py:51: UserWarning: Estimated onsets are empty.\n",
            "  warnings.warn(\"Estimated onsets are empty.\")\n",
            "Validation:  20%|██        | 2/10 [00:01<00:04,  1.92it/s, loss=0.1614]/usr/local/lib/python3.7/dist-packages/mir_eval/onset.py:51: UserWarning: Estimated onsets are empty.\n",
            "  warnings.warn(\"Estimated onsets are empty.\")\n",
            "Validation:  40%|████      | 4/10 [00:01<00:01,  3.99it/s, loss=0.1522]/usr/local/lib/python3.7/dist-packages/mir_eval/onset.py:51: UserWarning: Estimated onsets are empty.\n",
            "  warnings.warn(\"Estimated onsets are empty.\")\n",
            "Validation:  40%|████      | 4/10 [00:01<00:01,  3.99it/s, loss=0.1610]/usr/local/lib/python3.7/dist-packages/mir_eval/onset.py:51: UserWarning: Estimated onsets are empty.\n",
            "  warnings.warn(\"Estimated onsets are empty.\")\n",
            "Validation:  60%|██████    | 6/10 [00:01<00:00,  5.85it/s, loss=0.1646]/usr/local/lib/python3.7/dist-packages/mir_eval/onset.py:51: UserWarning: Estimated onsets are empty.\n",
            "  warnings.warn(\"Estimated onsets are empty.\")\n",
            "Validation:  60%|██████    | 6/10 [00:01<00:00,  5.85it/s, loss=0.1657]/usr/local/lib/python3.7/dist-packages/mir_eval/onset.py:51: UserWarning: Estimated onsets are empty.\n",
            "  warnings.warn(\"Estimated onsets are empty.\")\n",
            "Validation:  80%|████████  | 8/10 [00:01<00:00,  7.35it/s, loss=0.1666]/usr/local/lib/python3.7/dist-packages/mir_eval/onset.py:51: UserWarning: Estimated onsets are empty.\n",
            "  warnings.warn(\"Estimated onsets are empty.\")\n",
            "Validation:  80%|████████  | 8/10 [00:01<00:00,  7.35it/s, loss=0.1728]/usr/local/lib/python3.7/dist-packages/mir_eval/onset.py:51: UserWarning: Estimated onsets are empty.\n",
            "  warnings.warn(\"Estimated onsets are empty.\")\n"
          ]
        },
        {
          "output_type": "stream",
          "name": "stdout",
          "text": [
            "Epoch 1/50: Train Loss 0.3884, Learning Rate 0.0010, Validation Loss 0.1746, F1 Score 0.0000, Precision 0.0000, Recall 0.0000, AUC 0.6181\n"
          ]
        },
        {
          "output_type": "stream",
          "name": "stderr",
          "text": [
            "Validation:   0%|          | 0/10 [00:00<?, ?it/s]/usr/local/lib/python3.7/dist-packages/mir_eval/onset.py:51: UserWarning: Estimated onsets are empty.\n",
            "  warnings.warn(\"Estimated onsets are empty.\")\n",
            "Validation:  10%|█         | 1/10 [00:01<00:10,  1.11s/it, loss=0.1396]/usr/local/lib/python3.7/dist-packages/mir_eval/onset.py:51: UserWarning: Estimated onsets are empty.\n",
            "  warnings.warn(\"Estimated onsets are empty.\")\n",
            "Validation:  10%|█         | 1/10 [00:01<00:10,  1.11s/it, loss=0.1601]/usr/local/lib/python3.7/dist-packages/mir_eval/onset.py:51: UserWarning: Estimated onsets are empty.\n",
            "  warnings.warn(\"Estimated onsets are empty.\")\n",
            "Validation:  30%|███       | 3/10 [00:01<00:02,  2.82it/s, loss=0.1591]/usr/local/lib/python3.7/dist-packages/mir_eval/onset.py:51: UserWarning: Estimated onsets are empty.\n",
            "  warnings.warn(\"Estimated onsets are empty.\")\n",
            "Validation:  30%|███       | 3/10 [00:01<00:02,  2.82it/s, loss=0.1492]/usr/local/lib/python3.7/dist-packages/mir_eval/onset.py:51: UserWarning: Estimated onsets are empty.\n",
            "  warnings.warn(\"Estimated onsets are empty.\")\n",
            "Validation:  50%|█████     | 5/10 [00:01<00:01,  4.70it/s, loss=0.1588]/usr/local/lib/python3.7/dist-packages/mir_eval/onset.py:51: UserWarning: Estimated onsets are empty.\n",
            "  warnings.warn(\"Estimated onsets are empty.\")\n",
            "Validation:  50%|█████     | 5/10 [00:01<00:01,  4.70it/s, loss=0.1615]/usr/local/lib/python3.7/dist-packages/mir_eval/onset.py:51: UserWarning: Estimated onsets are empty.\n",
            "  warnings.warn(\"Estimated onsets are empty.\")\n",
            "Validation:  70%|███████   | 7/10 [00:01<00:00,  6.29it/s, loss=0.1629]/usr/local/lib/python3.7/dist-packages/mir_eval/onset.py:51: UserWarning: Estimated onsets are empty.\n",
            "  warnings.warn(\"Estimated onsets are empty.\")\n",
            "Validation:  70%|███████   | 7/10 [00:01<00:00,  6.29it/s, loss=0.1632]/usr/local/lib/python3.7/dist-packages/mir_eval/onset.py:51: UserWarning: Estimated onsets are empty.\n",
            "  warnings.warn(\"Estimated onsets are empty.\")\n",
            "Validation:  90%|█████████ | 9/10 [00:01<00:00,  7.68it/s, loss=0.1700]/usr/local/lib/python3.7/dist-packages/mir_eval/onset.py:51: UserWarning: Estimated onsets are empty.\n",
            "  warnings.warn(\"Estimated onsets are empty.\")\n"
          ]
        },
        {
          "output_type": "stream",
          "name": "stdout",
          "text": [
            "Epoch 2/50: Train Loss 0.1859, Learning Rate 0.0010, Validation Loss 0.1718, F1 Score 0.0000, Precision 0.0000, Recall 0.0000, AUC 0.6343\n"
          ]
        },
        {
          "output_type": "stream",
          "name": "stderr",
          "text": [
            "Validation:   0%|          | 0/10 [00:00<?, ?it/s]/usr/local/lib/python3.7/dist-packages/mir_eval/onset.py:51: UserWarning: Estimated onsets are empty.\n",
            "  warnings.warn(\"Estimated onsets are empty.\")\n",
            "Validation:  10%|█         | 1/10 [00:01<00:09,  1.08s/it, loss=0.1399]/usr/local/lib/python3.7/dist-packages/mir_eval/onset.py:51: UserWarning: Estimated onsets are empty.\n",
            "  warnings.warn(\"Estimated onsets are empty.\")\n",
            "Validation:  20%|██        | 2/10 [00:01<00:04,  1.96it/s, loss=0.1600]/usr/local/lib/python3.7/dist-packages/mir_eval/onset.py:51: UserWarning: Estimated onsets are empty.\n",
            "  warnings.warn(\"Estimated onsets are empty.\")\n",
            "Validation:  20%|██        | 2/10 [00:01<00:04,  1.96it/s, loss=0.1593]/usr/local/lib/python3.7/dist-packages/mir_eval/onset.py:51: UserWarning: Estimated onsets are empty.\n",
            "  warnings.warn(\"Estimated onsets are empty.\")\n",
            "Validation:  40%|████      | 4/10 [00:01<00:01,  4.15it/s, loss=0.1495]/usr/local/lib/python3.7/dist-packages/mir_eval/onset.py:51: UserWarning: Estimated onsets are empty.\n",
            "  warnings.warn(\"Estimated onsets are empty.\")\n",
            "Validation:  50%|█████     | 5/10 [00:01<00:01,  4.99it/s, loss=0.1590]/usr/local/lib/python3.7/dist-packages/mir_eval/onset.py:51: UserWarning: Estimated onsets are empty.\n",
            "  warnings.warn(\"Estimated onsets are empty.\")\n",
            "Validation:  50%|█████     | 5/10 [00:01<00:01,  4.99it/s, loss=0.1616]/usr/local/lib/python3.7/dist-packages/mir_eval/onset.py:51: UserWarning: Estimated onsets are empty.\n",
            "  warnings.warn(\"Estimated onsets are empty.\")\n",
            "Validation:  70%|███████   | 7/10 [00:01<00:00,  7.05it/s, loss=0.1629]/usr/local/lib/python3.7/dist-packages/mir_eval/onset.py:51: UserWarning: Estimated onsets are empty.\n",
            "  warnings.warn(\"Estimated onsets are empty.\")\n",
            "Validation:  70%|███████   | 7/10 [00:01<00:00,  7.05it/s, loss=0.1634]/usr/local/lib/python3.7/dist-packages/mir_eval/onset.py:51: UserWarning: Estimated onsets are empty.\n",
            "  warnings.warn(\"Estimated onsets are empty.\")\n",
            "Validation:  90%|█████████ | 9/10 [00:01<00:00,  8.36it/s, loss=0.1699]/usr/local/lib/python3.7/dist-packages/mir_eval/onset.py:51: UserWarning: Estimated onsets are empty.\n",
            "  warnings.warn(\"Estimated onsets are empty.\")\n"
          ]
        },
        {
          "output_type": "stream",
          "name": "stdout",
          "text": [
            "Epoch 3/50: Train Loss 0.1812, Learning Rate 0.0010, Validation Loss 0.1718, F1 Score 0.0000, Precision 0.0000, Recall 0.0000, AUC 0.6351\n"
          ]
        },
        {
          "output_type": "stream",
          "name": "stderr",
          "text": [
            "Validation:   0%|          | 0/10 [00:00<?, ?it/s]/usr/local/lib/python3.7/dist-packages/mir_eval/onset.py:51: UserWarning: Estimated onsets are empty.\n",
            "  warnings.warn(\"Estimated onsets are empty.\")\n",
            "Validation:  10%|█         | 1/10 [00:01<00:10,  1.13s/it, loss=0.1384]/usr/local/lib/python3.7/dist-packages/mir_eval/onset.py:51: UserWarning: Estimated onsets are empty.\n",
            "  warnings.warn(\"Estimated onsets are empty.\")\n",
            "Validation:  20%|██        | 2/10 [00:01<00:04,  1.89it/s, loss=0.1590]/usr/local/lib/python3.7/dist-packages/mir_eval/onset.py:51: UserWarning: Estimated onsets are empty.\n",
            "  warnings.warn(\"Estimated onsets are empty.\")\n",
            "Validation:  20%|██        | 2/10 [00:01<00:04,  1.89it/s, loss=0.1585]/usr/local/lib/python3.7/dist-packages/mir_eval/onset.py:51: UserWarning: Estimated onsets are empty.\n",
            "  warnings.warn(\"Estimated onsets are empty.\")\n",
            "Validation:  40%|████      | 4/10 [00:01<00:01,  3.89it/s, loss=0.1488]/usr/local/lib/python3.7/dist-packages/mir_eval/onset.py:51: UserWarning: Estimated onsets are empty.\n",
            "  warnings.warn(\"Estimated onsets are empty.\")\n",
            "Validation:  50%|█████     | 5/10 [00:01<00:01,  4.74it/s, loss=0.1584]/usr/local/lib/python3.7/dist-packages/mir_eval/onset.py:51: UserWarning: Estimated onsets are empty.\n",
            "  warnings.warn(\"Estimated onsets are empty.\")\n",
            "Validation:  50%|█████     | 5/10 [00:01<00:01,  4.74it/s, loss=0.1611]/usr/local/lib/python3.7/dist-packages/mir_eval/onset.py:51: UserWarning: Estimated onsets are empty.\n",
            "  warnings.warn(\"Estimated onsets are empty.\")\n",
            "Validation:  70%|███████   | 7/10 [00:01<00:00,  6.64it/s, loss=0.1624]/usr/local/lib/python3.7/dist-packages/mir_eval/onset.py:51: UserWarning: Estimated onsets are empty.\n",
            "  warnings.warn(\"Estimated onsets are empty.\")\n",
            "Validation:  70%|███████   | 7/10 [00:01<00:00,  6.64it/s, loss=0.1633]/usr/local/lib/python3.7/dist-packages/mir_eval/onset.py:51: UserWarning: Estimated onsets are empty.\n",
            "  warnings.warn(\"Estimated onsets are empty.\")\n",
            "Validation:  90%|█████████ | 9/10 [00:01<00:00,  7.92it/s, loss=0.1699]/usr/local/lib/python3.7/dist-packages/mir_eval/onset.py:51: UserWarning: Estimated onsets are empty.\n",
            "  warnings.warn(\"Estimated onsets are empty.\")\n"
          ]
        },
        {
          "output_type": "stream",
          "name": "stdout",
          "text": [
            "Epoch 4/50: Train Loss 0.1793, Learning Rate 0.0010, Validation Loss 0.1719, F1 Score 0.0000, Precision 0.0000, Recall 0.0000, AUC 0.6312\n"
          ]
        },
        {
          "output_type": "stream",
          "name": "stderr",
          "text": [
            "Validation:   0%|          | 0/10 [00:00<?, ?it/s]/usr/local/lib/python3.7/dist-packages/mir_eval/onset.py:51: UserWarning: Estimated onsets are empty.\n",
            "  warnings.warn(\"Estimated onsets are empty.\")\n",
            "Validation:  10%|█         | 1/10 [00:01<00:09,  1.04s/it, loss=0.1389]/usr/local/lib/python3.7/dist-packages/mir_eval/onset.py:51: UserWarning: Estimated onsets are empty.\n",
            "  warnings.warn(\"Estimated onsets are empty.\")\n",
            "Validation:  20%|██        | 2/10 [00:01<00:03,  2.01it/s, loss=0.1594]/usr/local/lib/python3.7/dist-packages/mir_eval/onset.py:51: UserWarning: Estimated onsets are empty.\n",
            "  warnings.warn(\"Estimated onsets are empty.\")\n",
            "Validation:  30%|███       | 3/10 [00:01<00:02,  3.15it/s, loss=0.1582]/usr/local/lib/python3.7/dist-packages/mir_eval/onset.py:51: UserWarning: Estimated onsets are empty.\n",
            "  warnings.warn(\"Estimated onsets are empty.\")\n",
            "Validation:  30%|███       | 3/10 [00:01<00:02,  3.15it/s, loss=0.1484]/usr/local/lib/python3.7/dist-packages/mir_eval/onset.py:51: UserWarning: Estimated onsets are empty.\n",
            "  warnings.warn(\"Estimated onsets are empty.\")\n",
            "Validation:  50%|█████     | 5/10 [00:01<00:00,  5.33it/s, loss=0.1581]/usr/local/lib/python3.7/dist-packages/mir_eval/onset.py:51: UserWarning: Estimated onsets are empty.\n",
            "  warnings.warn(\"Estimated onsets are empty.\")\n",
            "Validation:  50%|█████     | 5/10 [00:01<00:00,  5.33it/s, loss=0.1606]/usr/local/lib/python3.7/dist-packages/mir_eval/onset.py:51: UserWarning: Estimated onsets are empty.\n",
            "  warnings.warn(\"Estimated onsets are empty.\")\n",
            "Validation:  70%|███████   | 7/10 [00:01<00:00,  7.18it/s, loss=0.1620]/usr/local/lib/python3.7/dist-packages/mir_eval/onset.py:51: UserWarning: Estimated onsets are empty.\n",
            "  warnings.warn(\"Estimated onsets are empty.\")\n",
            "Validation:  70%|███████   | 7/10 [00:01<00:00,  7.18it/s, loss=0.1628]/usr/local/lib/python3.7/dist-packages/mir_eval/onset.py:51: UserWarning: Estimated onsets are empty.\n",
            "  warnings.warn(\"Estimated onsets are empty.\")\n",
            "Validation:  90%|█████████ | 9/10 [00:01<00:00,  8.38it/s, loss=0.1693]/usr/local/lib/python3.7/dist-packages/mir_eval/onset.py:51: UserWarning: Estimated onsets are empty.\n",
            "  warnings.warn(\"Estimated onsets are empty.\")\n"
          ]
        },
        {
          "output_type": "stream",
          "name": "stdout",
          "text": [
            "Epoch 5/50: Train Loss 0.1767, Learning Rate 0.0010, Validation Loss 0.1713, F1 Score 0.0000, Precision 0.0000, Recall 0.0000, AUC 0.6368\n"
          ]
        },
        {
          "output_type": "stream",
          "name": "stderr",
          "text": [
            "Validation:   0%|          | 0/10 [00:00<?, ?it/s]/usr/local/lib/python3.7/dist-packages/mir_eval/onset.py:51: UserWarning: Estimated onsets are empty.\n",
            "  warnings.warn(\"Estimated onsets are empty.\")\n",
            "Validation:  10%|█         | 1/10 [00:00<00:08,  1.00it/s, loss=0.1381]/usr/local/lib/python3.7/dist-packages/mir_eval/onset.py:51: UserWarning: Estimated onsets are empty.\n",
            "  warnings.warn(\"Estimated onsets are empty.\")\n",
            "Validation:  20%|██        | 2/10 [00:01<00:03,  2.10it/s, loss=0.1586]/usr/local/lib/python3.7/dist-packages/mir_eval/onset.py:51: UserWarning: Estimated onsets are empty.\n",
            "  warnings.warn(\"Estimated onsets are empty.\")\n",
            "Validation:  30%|███       | 3/10 [00:01<00:02,  3.27it/s, loss=0.1576]/usr/local/lib/python3.7/dist-packages/mir_eval/onset.py:51: UserWarning: Estimated onsets are empty.\n",
            "  warnings.warn(\"Estimated onsets are empty.\")\n",
            "Validation:  30%|███       | 3/10 [00:01<00:02,  3.27it/s, loss=0.1479]/usr/local/lib/python3.7/dist-packages/mir_eval/onset.py:51: UserWarning: Estimated onsets are empty.\n",
            "  warnings.warn(\"Estimated onsets are empty.\")\n",
            "Validation:  50%|█████     | 5/10 [00:01<00:00,  5.39it/s, loss=0.1576]/usr/local/lib/python3.7/dist-packages/mir_eval/onset.py:51: UserWarning: Estimated onsets are empty.\n",
            "  warnings.warn(\"Estimated onsets are empty.\")\n",
            "Validation:  50%|█████     | 5/10 [00:01<00:00,  5.39it/s, loss=0.1601]/usr/local/lib/python3.7/dist-packages/mir_eval/onset.py:51: UserWarning: Estimated onsets are empty.\n",
            "  warnings.warn(\"Estimated onsets are empty.\")\n",
            "Validation:  70%|███████   | 7/10 [00:01<00:00,  7.31it/s, loss=0.1615]/usr/local/lib/python3.7/dist-packages/mir_eval/onset.py:51: UserWarning: Estimated onsets are empty.\n",
            "  warnings.warn(\"Estimated onsets are empty.\")\n",
            "Validation:  70%|███████   | 7/10 [00:01<00:00,  7.31it/s, loss=0.1628]/usr/local/lib/python3.7/dist-packages/mir_eval/onset.py:51: UserWarning: Estimated onsets are empty.\n",
            "  warnings.warn(\"Estimated onsets are empty.\")\n",
            "Validation:  90%|█████████ | 9/10 [00:01<00:00,  8.74it/s, loss=0.1693]/usr/local/lib/python3.7/dist-packages/mir_eval/onset.py:51: UserWarning: Estimated onsets are empty.\n",
            "  warnings.warn(\"Estimated onsets are empty.\")\n"
          ]
        },
        {
          "output_type": "stream",
          "name": "stdout",
          "text": [
            "Epoch 6/50: Train Loss 0.1742, Learning Rate 0.0010, Validation Loss 0.1717, F1 Score 0.0000, Precision 0.0000, Recall 0.0000, AUC 0.6341\n"
          ]
        },
        {
          "output_type": "stream",
          "name": "stderr",
          "text": [
            "Validation:   0%|          | 0/10 [00:00<?, ?it/s]/usr/local/lib/python3.7/dist-packages/mir_eval/onset.py:51: UserWarning: Estimated onsets are empty.\n",
            "  warnings.warn(\"Estimated onsets are empty.\")\n",
            "Validation:  10%|█         | 1/10 [00:01<00:09,  1.06s/it, loss=0.1374]/usr/local/lib/python3.7/dist-packages/mir_eval/onset.py:51: UserWarning: Estimated onsets are empty.\n",
            "  warnings.warn(\"Estimated onsets are empty.\")\n",
            "Validation:  20%|██        | 2/10 [00:01<00:03,  2.02it/s, loss=0.1586]/usr/local/lib/python3.7/dist-packages/mir_eval/onset.py:51: UserWarning: Estimated onsets are empty.\n",
            "  warnings.warn(\"Estimated onsets are empty.\")\n",
            "Validation:  20%|██        | 2/10 [00:01<00:03,  2.02it/s, loss=0.1575]/usr/local/lib/python3.7/dist-packages/mir_eval/onset.py:51: UserWarning: Estimated onsets are empty.\n",
            "  warnings.warn(\"Estimated onsets are empty.\")\n",
            "Validation:  40%|████      | 4/10 [00:01<00:01,  4.14it/s, loss=0.1474]/usr/local/lib/python3.7/dist-packages/mir_eval/onset.py:51: UserWarning: Estimated onsets are empty.\n",
            "  warnings.warn(\"Estimated onsets are empty.\")\n",
            "Validation:  40%|████      | 4/10 [00:01<00:01,  4.14it/s, loss=0.1574]/usr/local/lib/python3.7/dist-packages/mir_eval/onset.py:51: UserWarning: Estimated onsets are empty.\n",
            "  warnings.warn(\"Estimated onsets are empty.\")\n",
            "Validation:  60%|██████    | 6/10 [00:01<00:00,  5.93it/s, loss=0.1598]/usr/local/lib/python3.7/dist-packages/mir_eval/onset.py:51: UserWarning: Estimated onsets are empty.\n",
            "  warnings.warn(\"Estimated onsets are empty.\")\n",
            "Validation:  60%|██████    | 6/10 [00:01<00:00,  5.93it/s, loss=0.1612]/usr/local/lib/python3.7/dist-packages/mir_eval/onset.py:51: UserWarning: Estimated onsets are empty.\n",
            "  warnings.warn(\"Estimated onsets are empty.\")\n",
            "Validation:  80%|████████  | 8/10 [00:01<00:00,  7.58it/s, loss=0.1620]/usr/local/lib/python3.7/dist-packages/mir_eval/onset.py:51: UserWarning: Estimated onsets are empty.\n",
            "  warnings.warn(\"Estimated onsets are empty.\")\n",
            "Validation:  80%|████████  | 8/10 [00:01<00:00,  7.58it/s, loss=0.1688]/usr/local/lib/python3.7/dist-packages/mir_eval/onset.py:51: UserWarning: Estimated onsets are empty.\n",
            "  warnings.warn(\"Estimated onsets are empty.\")\n"
          ]
        },
        {
          "output_type": "stream",
          "name": "stdout",
          "text": [
            "Epoch 7/50: Train Loss 0.1708, Learning Rate 0.0010, Validation Loss 0.1723, F1 Score 0.0000, Precision 0.0000, Recall 0.0000, AUC 0.6307\n"
          ]
        },
        {
          "output_type": "stream",
          "name": "stderr",
          "text": [
            "Validation:   0%|          | 0/10 [00:00<?, ?it/s]/usr/local/lib/python3.7/dist-packages/mir_eval/onset.py:51: UserWarning: Estimated onsets are empty.\n",
            "  warnings.warn(\"Estimated onsets are empty.\")\n",
            "Validation:  10%|█         | 1/10 [00:01<00:09,  1.06s/it, loss=0.1372]/usr/local/lib/python3.7/dist-packages/mir_eval/onset.py:51: UserWarning: Estimated onsets are empty.\n",
            "  warnings.warn(\"Estimated onsets are empty.\")\n",
            "Validation:  20%|██        | 2/10 [00:01<00:04,  1.95it/s, loss=0.1582]/usr/local/lib/python3.7/dist-packages/mir_eval/onset.py:51: UserWarning: Estimated onsets are empty.\n",
            "  warnings.warn(\"Estimated onsets are empty.\")\n",
            "Validation:  20%|██        | 2/10 [00:01<00:04,  1.95it/s, loss=0.1571]/usr/local/lib/python3.7/dist-packages/mir_eval/onset.py:51: UserWarning: Estimated onsets are empty.\n",
            "  warnings.warn(\"Estimated onsets are empty.\")\n",
            "Validation:  40%|████      | 4/10 [00:01<00:01,  3.99it/s, loss=0.1471]/usr/local/lib/python3.7/dist-packages/mir_eval/onset.py:51: UserWarning: Estimated onsets are empty.\n",
            "  warnings.warn(\"Estimated onsets are empty.\")\n",
            "Validation:  40%|████      | 4/10 [00:01<00:01,  3.99it/s, loss=0.1568]/usr/local/lib/python3.7/dist-packages/mir_eval/onset.py:51: UserWarning: Estimated onsets are empty.\n",
            "  warnings.warn(\"Estimated onsets are empty.\")\n",
            "Validation:  60%|██████    | 6/10 [00:01<00:00,  5.72it/s, loss=0.1591]/usr/local/lib/python3.7/dist-packages/mir_eval/onset.py:51: UserWarning: Estimated onsets are empty.\n",
            "  warnings.warn(\"Estimated onsets are empty.\")\n",
            "Validation:  60%|██████    | 6/10 [00:01<00:00,  5.72it/s, loss=0.1605]/usr/local/lib/python3.7/dist-packages/mir_eval/onset.py:51: UserWarning: Estimated onsets are empty.\n",
            "  warnings.warn(\"Estimated onsets are empty.\")\n",
            "Validation:  80%|████████  | 8/10 [00:01<00:00,  7.26it/s, loss=0.1622]/usr/local/lib/python3.7/dist-packages/mir_eval/onset.py:51: UserWarning: Estimated onsets are empty.\n",
            "  warnings.warn(\"Estimated onsets are empty.\")\n",
            "Validation:  80%|████████  | 8/10 [00:01<00:00,  7.26it/s, loss=0.1690]/usr/local/lib/python3.7/dist-packages/mir_eval/onset.py:51: UserWarning: Estimated onsets are empty.\n",
            "  warnings.warn(\"Estimated onsets are empty.\")\n"
          ]
        },
        {
          "output_type": "stream",
          "name": "stdout",
          "text": [
            "Epoch 8/50: Train Loss 0.1657, Learning Rate 0.0010, Validation Loss 0.1730, F1 Score 0.0000, Precision 0.0000, Recall 0.0000, AUC 0.6227\n"
          ]
        },
        {
          "output_type": "stream",
          "name": "stderr",
          "text": [
            "Validation:   0%|          | 0/10 [00:00<?, ?it/s]/usr/local/lib/python3.7/dist-packages/mir_eval/onset.py:51: UserWarning: Estimated onsets are empty.\n",
            "  warnings.warn(\"Estimated onsets are empty.\")\n",
            "Validation:  10%|█         | 1/10 [00:01<00:09,  1.03s/it, loss=0.1379]/usr/local/lib/python3.7/dist-packages/mir_eval/onset.py:51: UserWarning: Estimated onsets are empty.\n",
            "  warnings.warn(\"Estimated onsets are empty.\")\n",
            "Validation:  10%|█         | 1/10 [00:01<00:09,  1.03s/it, loss=0.1588]/usr/local/lib/python3.7/dist-packages/mir_eval/onset.py:51: UserWarning: Estimated onsets are empty.\n",
            "  warnings.warn(\"Estimated onsets are empty.\")\n",
            "Validation:  30%|███       | 3/10 [00:01<00:02,  2.92it/s, loss=0.1577]/usr/local/lib/python3.7/dist-packages/mir_eval/onset.py:51: UserWarning: Estimated onsets are empty.\n",
            "  warnings.warn(\"Estimated onsets are empty.\")\n",
            "Validation:  30%|███       | 3/10 [00:01<00:02,  2.92it/s, loss=0.1476]/usr/local/lib/python3.7/dist-packages/mir_eval/onset.py:51: UserWarning: Estimated onsets are empty.\n",
            "  warnings.warn(\"Estimated onsets are empty.\")\n",
            "Validation:  50%|█████     | 5/10 [00:01<00:01,  4.72it/s, loss=0.1573]/usr/local/lib/python3.7/dist-packages/mir_eval/onset.py:51: UserWarning: Estimated onsets are empty.\n",
            "  warnings.warn(\"Estimated onsets are empty.\")\n",
            "Validation:  50%|█████     | 5/10 [00:01<00:01,  4.72it/s, loss=0.1597]/usr/local/lib/python3.7/dist-packages/mir_eval/onset.py:51: UserWarning: Estimated onsets are empty.\n",
            "  warnings.warn(\"Estimated onsets are empty.\")\n",
            "Validation:  70%|███████   | 7/10 [00:01<00:00,  6.44it/s, loss=0.1611]/usr/local/lib/python3.7/dist-packages/mir_eval/onset.py:51: UserWarning: Estimated onsets are empty.\n",
            "  warnings.warn(\"Estimated onsets are empty.\")\n",
            "Validation:  70%|███████   | 7/10 [00:01<00:00,  6.44it/s, loss=0.1632]/usr/local/lib/python3.7/dist-packages/mir_eval/onset.py:51: UserWarning: Estimated onsets are empty.\n",
            "  warnings.warn(\"Estimated onsets are empty.\")\n",
            "Validation:  90%|█████████ | 9/10 [00:01<00:00,  7.92it/s, loss=0.1699]/usr/local/lib/python3.7/dist-packages/mir_eval/onset.py:51: UserWarning: Estimated onsets are empty.\n",
            "  warnings.warn(\"Estimated onsets are empty.\")\n"
          ]
        },
        {
          "output_type": "stream",
          "name": "stdout",
          "text": [
            "Epoch 9/50: Train Loss 0.1615, Learning Rate 0.0010, Validation Loss 0.1742, F1 Score 0.0000, Precision 0.0000, Recall 0.0000, AUC 0.6110\n"
          ]
        },
        {
          "output_type": "stream",
          "name": "stderr",
          "text": [
            "Validation:   0%|          | 0/10 [00:00<?, ?it/s]/usr/local/lib/python3.7/dist-packages/mir_eval/onset.py:51: UserWarning: Estimated onsets are empty.\n",
            "  warnings.warn(\"Estimated onsets are empty.\")\n",
            "Validation:  10%|█         | 1/10 [00:01<00:09,  1.07s/it, loss=0.1383]/usr/local/lib/python3.7/dist-packages/mir_eval/onset.py:51: UserWarning: Estimated onsets are empty.\n",
            "  warnings.warn(\"Estimated onsets are empty.\")\n",
            "Validation:  10%|█         | 1/10 [00:01<00:09,  1.07s/it, loss=0.1593]/usr/local/lib/python3.7/dist-packages/mir_eval/onset.py:51: UserWarning: Estimated onsets are empty.\n",
            "  warnings.warn(\"Estimated onsets are empty.\")\n",
            "Validation:  30%|███       | 3/10 [00:01<00:02,  2.86it/s, loss=0.1580]/usr/local/lib/python3.7/dist-packages/mir_eval/onset.py:51: UserWarning: Estimated onsets are empty.\n",
            "  warnings.warn(\"Estimated onsets are empty.\")\n",
            "Validation:  30%|███       | 3/10 [00:01<00:02,  2.86it/s, loss=0.1479]/usr/local/lib/python3.7/dist-packages/mir_eval/onset.py:51: UserWarning: Estimated onsets are empty.\n",
            "  warnings.warn(\"Estimated onsets are empty.\")\n",
            "Validation:  50%|█████     | 5/10 [00:01<00:01,  4.68it/s, loss=0.1576]/usr/local/lib/python3.7/dist-packages/mir_eval/onset.py:51: UserWarning: Estimated onsets are empty.\n",
            "  warnings.warn(\"Estimated onsets are empty.\")\n",
            "Validation:  50%|█████     | 5/10 [00:01<00:01,  4.68it/s, loss=0.1597]/usr/local/lib/python3.7/dist-packages/mir_eval/onset.py:51: UserWarning: Estimated onsets are empty.\n",
            "  warnings.warn(\"Estimated onsets are empty.\")\n",
            "Validation:  70%|███████   | 7/10 [00:01<00:00,  6.26it/s, loss=0.1611]/usr/local/lib/python3.7/dist-packages/mir_eval/onset.py:51: UserWarning: Estimated onsets are empty.\n",
            "  warnings.warn(\"Estimated onsets are empty.\")\n",
            "Validation:  70%|███████   | 7/10 [00:01<00:00,  6.26it/s, loss=0.1640]/usr/local/lib/python3.7/dist-packages/mir_eval/onset.py:51: UserWarning: Estimated onsets are empty.\n",
            "  warnings.warn(\"Estimated onsets are empty.\")\n",
            "Validation:  90%|█████████ | 9/10 [00:01<00:00,  7.69it/s, loss=0.1705]/usr/local/lib/python3.7/dist-packages/mir_eval/onset.py:51: UserWarning: Estimated onsets are empty.\n",
            "  warnings.warn(\"Estimated onsets are empty.\")\n"
          ]
        },
        {
          "output_type": "stream",
          "name": "stdout",
          "text": [
            "Epoch 10/50: Train Loss 0.1587, Learning Rate 0.0010, Validation Loss 0.1749, F1 Score 0.0000, Precision 0.0000, Recall 0.0000, AUC 0.6031\n"
          ]
        },
        {
          "output_type": "stream",
          "name": "stderr",
          "text": [
            "Validation:   0%|          | 0/10 [00:00<?, ?it/s]/usr/local/lib/python3.7/dist-packages/mir_eval/onset.py:51: UserWarning: Estimated onsets are empty.\n",
            "  warnings.warn(\"Estimated onsets are empty.\")\n",
            "Validation:  10%|█         | 1/10 [00:01<00:09,  1.04s/it, loss=0.1379]/usr/local/lib/python3.7/dist-packages/mir_eval/onset.py:51: UserWarning: Estimated onsets are empty.\n",
            "  warnings.warn(\"Estimated onsets are empty.\")\n",
            "Validation:  20%|██        | 2/10 [00:01<00:03,  2.02it/s, loss=0.1593]/usr/local/lib/python3.7/dist-packages/mir_eval/onset.py:51: UserWarning: Estimated onsets are empty.\n",
            "  warnings.warn(\"Estimated onsets are empty.\")\n",
            "Validation:  20%|██        | 2/10 [00:01<00:03,  2.02it/s, loss=0.1580]/usr/local/lib/python3.7/dist-packages/mir_eval/onset.py:51: UserWarning: Estimated onsets are empty.\n",
            "  warnings.warn(\"Estimated onsets are empty.\")\n",
            "Validation:  40%|████      | 4/10 [00:01<00:01,  4.10it/s, loss=0.1479]/usr/local/lib/python3.7/dist-packages/mir_eval/onset.py:51: UserWarning: Estimated onsets are empty.\n",
            "  warnings.warn(\"Estimated onsets are empty.\")\n",
            "Validation:  40%|████      | 4/10 [00:01<00:01,  4.10it/s, loss=0.1578]/usr/local/lib/python3.7/dist-packages/mir_eval/onset.py:51: UserWarning: Estimated onsets are empty.\n",
            "  warnings.warn(\"Estimated onsets are empty.\")\n",
            "Validation:  60%|██████    | 6/10 [00:01<00:00,  5.77it/s, loss=0.1602]/usr/local/lib/python3.7/dist-packages/mir_eval/onset.py:51: UserWarning: Estimated onsets are empty.\n",
            "  warnings.warn(\"Estimated onsets are empty.\")\n",
            "Validation:  60%|██████    | 6/10 [00:01<00:00,  5.77it/s, loss=0.1615]/usr/local/lib/python3.7/dist-packages/mir_eval/onset.py:51: UserWarning: Estimated onsets are empty.\n",
            "  warnings.warn(\"Estimated onsets are empty.\")\n",
            "Validation:  80%|████████  | 8/10 [00:01<00:00,  7.34it/s, loss=0.1643]/usr/local/lib/python3.7/dist-packages/mir_eval/onset.py:51: UserWarning: Estimated onsets are empty.\n",
            "  warnings.warn(\"Estimated onsets are empty.\")\n",
            "Validation:  80%|████████  | 8/10 [00:01<00:00,  7.34it/s, loss=0.1709]/usr/local/lib/python3.7/dist-packages/mir_eval/onset.py:51: UserWarning: Estimated onsets are empty.\n",
            "  warnings.warn(\"Estimated onsets are empty.\")\n"
          ]
        },
        {
          "output_type": "stream",
          "name": "stdout",
          "text": [
            "Epoch 11/50: Train Loss 0.1558, Learning Rate 0.0010, Validation Loss 0.1751, F1 Score 0.0000, Precision 0.0000, Recall 0.0000, AUC 0.6029\n"
          ]
        },
        {
          "output_type": "stream",
          "name": "stderr",
          "text": [
            "Validation:   0%|          | 0/10 [00:00<?, ?it/s]/usr/local/lib/python3.7/dist-packages/mir_eval/onset.py:51: UserWarning: Estimated onsets are empty.\n",
            "  warnings.warn(\"Estimated onsets are empty.\")\n",
            "Validation:  10%|█         | 1/10 [00:01<00:09,  1.08s/it, loss=0.1396]/usr/local/lib/python3.7/dist-packages/mir_eval/onset.py:51: UserWarning: Estimated onsets are empty.\n",
            "  warnings.warn(\"Estimated onsets are empty.\")\n",
            "Validation:  20%|██        | 2/10 [00:01<00:04,  1.96it/s, loss=0.1602]/usr/local/lib/python3.7/dist-packages/mir_eval/onset.py:51: UserWarning: Estimated onsets are empty.\n",
            "  warnings.warn(\"Estimated onsets are empty.\")\n",
            "Validation:  20%|██        | 2/10 [00:01<00:04,  1.96it/s, loss=0.1589]/usr/local/lib/python3.7/dist-packages/mir_eval/onset.py:51: UserWarning: Estimated onsets are empty.\n",
            "  warnings.warn(\"Estimated onsets are empty.\")\n",
            "Validation:  40%|████      | 4/10 [00:01<00:01,  4.11it/s, loss=0.1493]/usr/local/lib/python3.7/dist-packages/mir_eval/onset.py:51: UserWarning: Estimated onsets are empty.\n",
            "  warnings.warn(\"Estimated onsets are empty.\")\n",
            "Validation:  40%|████      | 4/10 [00:01<00:01,  4.11it/s, loss=0.1588]/usr/local/lib/python3.7/dist-packages/mir_eval/onset.py:51: UserWarning: Estimated onsets are empty.\n",
            "  warnings.warn(\"Estimated onsets are empty.\")\n",
            "Validation:  60%|██████    | 6/10 [00:01<00:00,  5.91it/s, loss=0.1612]/usr/local/lib/python3.7/dist-packages/mir_eval/onset.py:51: UserWarning: Estimated onsets are empty.\n",
            "  warnings.warn(\"Estimated onsets are empty.\")\n",
            "Validation:  60%|██████    | 6/10 [00:01<00:00,  5.91it/s, loss=0.1624]/usr/local/lib/python3.7/dist-packages/mir_eval/onset.py:51: UserWarning: Estimated onsets are empty.\n",
            "  warnings.warn(\"Estimated onsets are empty.\")\n",
            "Validation:  80%|████████  | 8/10 [00:01<00:00,  7.39it/s, loss=0.1653]/usr/local/lib/python3.7/dist-packages/mir_eval/onset.py:51: UserWarning: Estimated onsets are empty.\n",
            "  warnings.warn(\"Estimated onsets are empty.\")\n",
            "Validation:  80%|████████  | 8/10 [00:01<00:00,  7.39it/s, loss=0.1718]/usr/local/lib/python3.7/dist-packages/mir_eval/onset.py:51: UserWarning: Estimated onsets are empty.\n",
            "  warnings.warn(\"Estimated onsets are empty.\")\n"
          ]
        },
        {
          "output_type": "stream",
          "name": "stdout",
          "text": [
            "Epoch 12/50: Train Loss 0.1532, Learning Rate 0.0010, Validation Loss 0.1765, F1 Score 0.0000, Precision 0.0000, Recall 0.0000, AUC 0.5910\n"
          ]
        },
        {
          "output_type": "stream",
          "name": "stderr",
          "text": [
            "Validation:   0%|          | 0/10 [00:00<?, ?it/s]/usr/local/lib/python3.7/dist-packages/mir_eval/onset.py:51: UserWarning: Estimated onsets are empty.\n",
            "  warnings.warn(\"Estimated onsets are empty.\")\n",
            "Validation:  10%|█         | 1/10 [00:01<00:09,  1.03s/it, loss=0.1388]/usr/local/lib/python3.7/dist-packages/mir_eval/onset.py:51: UserWarning: Estimated onsets are empty.\n",
            "  warnings.warn(\"Estimated onsets are empty.\")\n",
            "Validation:  20%|██        | 2/10 [00:01<00:03,  2.02it/s, loss=0.1608]/usr/local/lib/python3.7/dist-packages/mir_eval/onset.py:51: UserWarning: Estimated onsets are empty.\n",
            "  warnings.warn(\"Estimated onsets are empty.\")\n",
            "Validation:  20%|██        | 2/10 [00:01<00:03,  2.02it/s, loss=0.1588]/usr/local/lib/python3.7/dist-packages/mir_eval/onset.py:51: UserWarning: Estimated onsets are empty.\n",
            "  warnings.warn(\"Estimated onsets are empty.\")\n",
            "Validation:  40%|████      | 4/10 [00:01<00:01,  4.26it/s, loss=0.1489]/usr/local/lib/python3.7/dist-packages/mir_eval/onset.py:51: UserWarning: Estimated onsets are empty.\n",
            "  warnings.warn(\"Estimated onsets are empty.\")\n",
            "Validation:  60%|██████    | 6/10 [00:01<00:00,  6.03it/s, loss=0.1613]/usr/local/lib/python3.7/dist-packages/mir_eval/onset.py:51: UserWarning: Estimated onsets are empty.\n",
            "  warnings.warn(\"Estimated onsets are empty.\")\n",
            "Validation:  60%|██████    | 6/10 [00:01<00:00,  6.03it/s, loss=0.1625]/usr/local/lib/python3.7/dist-packages/mir_eval/onset.py:51: UserWarning: Estimated onsets are empty.\n",
            "  warnings.warn(\"Estimated onsets are empty.\")\n",
            "Validation:  80%|████████  | 8/10 [00:01<00:00,  7.68it/s, loss=0.1658]/usr/local/lib/python3.7/dist-packages/mir_eval/onset.py:51: UserWarning: Estimated onsets are empty.\n",
            "  warnings.warn(\"Estimated onsets are empty.\")\n",
            "Validation:  80%|████████  | 8/10 [00:01<00:00,  7.68it/s, loss=0.1725]/usr/local/lib/python3.7/dist-packages/mir_eval/onset.py:51: UserWarning: Estimated onsets are empty.\n",
            "  warnings.warn(\"Estimated onsets are empty.\")\n"
          ]
        },
        {
          "output_type": "stream",
          "name": "stdout",
          "text": [
            "Epoch 13/50: Train Loss 0.1499, Learning Rate 0.0010, Validation Loss 0.1775, F1 Score 0.0000, Precision 0.0000, Recall 0.0000, AUC 0.5882\n"
          ]
        },
        {
          "output_type": "stream",
          "name": "stderr",
          "text": [
            "Validation:   0%|          | 0/10 [00:00<?, ?it/s]/usr/local/lib/python3.7/dist-packages/mir_eval/onset.py:51: UserWarning: Estimated onsets are empty.\n",
            "  warnings.warn(\"Estimated onsets are empty.\")\n",
            "Validation:  10%|█         | 1/10 [00:01<00:09,  1.11s/it, loss=0.1405]/usr/local/lib/python3.7/dist-packages/mir_eval/onset.py:51: UserWarning: Estimated onsets are empty.\n",
            "  warnings.warn(\"Estimated onsets are empty.\")\n",
            "Validation:  10%|█         | 1/10 [00:01<00:09,  1.11s/it, loss=0.1620]/usr/local/lib/python3.7/dist-packages/mir_eval/onset.py:51: UserWarning: Estimated onsets are empty.\n",
            "  warnings.warn(\"Estimated onsets are empty.\")\n",
            "Validation:  30%|███       | 3/10 [00:01<00:02,  2.85it/s, loss=0.1604]/usr/local/lib/python3.7/dist-packages/mir_eval/onset.py:51: UserWarning: Estimated onsets are empty.\n",
            "  warnings.warn(\"Estimated onsets are empty.\")\n",
            "Validation:  30%|███       | 3/10 [00:01<00:02,  2.85it/s, loss=0.1502]/usr/local/lib/python3.7/dist-packages/mir_eval/onset.py:51: UserWarning: Estimated onsets are empty.\n",
            "  warnings.warn(\"Estimated onsets are empty.\")\n",
            "Validation:  50%|█████     | 5/10 [00:01<00:01,  4.69it/s, loss=0.1602]/usr/local/lib/python3.7/dist-packages/mir_eval/onset.py:51: UserWarning: Estimated onsets are empty.\n",
            "  warnings.warn(\"Estimated onsets are empty.\")\n",
            "Validation:  50%|█████     | 5/10 [00:01<00:01,  4.69it/s, loss=0.1625]/usr/local/lib/python3.7/dist-packages/mir_eval/onset.py:51: UserWarning: Estimated onsets are empty.\n",
            "  warnings.warn(\"Estimated onsets are empty.\")\n",
            "Validation:  70%|███████   | 7/10 [00:01<00:00,  6.37it/s, loss=0.1638]/usr/local/lib/python3.7/dist-packages/mir_eval/onset.py:51: UserWarning: Estimated onsets are empty.\n",
            "  warnings.warn(\"Estimated onsets are empty.\")\n",
            "Validation:  70%|███████   | 7/10 [00:01<00:00,  6.37it/s, loss=0.1666]/usr/local/lib/python3.7/dist-packages/mir_eval/onset.py:51: UserWarning: Estimated onsets are empty.\n",
            "  warnings.warn(\"Estimated onsets are empty.\")\n",
            "Validation:  90%|█████████ | 9/10 [00:01<00:00,  7.81it/s, loss=0.1733]/usr/local/lib/python3.7/dist-packages/mir_eval/onset.py:51: UserWarning: Estimated onsets are empty.\n",
            "  warnings.warn(\"Estimated onsets are empty.\")\n"
          ]
        },
        {
          "output_type": "stream",
          "name": "stdout",
          "text": [
            "Epoch 14/50: Train Loss 0.1469, Learning Rate 0.0010, Validation Loss 0.1783, F1 Score 0.0000, Precision 0.0000, Recall 0.0000, AUC 0.5886\n"
          ]
        },
        {
          "output_type": "stream",
          "name": "stderr",
          "text": [
            "Validation:   0%|          | 0/10 [00:00<?, ?it/s]/usr/local/lib/python3.7/dist-packages/mir_eval/onset.py:51: UserWarning: Estimated onsets are empty.\n",
            "  warnings.warn(\"Estimated onsets are empty.\")\n",
            "Validation:  10%|█         | 1/10 [00:01<00:09,  1.04s/it, loss=0.1406]/usr/local/lib/python3.7/dist-packages/mir_eval/onset.py:51: UserWarning: Estimated onsets are empty.\n",
            "  warnings.warn(\"Estimated onsets are empty.\")\n",
            "Validation:  20%|██        | 2/10 [00:01<00:03,  2.02it/s, loss=0.1619]/usr/local/lib/python3.7/dist-packages/mir_eval/onset.py:51: UserWarning: Estimated onsets are empty.\n",
            "  warnings.warn(\"Estimated onsets are empty.\")\n",
            "Validation:  20%|██        | 2/10 [00:01<00:03,  2.02it/s, loss=0.1603]/usr/local/lib/python3.7/dist-packages/mir_eval/onset.py:51: UserWarning: Estimated onsets are empty.\n",
            "  warnings.warn(\"Estimated onsets are empty.\")\n",
            "Validation:  40%|████      | 4/10 [00:01<00:01,  4.16it/s, loss=0.1506]/usr/local/lib/python3.7/dist-packages/mir_eval/onset.py:51: UserWarning: Estimated onsets are empty.\n",
            "  warnings.warn(\"Estimated onsets are empty.\")\n",
            "Validation:  40%|████      | 4/10 [00:01<00:01,  4.16it/s, loss=0.1605]/usr/local/lib/python3.7/dist-packages/mir_eval/onset.py:51: UserWarning: Estimated onsets are empty.\n",
            "  warnings.warn(\"Estimated onsets are empty.\")\n",
            "Validation:  60%|██████    | 6/10 [00:01<00:00,  6.01it/s, loss=0.1630]/usr/local/lib/python3.7/dist-packages/mir_eval/onset.py:51: UserWarning: Estimated onsets are empty.\n",
            "  warnings.warn(\"Estimated onsets are empty.\")\n",
            "Validation:  60%|██████    | 6/10 [00:01<00:00,  6.01it/s, loss=0.1641]/usr/local/lib/python3.7/dist-packages/mir_eval/onset.py:51: UserWarning: Estimated onsets are empty.\n",
            "  warnings.warn(\"Estimated onsets are empty.\")\n",
            "Validation:  80%|████████  | 8/10 [00:01<00:00,  7.47it/s, loss=0.1671]/usr/local/lib/python3.7/dist-packages/mir_eval/onset.py:51: UserWarning: Estimated onsets are empty.\n",
            "  warnings.warn(\"Estimated onsets are empty.\")\n",
            "Validation:  80%|████████  | 8/10 [00:01<00:00,  7.47it/s, loss=0.1738]/usr/local/lib/python3.7/dist-packages/mir_eval/onset.py:51: UserWarning: Estimated onsets are empty.\n",
            "  warnings.warn(\"Estimated onsets are empty.\")\n"
          ]
        },
        {
          "output_type": "stream",
          "name": "stdout",
          "text": [
            "Epoch 15/50: Train Loss 0.1440, Learning Rate 0.0010, Validation Loss 0.1783, F1 Score 0.0000, Precision 0.0000, Recall 0.0000, AUC 0.5914\n"
          ]
        },
        {
          "output_type": "stream",
          "name": "stderr",
          "text": [
            "Validation:   0%|          | 0/10 [00:00<?, ?it/s]/usr/local/lib/python3.7/dist-packages/mir_eval/onset.py:51: UserWarning: Estimated onsets are empty.\n",
            "  warnings.warn(\"Estimated onsets are empty.\")\n",
            "Validation:  10%|█         | 1/10 [00:01<00:10,  1.13s/it, loss=0.1414]/usr/local/lib/python3.7/dist-packages/mir_eval/onset.py:51: UserWarning: Estimated onsets are empty.\n",
            "  warnings.warn(\"Estimated onsets are empty.\")\n",
            "Validation:  20%|██        | 2/10 [00:01<00:04,  1.87it/s, loss=0.1627]/usr/local/lib/python3.7/dist-packages/mir_eval/onset.py:51: UserWarning: Estimated onsets are empty.\n",
            "  warnings.warn(\"Estimated onsets are empty.\")\n",
            "Validation:  40%|████      | 4/10 [00:01<00:01,  3.99it/s, loss=0.1518]/usr/local/lib/python3.7/dist-packages/mir_eval/onset.py:51: UserWarning: Estimated onsets are empty.\n",
            "  warnings.warn(\"Estimated onsets are empty.\")\n",
            "Validation:  60%|██████    | 6/10 [00:01<00:00,  5.70it/s, loss=0.1640]/usr/local/lib/python3.7/dist-packages/mir_eval/onset.py:51: UserWarning: Estimated onsets are empty.\n",
            "  warnings.warn(\"Estimated onsets are empty.\")\n",
            "Validation:  60%|██████    | 6/10 [00:01<00:00,  5.70it/s, loss=0.1652]/usr/local/lib/python3.7/dist-packages/mir_eval/onset.py:51: UserWarning: Estimated onsets are empty.\n",
            "  warnings.warn(\"Estimated onsets are empty.\")\n",
            "Validation:  80%|████████  | 8/10 [00:01<00:00,  7.47it/s, loss=0.1686]/usr/local/lib/python3.7/dist-packages/mir_eval/onset.py:51: UserWarning: Estimated onsets are empty.\n",
            "  warnings.warn(\"Estimated onsets are empty.\")\n",
            "Validation:  80%|████████  | 8/10 [00:01<00:00,  7.47it/s, loss=0.1754]/usr/local/lib/python3.7/dist-packages/mir_eval/onset.py:51: UserWarning: Estimated onsets are empty.\n",
            "  warnings.warn(\"Estimated onsets are empty.\")\n"
          ]
        },
        {
          "output_type": "stream",
          "name": "stdout",
          "text": [
            "Epoch 16/50: Train Loss 0.1412, Learning Rate 0.0010, Validation Loss 0.1805, F1 Score 0.0003, Precision 0.1500, Recall 0.0002, AUC 0.5817\n"
          ]
        },
        {
          "output_type": "stream",
          "name": "stderr",
          "text": [
            "Validation:   0%|          | 0/10 [00:00<?, ?it/s]/usr/local/lib/python3.7/dist-packages/mir_eval/onset.py:51: UserWarning: Estimated onsets are empty.\n",
            "  warnings.warn(\"Estimated onsets are empty.\")\n",
            "Validation:  20%|██        | 2/10 [00:01<00:04,  2.00it/s, loss=0.1634]/usr/local/lib/python3.7/dist-packages/mir_eval/onset.py:51: UserWarning: Estimated onsets are empty.\n",
            "  warnings.warn(\"Estimated onsets are empty.\")\n",
            "Validation:  40%|████      | 4/10 [00:01<00:01,  4.09it/s, loss=0.1523]/usr/local/lib/python3.7/dist-packages/mir_eval/onset.py:51: UserWarning: Estimated onsets are empty.\n",
            "  warnings.warn(\"Estimated onsets are empty.\")\n",
            "Validation:  40%|████      | 4/10 [00:01<00:01,  4.09it/s, loss=0.1628]/usr/local/lib/python3.7/dist-packages/mir_eval/onset.py:51: UserWarning: Estimated onsets are empty.\n",
            "  warnings.warn(\"Estimated onsets are empty.\")\n",
            "Validation:  60%|██████    | 6/10 [00:01<00:00,  5.90it/s, loss=0.1651]/usr/local/lib/python3.7/dist-packages/mir_eval/onset.py:51: UserWarning: Estimated onsets are empty.\n",
            "  warnings.warn(\"Estimated onsets are empty.\")\n",
            "Validation:  60%|██████    | 6/10 [00:01<00:00,  5.90it/s, loss=0.1661]/usr/local/lib/python3.7/dist-packages/mir_eval/onset.py:51: UserWarning: Estimated onsets are empty.\n",
            "  warnings.warn(\"Estimated onsets are empty.\")\n",
            "Validation:  80%|████████  | 8/10 [00:01<00:00,  7.40it/s, loss=0.1760]/usr/local/lib/python3.7/dist-packages/mir_eval/onset.py:51: UserWarning: Estimated onsets are empty.\n",
            "  warnings.warn(\"Estimated onsets are empty.\")\n"
          ]
        },
        {
          "output_type": "stream",
          "name": "stdout",
          "text": [
            "Epoch 17/50: Train Loss 0.1381, Learning Rate 0.0010, Validation Loss 0.1812, F1 Score 0.0002, Precision 0.1000, Recall 0.0001, AUC 0.5863\n"
          ]
        },
        {
          "output_type": "stream",
          "name": "stderr",
          "text": [
            "Validation:  10%|█         | 1/10 [00:01<00:09,  1.08s/it, loss=0.1430]/usr/local/lib/python3.7/dist-packages/mir_eval/onset.py:51: UserWarning: Estimated onsets are empty.\n",
            "  warnings.warn(\"Estimated onsets are empty.\")\n",
            "Validation:  10%|█         | 1/10 [00:01<00:09,  1.08s/it, loss=0.1647]/usr/local/lib/python3.7/dist-packages/mir_eval/onset.py:51: UserWarning: Estimated onsets are empty.\n",
            "  warnings.warn(\"Estimated onsets are empty.\")\n",
            "Validation:  50%|█████     | 5/10 [00:01<00:01,  4.65it/s, loss=0.1641]/usr/local/lib/python3.7/dist-packages/mir_eval/onset.py:51: UserWarning: Estimated onsets are empty.\n",
            "  warnings.warn(\"Estimated onsets are empty.\")\n",
            "Validation:  70%|███████   | 7/10 [00:01<00:00,  6.26it/s, loss=0.1676]/usr/local/lib/python3.7/dist-packages/mir_eval/onset.py:51: UserWarning: Estimated onsets are empty.\n",
            "  warnings.warn(\"Estimated onsets are empty.\")\n"
          ]
        },
        {
          "output_type": "stream",
          "name": "stdout",
          "text": [
            "Epoch 18/50: Train Loss 0.1352, Learning Rate 0.0010, Validation Loss 0.1830, F1 Score 0.0005, Precision 0.4000, Recall 0.0003, AUC 0.5812\n"
          ]
        },
        {
          "output_type": "stream",
          "name": "stderr",
          "text": [
            "Validation:  30%|███       | 3/10 [00:01<00:02,  3.02it/s, loss=0.1550]/usr/local/lib/python3.7/dist-packages/mir_eval/onset.py:51: UserWarning: Estimated onsets are empty.\n",
            "  warnings.warn(\"Estimated onsets are empty.\")\n",
            "Validation:  50%|█████     | 5/10 [00:01<00:00,  5.26it/s, loss=0.1676]/usr/local/lib/python3.7/dist-packages/mir_eval/onset.py:51: UserWarning: Estimated onsets are empty.\n",
            "  warnings.warn(\"Estimated onsets are empty.\")\n",
            "Validation:  90%|█████████ | 9/10 [00:01<00:00,  8.17it/s, loss=0.1792]/usr/local/lib/python3.7/dist-packages/mir_eval/onset.py:51: UserWarning: Estimated onsets are empty.\n",
            "  warnings.warn(\"Estimated onsets are empty.\")\n"
          ]
        },
        {
          "output_type": "stream",
          "name": "stdout",
          "text": [
            "Epoch 19/50: Train Loss 0.1322, Learning Rate 0.0010, Validation Loss 0.1847, F1 Score 0.0011, Precision 0.3500, Recall 0.0006, AUC 0.5768\n"
          ]
        },
        {
          "output_type": "stream",
          "name": "stderr",
          "text": [
            "Validation:   0%|          | 0/10 [00:00<?, ?it/s]/usr/local/lib/python3.7/dist-packages/mir_eval/onset.py:51: UserWarning: Estimated onsets are empty.\n",
            "  warnings.warn(\"Estimated onsets are empty.\")\n",
            "Validation:  10%|█         | 1/10 [00:01<00:09,  1.10s/it, loss=0.1455]/usr/local/lib/python3.7/dist-packages/mir_eval/onset.py:51: UserWarning: Estimated onsets are empty.\n",
            "  warnings.warn(\"Estimated onsets are empty.\")\n",
            "Validation:  40%|████      | 4/10 [00:01<00:01,  4.02it/s, loss=0.1557]/usr/local/lib/python3.7/dist-packages/mir_eval/onset.py:51: UserWarning: Estimated onsets are empty.\n",
            "  warnings.warn(\"Estimated onsets are empty.\")\n",
            "Validation:  80%|████████  | 8/10 [00:01<00:00,  7.20it/s, loss=0.1729]/usr/local/lib/python3.7/dist-packages/mir_eval/onset.py:51: UserWarning: Estimated onsets are empty.\n",
            "  warnings.warn(\"Estimated onsets are empty.\")\n",
            "Validation:  80%|████████  | 8/10 [00:01<00:00,  7.20it/s, loss=0.1805]/usr/local/lib/python3.7/dist-packages/mir_eval/onset.py:51: UserWarning: Estimated onsets are empty.\n",
            "  warnings.warn(\"Estimated onsets are empty.\")\n"
          ]
        },
        {
          "output_type": "stream",
          "name": "stdout",
          "text": [
            "Epoch 20/50: Train Loss 0.1295, Learning Rate 0.0010, Validation Loss 0.1859, F1 Score 0.0007, Precision 0.2333, Recall 0.0004, AUC 0.5782\n"
          ]
        },
        {
          "output_type": "stream",
          "name": "stderr",
          "text": [
            "Validation:  10%|█         | 1/10 [00:01<00:09,  1.03s/it, loss=0.1475]/usr/local/lib/python3.7/dist-packages/mir_eval/onset.py:51: UserWarning: Estimated onsets are empty.\n",
            "  warnings.warn(\"Estimated onsets are empty.\")\n",
            "Validation:  40%|████      | 4/10 [00:01<00:01,  4.07it/s, loss=0.1574]/usr/local/lib/python3.7/dist-packages/mir_eval/onset.py:51: UserWarning: Estimated onsets are empty.\n",
            "  warnings.warn(\"Estimated onsets are empty.\")\n",
            "Validation:  50%|█████     | 5/10 [00:01<00:01,  4.94it/s, loss=0.1677]/usr/local/lib/python3.7/dist-packages/mir_eval/onset.py:51: UserWarning: Estimated onsets are empty.\n",
            "  warnings.warn(\"Estimated onsets are empty.\")\n",
            "Validation:  50%|█████     | 5/10 [00:01<00:01,  4.94it/s, loss=0.1701]/usr/local/lib/python3.7/dist-packages/mir_eval/onset.py:51: UserWarning: Estimated onsets are empty.\n",
            "  warnings.warn(\"Estimated onsets are empty.\")\n"
          ]
        },
        {
          "output_type": "stream",
          "name": "stdout",
          "text": [
            "Epoch 21/50: Train Loss 0.1267, Learning Rate 0.0010, Validation Loss 0.1871, F1 Score 0.0004, Precision 0.2500, Recall 0.0002, AUC 0.5738\n"
          ]
        },
        {
          "output_type": "stream",
          "name": "stderr",
          "text": [
            "Validation:  20%|██        | 2/10 [00:01<00:04,  1.99it/s, loss=0.1687]/usr/local/lib/python3.7/dist-packages/mir_eval/onset.py:51: UserWarning: Estimated onsets are empty.\n",
            "  warnings.warn(\"Estimated onsets are empty.\")\n",
            "Validation:  40%|████      | 4/10 [00:01<00:01,  4.12it/s, loss=0.1580]/usr/local/lib/python3.7/dist-packages/mir_eval/onset.py:51: UserWarning: Estimated onsets are empty.\n",
            "  warnings.warn(\"Estimated onsets are empty.\")\n",
            "Validation:  40%|████      | 4/10 [00:01<00:01,  4.12it/s, loss=0.1688]/usr/local/lib/python3.7/dist-packages/mir_eval/onset.py:51: UserWarning: Estimated onsets are empty.\n",
            "  warnings.warn(\"Estimated onsets are empty.\")\n",
            "Validation:  80%|████████  | 8/10 [00:01<00:00,  7.64it/s, loss=0.1836]/usr/local/lib/python3.7/dist-packages/mir_eval/onset.py:51: UserWarning: Estimated onsets are empty.\n",
            "  warnings.warn(\"Estimated onsets are empty.\")\n"
          ]
        },
        {
          "output_type": "stream",
          "name": "stdout",
          "text": [
            "Epoch 22/50: Train Loss 0.1238, Learning Rate 0.0010, Validation Loss 0.1895, F1 Score 0.0005, Precision 0.2000, Recall 0.0003, AUC 0.5752\n"
          ]
        },
        {
          "output_type": "stream",
          "name": "stderr",
          "text": [
            ""
          ]
        },
        {
          "output_type": "stream",
          "name": "stdout",
          "text": [
            "Epoch 23/50: Train Loss 0.1205, Learning Rate 0.0010, Validation Loss 0.1915, F1 Score 0.0025, Precision 0.6450, Recall 0.0012, AUC 0.5742\n"
          ]
        },
        {
          "output_type": "stream",
          "name": "stderr",
          "text": [
            "Validation:  90%|█████████ | 9/10 [00:01<00:00,  8.36it/s, loss=0.1873]/usr/local/lib/python3.7/dist-packages/mir_eval/onset.py:51: UserWarning: Estimated onsets are empty.\n",
            "  warnings.warn(\"Estimated onsets are empty.\")\n"
          ]
        },
        {
          "output_type": "stream",
          "name": "stdout",
          "text": [
            "Epoch 24/50: Train Loss 0.1176, Learning Rate 0.0010, Validation Loss 0.1936, F1 Score 0.0020, Precision 0.3033, Recall 0.0010, AUC 0.5741\n"
          ]
        },
        {
          "output_type": "stream",
          "name": "stderr",
          "text": [
            ""
          ]
        },
        {
          "output_type": "stream",
          "name": "stdout",
          "text": [
            "Epoch 25/50: Train Loss 0.1145, Learning Rate 0.0010, Validation Loss 0.1943, F1 Score 0.0031, Precision 0.6214, Recall 0.0015, AUC 0.5739\n"
          ]
        },
        {
          "output_type": "stream",
          "name": "stderr",
          "text": [
            ""
          ]
        },
        {
          "output_type": "stream",
          "name": "stdout",
          "text": [
            "Epoch 26/50: Train Loss 0.1115, Learning Rate 0.0010, Validation Loss 0.1976, F1 Score 0.0054, Precision 0.5479, Recall 0.0027, AUC 0.5722\n"
          ]
        },
        {
          "output_type": "stream",
          "name": "stderr",
          "text": [
            ""
          ]
        },
        {
          "output_type": "stream",
          "name": "stdout",
          "text": [
            "Epoch 27/50: Train Loss 0.1088, Learning Rate 0.0010, Validation Loss 0.2003, F1 Score 0.0068, Precision 0.5598, Recall 0.0034, AUC 0.5703\n"
          ]
        },
        {
          "output_type": "stream",
          "name": "stderr",
          "text": [
            ""
          ]
        },
        {
          "output_type": "stream",
          "name": "stdout",
          "text": [
            "Epoch 28/50: Train Loss 0.1060, Learning Rate 0.0010, Validation Loss 0.2035, F1 Score 0.0064, Precision 0.5151, Recall 0.0032, AUC 0.5701\n"
          ]
        },
        {
          "output_type": "stream",
          "name": "stderr",
          "text": [
            ""
          ]
        },
        {
          "output_type": "stream",
          "name": "stdout",
          "text": [
            "Epoch 29/50: Train Loss 0.1033, Learning Rate 0.0010, Validation Loss 0.2046, F1 Score 0.0090, Precision 0.5027, Recall 0.0046, AUC 0.5722\n"
          ]
        },
        {
          "output_type": "stream",
          "name": "stderr",
          "text": [
            ""
          ]
        },
        {
          "output_type": "stream",
          "name": "stdout",
          "text": [
            "Epoch 30/50: Train Loss 0.1007, Learning Rate 0.0010, Validation Loss 0.2075, F1 Score 0.0108, Precision 0.5070, Recall 0.0055, AUC 0.5696\n"
          ]
        },
        {
          "output_type": "stream",
          "name": "stderr",
          "text": [
            ""
          ]
        },
        {
          "output_type": "stream",
          "name": "stdout",
          "text": [
            "Epoch 31/50: Train Loss 0.0984, Learning Rate 0.0010, Validation Loss 0.2103, F1 Score 0.0133, Precision 0.5378, Recall 0.0067, AUC 0.5711\n"
          ]
        },
        {
          "output_type": "stream",
          "name": "stderr",
          "text": [
            ""
          ]
        },
        {
          "output_type": "stream",
          "name": "stdout",
          "text": [
            "Epoch 32/50: Train Loss 0.0959, Learning Rate 0.0010, Validation Loss 0.2117, F1 Score 0.0132, Precision 0.4936, Recall 0.0067, AUC 0.5707\n"
          ]
        },
        {
          "output_type": "stream",
          "name": "stderr",
          "text": [
            ""
          ]
        },
        {
          "output_type": "stream",
          "name": "stdout",
          "text": [
            "Epoch 33/50: Train Loss 0.0935, Learning Rate 0.0010, Validation Loss 0.2148, F1 Score 0.0168, Precision 0.5082, Recall 0.0086, AUC 0.5705\n"
          ]
        },
        {
          "output_type": "stream",
          "name": "stderr",
          "text": [
            ""
          ]
        },
        {
          "output_type": "stream",
          "name": "stdout",
          "text": [
            "Epoch 34/50: Train Loss 0.0916, Learning Rate 0.0010, Validation Loss 0.2161, F1 Score 0.0191, Precision 0.4903, Recall 0.0097, AUC 0.5693\n"
          ]
        },
        {
          "output_type": "stream",
          "name": "stderr",
          "text": [
            ""
          ]
        },
        {
          "output_type": "stream",
          "name": "stdout",
          "text": [
            "Epoch 35/50: Train Loss 0.0895, Learning Rate 0.0010, Validation Loss 0.2177, F1 Score 0.0199, Precision 0.4851, Recall 0.0102, AUC 0.5707\n"
          ]
        },
        {
          "output_type": "stream",
          "name": "stderr",
          "text": [
            ""
          ]
        },
        {
          "output_type": "stream",
          "name": "stdout",
          "text": [
            "Epoch 36/50: Train Loss 0.0875, Learning Rate 0.0010, Validation Loss 0.2208, F1 Score 0.0293, Precision 0.5361, Recall 0.0151, AUC 0.5690\n"
          ]
        },
        {
          "output_type": "stream",
          "name": "stderr",
          "text": [
            ""
          ]
        },
        {
          "output_type": "stream",
          "name": "stdout",
          "text": [
            "Epoch 37/50: Train Loss 0.0856, Learning Rate 0.0010, Validation Loss 0.2226, F1 Score 0.0305, Precision 0.5422, Recall 0.0158, AUC 0.5690\n"
          ]
        },
        {
          "output_type": "stream",
          "name": "stderr",
          "text": [
            ""
          ]
        },
        {
          "output_type": "stream",
          "name": "stdout",
          "text": [
            "Epoch 38/50: Train Loss 0.0840, Learning Rate 0.0010, Validation Loss 0.2252, F1 Score 0.0339, Precision 0.5457, Recall 0.0176, AUC 0.5684\n"
          ]
        },
        {
          "output_type": "stream",
          "name": "stderr",
          "text": [
            ""
          ]
        },
        {
          "output_type": "stream",
          "name": "stdout",
          "text": [
            "Epoch 39/50: Train Loss 0.0825, Learning Rate 0.0010, Validation Loss 0.2272, F1 Score 0.0374, Precision 0.5402, Recall 0.0194, AUC 0.5660\n"
          ]
        },
        {
          "output_type": "stream",
          "name": "stderr",
          "text": [
            ""
          ]
        },
        {
          "output_type": "stream",
          "name": "stdout",
          "text": [
            "Epoch 40/50: Train Loss 0.0805, Learning Rate 0.0010, Validation Loss 0.2294, F1 Score 0.0410, Precision 0.5358, Recall 0.0214, AUC 0.5703\n"
          ]
        },
        {
          "output_type": "stream",
          "name": "stderr",
          "text": [
            ""
          ]
        },
        {
          "output_type": "stream",
          "name": "stdout",
          "text": [
            "Epoch 41/50: Train Loss 0.0790, Learning Rate 0.0010, Validation Loss 0.2320, F1 Score 0.0395, Precision 0.5644, Recall 0.0206, AUC 0.5682\n"
          ]
        },
        {
          "output_type": "stream",
          "name": "stderr",
          "text": [
            ""
          ]
        },
        {
          "output_type": "stream",
          "name": "stdout",
          "text": [
            "Epoch 42/50: Train Loss 0.0774, Learning Rate 0.0010, Validation Loss 0.2339, F1 Score 0.0476, Precision 0.5469, Recall 0.0250, AUC 0.5687\n"
          ]
        },
        {
          "output_type": "stream",
          "name": "stderr",
          "text": [
            ""
          ]
        },
        {
          "output_type": "stream",
          "name": "stdout",
          "text": [
            "Epoch 43/50: Train Loss 0.0760, Learning Rate 0.0010, Validation Loss 0.2372, F1 Score 0.0496, Precision 0.5371, Recall 0.0261, AUC 0.5688\n"
          ]
        },
        {
          "output_type": "stream",
          "name": "stderr",
          "text": [
            ""
          ]
        },
        {
          "output_type": "stream",
          "name": "stdout",
          "text": [
            "Epoch 44/50: Train Loss 0.0747, Learning Rate 0.0010, Validation Loss 0.2377, F1 Score 0.0501, Precision 0.5410, Recall 0.0264, AUC 0.5667\n"
          ]
        },
        {
          "output_type": "stream",
          "name": "stderr",
          "text": [
            ""
          ]
        },
        {
          "output_type": "stream",
          "name": "stdout",
          "text": [
            "Epoch 45/50: Train Loss 0.0735, Learning Rate 0.0010, Validation Loss 0.2394, F1 Score 0.0550, Precision 0.5315, Recall 0.0292, AUC 0.5687\n"
          ]
        },
        {
          "output_type": "stream",
          "name": "stderr",
          "text": [
            ""
          ]
        },
        {
          "output_type": "stream",
          "name": "stdout",
          "text": [
            "Epoch 46/50: Train Loss 0.0722, Learning Rate 0.0010, Validation Loss 0.2426, F1 Score 0.0566, Precision 0.5263, Recall 0.0301, AUC 0.5666\n"
          ]
        },
        {
          "output_type": "stream",
          "name": "stderr",
          "text": [
            ""
          ]
        },
        {
          "output_type": "stream",
          "name": "stdout",
          "text": [
            "Epoch 47/50: Train Loss 0.0707, Learning Rate 0.0010, Validation Loss 0.2439, F1 Score 0.0609, Precision 0.5302, Recall 0.0325, AUC 0.5645\n"
          ]
        },
        {
          "output_type": "stream",
          "name": "stderr",
          "text": [
            ""
          ]
        },
        {
          "output_type": "stream",
          "name": "stdout",
          "text": [
            "Epoch 48/50: Train Loss 0.0696, Learning Rate 0.0010, Validation Loss 0.2455, F1 Score 0.0629, Precision 0.5298, Recall 0.0336, AUC 0.5643\n"
          ]
        },
        {
          "output_type": "stream",
          "name": "stderr",
          "text": [
            ""
          ]
        },
        {
          "output_type": "stream",
          "name": "stdout",
          "text": [
            "Epoch 49/50: Train Loss 0.0688, Learning Rate 0.0010, Validation Loss 0.2478, F1 Score 0.0619, Precision 0.5330, Recall 0.0330, AUC 0.5667\n"
          ]
        },
        {
          "output_type": "stream",
          "name": "stderr",
          "text": [
            "                                                                                "
          ]
        },
        {
          "output_type": "stream",
          "name": "stdout",
          "text": [
            "Epoch 50/50: Train Loss 0.0677, Learning Rate 0.0010, Validation Loss 0.2491, F1 Score 0.0694, Precision 0.5391, Recall 0.0373, AUC 0.5652\n"
          ]
        },
        {
          "output_type": "stream",
          "name": "stderr",
          "text": [
            "\r"
          ]
        }
      ],
      "source": [
        "epochs = 50\n",
        "for epoch in range(1, epochs+1):\n",
        "  batch_bar = tqdm(total=len(train_loader), dynamic_ncols=True, leave=False, position=0, desc='Train')\n",
        "  model.train()\n",
        "\n",
        "  total_loss = 0\n",
        "\n",
        "  for batch_idx, batch in enumerate(train_loader):\n",
        "    optimizer.zero_grad()\n",
        "\n",
        "    data = batch[0].float().cuda()\n",
        "    # print(data.shape)\n",
        "    label = batch[1].cuda()\n",
        "    # print(label.shape)\n",
        "    # binary_output = np.where(output > 0.5, 1, 0)\n",
        "\n",
        "    output = model(data).cuda()\n",
        "    #print(output.shape)\n",
        "\n",
        "    # print(output.shape)\n",
        "\n",
        "\n",
        "    loss = criterion(output, label.float())\n",
        "    total_loss += loss\n",
        "\n",
        "    batch_bar.set_postfix(loss=\"{:.04f}\".format(float(total_loss / (batch_idx + 1))), lr=\"{:.04f}\".format(float(optimizer.param_groups[0]['lr'])))\n",
        "    loss.backward()\n",
        "    optimizer.step()\n",
        "\n",
        "    batch_bar.update()\n",
        "  \n",
        "  val_loss, f1, p, r, auc  = validation(model,criterion,optimizer)#,scheduler)\n",
        "  #scheduler.step(val_loss)\n",
        "\n",
        "  model.train()\n",
        "\n",
        "  \n",
        "\n",
        "  batch_bar.close()\n",
        "\n",
        "  print(\"Epoch {}/{}: Train Loss {:.04f}, Learning Rate {:.04f}, Validation Loss {:.04f}, F1 Score {:.04f}, Precision {:.04f}, Recall {:.04f}, AUC {:.04f}\".format(\n",
        "        epoch,\n",
        "        epochs,\n",
        "        float(total_loss / (len(train_loader))),\n",
        "        float(optimizer.param_groups[0]['lr']),val_loss,np.mean(f1),np.mean(p),np.mean(r),auc))\n",
        "  \n",
        "  # print(\"F1 Score {:.04f}, Precision {:.04f}, Recall {:.04f}\".format(np.mean(f1s),np.mean(ps),np.mean(rs)))\n",
        "    \n",
        "#     wandb.log(metrics)\n",
        "# wandb.finish()"
      ]
    },
    {
      "cell_type": "code",
      "source": [
        "#  validation(model,criterion,optimizer)"
      ],
      "metadata": {
        "id": "e_WMA7_BGwTU"
      },
      "execution_count": null,
      "outputs": []
    },
    {
      "cell_type": "code",
      "source": [
        "y = np.array([0,0,0,1,0])\n",
        "s=np.array([0.1,2.3,-0.1,12.4,0.2])"
      ],
      "metadata": {
        "id": "zkHz17vdGwRS"
      },
      "execution_count": null,
      "outputs": []
    },
    {
      "cell_type": "code",
      "source": [
        "y = torch.from_numpy(y)\n",
        "s = torch.from_numpy(s)"
      ],
      "metadata": {
        "id": "jWKaIFFXGwNI"
      },
      "execution_count": null,
      "outputs": []
    },
    {
      "cell_type": "code",
      "source": [
        "roc_curve(y,s)"
      ],
      "metadata": {
        "colab": {
          "base_uri": "https://localhost:8080/"
        },
        "id": "0MTMKMi5JwaN",
        "outputId": "317145f6-bba0-4142-aa0b-1a0d9c28b125"
      },
      "execution_count": null,
      "outputs": [
        {
          "output_type": "execute_result",
          "data": {
            "text/plain": [
              "(array([0., 0., 1.]), array([0., 1., 1.]), array([13.4, 12.4, -0.1]))"
            ]
          },
          "metadata": {},
          "execution_count": 59
        }
      ]
    },
    {
      "cell_type": "code",
      "execution_count": null,
      "metadata": {
        "colab": {
          "base_uri": "https://localhost:8080/"
        },
        "id": "GUhbTStLgXFg",
        "outputId": "de63b010-af81-4fce-c6c3-b6e09f6c31de"
      },
      "outputs": [
        {
          "name": "stdout",
          "output_type": "stream",
          "text": [
            "(304, 125, 125)\n",
            "(300, 625, 125)\n"
          ]
        }
      ],
      "source": [
        "import numpy as np\n",
        "\n",
        "a = np.empty((304,125,125))\n",
        "context=2\n",
        "print(a.shape)\n",
        "# v = np.lib.stride_tricks.sliding_window_view(a, 5 ,0)\n",
        "\n",
        "# print(v.shape)\n",
        "temp = []\n",
        "for i in range(context, len(a)-context):\n",
        "  temp.append(a[i-context:i+context+1])\n",
        "\n",
        "temp = np.array(temp)\n",
        "print(temp)\n",
        "temp = np.reshape(temp,(300, temp.shape[1]*temp.shape[2], 125))\n",
        "\n",
        "print(temp.shape)"
      ]
    },
    {
      "cell_type": "code",
      "execution_count": null,
      "metadata": {
        "id": "8degUiBAdUWl"
      },
      "outputs": [],
      "source": [
        ""
      ]
    }
  ],
  "metadata": {
    "accelerator": "GPU",
    "colab": {
      "collapsed_sections": [
        "yNLc-8IJmmb2"
      ],
      "machine_shape": "hm",
      "name": "mlp_model_training",
      "provenance": []
    },
    "kernelspec": {
      "display_name": "Python 3",
      "name": "python3"
    },
    "language_info": {
      "name": "python"
    }
  },
  "nbformat": 4,
  "nbformat_minor": 0
}