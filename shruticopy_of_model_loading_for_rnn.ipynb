{
  "cells": [
    {
      "cell_type": "code",
      "execution_count": null,
      "metadata": {
        "colab": {
          "base_uri": "https://localhost:8080/"
        },
        "id": "lQdz4tvPF-zI",
        "outputId": "3463b4e8-ec95-4401-d44c-b0b66fc2c5e8"
      },
      "outputs": [
        {
          "name": "stdout",
          "output_type": "stream",
          "text": [
            "Mounted at /content/drive\n"
          ]
        }
      ],
      "source": [
        "\n",
        "from google.colab import drive\n",
        "drive.mount('/content/drive')"
      ]
    },
    {
      "cell_type": "code",
      "execution_count": null,
      "metadata": {
        "colab": {
          "base_uri": "https://localhost:8080/"
        },
        "id": "dUm2btamhCDe",
        "outputId": "d9614fc8-b00d-4fd8-91d3-72d246b57b1f"
      },
      "outputs": [
        {
          "name": "stdout",
          "output_type": "stream",
          "text": [
            "Collecting mne\n",
            "  Downloading mne-1.0.2-py3-none-any.whl (7.5 MB)\n",
            "\u001b[K     |████████████████████████████████| 7.5 MB 4.7 MB/s \n",
            "\u001b[?25hRequirement already satisfied: scipy>=1.1.0 in /usr/local/lib/python3.7/dist-packages (from mne) (1.4.1)\n",
            "Requirement already satisfied: numpy>=1.15.4 in /usr/local/lib/python3.7/dist-packages (from mne) (1.21.6)\n",
            "Requirement already satisfied: tqdm in /usr/local/lib/python3.7/dist-packages (from mne) (4.64.0)\n",
            "Requirement already satisfied: packaging in /usr/local/lib/python3.7/dist-packages (from mne) (21.3)\n",
            "Requirement already satisfied: jinja2 in /usr/local/lib/python3.7/dist-packages (from mne) (2.11.3)\n",
            "Requirement already satisfied: decorator in /usr/local/lib/python3.7/dist-packages (from mne) (4.4.2)\n",
            "Requirement already satisfied: pooch>=1.5 in /usr/local/lib/python3.7/dist-packages (from mne) (1.6.0)\n",
            "Requirement already satisfied: matplotlib in /usr/local/lib/python3.7/dist-packages (from mne) (3.2.2)\n",
            "Requirement already satisfied: requests>=2.19.0 in /usr/local/lib/python3.7/dist-packages (from pooch>=1.5->mne) (2.23.0)\n",
            "Requirement already satisfied: appdirs>=1.3.0 in /usr/local/lib/python3.7/dist-packages (from pooch>=1.5->mne) (1.4.4)\n",
            "Requirement already satisfied: pyparsing!=3.0.5,>=2.0.2 in /usr/local/lib/python3.7/dist-packages (from packaging->mne) (3.0.8)\n",
            "Requirement already satisfied: idna<3,>=2.5 in /usr/local/lib/python3.7/dist-packages (from requests>=2.19.0->pooch>=1.5->mne) (2.10)\n",
            "Requirement already satisfied: chardet<4,>=3.0.2 in /usr/local/lib/python3.7/dist-packages (from requests>=2.19.0->pooch>=1.5->mne) (3.0.4)\n",
            "Requirement already satisfied: certifi>=2017.4.17 in /usr/local/lib/python3.7/dist-packages (from requests>=2.19.0->pooch>=1.5->mne) (2021.10.8)\n",
            "Requirement already satisfied: urllib3!=1.25.0,!=1.25.1,<1.26,>=1.21.1 in /usr/local/lib/python3.7/dist-packages (from requests>=2.19.0->pooch>=1.5->mne) (1.24.3)\n",
            "Requirement already satisfied: MarkupSafe>=0.23 in /usr/local/lib/python3.7/dist-packages (from jinja2->mne) (2.0.1)\n",
            "Requirement already satisfied: python-dateutil>=2.1 in /usr/local/lib/python3.7/dist-packages (from matplotlib->mne) (2.8.2)\n",
            "Requirement already satisfied: kiwisolver>=1.0.1 in /usr/local/lib/python3.7/dist-packages (from matplotlib->mne) (1.4.2)\n",
            "Requirement already satisfied: cycler>=0.10 in /usr/local/lib/python3.7/dist-packages (from matplotlib->mne) (0.11.0)\n",
            "Requirement already satisfied: typing-extensions in /usr/local/lib/python3.7/dist-packages (from kiwisolver>=1.0.1->matplotlib->mne) (4.2.0)\n",
            "Requirement already satisfied: six>=1.5 in /usr/local/lib/python3.7/dist-packages (from python-dateutil>=2.1->matplotlib->mne) (1.15.0)\n",
            "Installing collected packages: mne\n",
            "Successfully installed mne-1.0.2\n",
            "Requirement already satisfied: mne[hdf5] in /usr/local/lib/python3.7/dist-packages (1.0.2)\n",
            "Requirement already satisfied: decorator in /usr/local/lib/python3.7/dist-packages (from mne[hdf5]) (4.4.2)\n",
            "Requirement already satisfied: packaging in /usr/local/lib/python3.7/dist-packages (from mne[hdf5]) (21.3)\n",
            "Requirement already satisfied: tqdm in /usr/local/lib/python3.7/dist-packages (from mne[hdf5]) (4.64.0)\n",
            "Requirement already satisfied: scipy>=1.1.0 in /usr/local/lib/python3.7/dist-packages (from mne[hdf5]) (1.4.1)\n",
            "Requirement already satisfied: numpy>=1.15.4 in /usr/local/lib/python3.7/dist-packages (from mne[hdf5]) (1.21.6)\n",
            "Requirement already satisfied: pooch>=1.5 in /usr/local/lib/python3.7/dist-packages (from mne[hdf5]) (1.6.0)\n",
            "Requirement already satisfied: matplotlib in /usr/local/lib/python3.7/dist-packages (from mne[hdf5]) (3.2.2)\n",
            "Requirement already satisfied: jinja2 in /usr/local/lib/python3.7/dist-packages (from mne[hdf5]) (2.11.3)\n",
            "Collecting h5io\n",
            "  Downloading h5io-0.1.7-py3-none-any.whl (12 kB)\n",
            "Collecting pymatreader\n",
            "  Downloading pymatreader-0.0.30-py3-none-any.whl (9.0 kB)\n",
            "Requirement already satisfied: requests>=2.19.0 in /usr/local/lib/python3.7/dist-packages (from pooch>=1.5->mne[hdf5]) (2.23.0)\n",
            "Requirement already satisfied: appdirs>=1.3.0 in /usr/local/lib/python3.7/dist-packages (from pooch>=1.5->mne[hdf5]) (1.4.4)\n",
            "Requirement already satisfied: pyparsing!=3.0.5,>=2.0.2 in /usr/local/lib/python3.7/dist-packages (from packaging->mne[hdf5]) (3.0.8)\n",
            "Requirement already satisfied: urllib3!=1.25.0,!=1.25.1,<1.26,>=1.21.1 in /usr/local/lib/python3.7/dist-packages (from requests>=2.19.0->pooch>=1.5->mne[hdf5]) (1.24.3)\n",
            "Requirement already satisfied: chardet<4,>=3.0.2 in /usr/local/lib/python3.7/dist-packages (from requests>=2.19.0->pooch>=1.5->mne[hdf5]) (3.0.4)\n",
            "Requirement already satisfied: certifi>=2017.4.17 in /usr/local/lib/python3.7/dist-packages (from requests>=2.19.0->pooch>=1.5->mne[hdf5]) (2021.10.8)\n",
            "Requirement already satisfied: idna<3,>=2.5 in /usr/local/lib/python3.7/dist-packages (from requests>=2.19.0->pooch>=1.5->mne[hdf5]) (2.10)\n",
            "Requirement already satisfied: h5py in /usr/local/lib/python3.7/dist-packages (from h5io->mne[hdf5]) (3.1.0)\n",
            "Requirement already satisfied: cached-property in /usr/local/lib/python3.7/dist-packages (from h5py->h5io->mne[hdf5]) (1.5.2)\n",
            "Requirement already satisfied: MarkupSafe>=0.23 in /usr/local/lib/python3.7/dist-packages (from jinja2->mne[hdf5]) (2.0.1)\n",
            "Requirement already satisfied: kiwisolver>=1.0.1 in /usr/local/lib/python3.7/dist-packages (from matplotlib->mne[hdf5]) (1.4.2)\n",
            "Requirement already satisfied: cycler>=0.10 in /usr/local/lib/python3.7/dist-packages (from matplotlib->mne[hdf5]) (0.11.0)\n",
            "Requirement already satisfied: python-dateutil>=2.1 in /usr/local/lib/python3.7/dist-packages (from matplotlib->mne[hdf5]) (2.8.2)\n",
            "Requirement already satisfied: typing-extensions in /usr/local/lib/python3.7/dist-packages (from kiwisolver>=1.0.1->matplotlib->mne[hdf5]) (4.2.0)\n",
            "Requirement already satisfied: six>=1.5 in /usr/local/lib/python3.7/dist-packages (from python-dateutil>=2.1->matplotlib->mne[hdf5]) (1.15.0)\n",
            "Collecting xmltodict\n",
            "  Downloading xmltodict-0.12.0-py2.py3-none-any.whl (9.2 kB)\n",
            "Requirement already satisfied: future in /usr/local/lib/python3.7/dist-packages (from pymatreader->mne[hdf5]) (0.16.0)\n",
            "Installing collected packages: xmltodict, pymatreader, h5io\n",
            "Successfully installed h5io-0.1.7 pymatreader-0.0.30 xmltodict-0.12.0\n",
            "Collecting madmom\n",
            "  Downloading madmom-0.16.1.tar.gz (20.0 MB)\n",
            "\u001b[K     |████████████████████████████████| 20.0 MB 115 kB/s \n",
            "\u001b[?25hRequirement already satisfied: numpy>=1.13.4 in /usr/local/lib/python3.7/dist-packages (from madmom) (1.21.6)\n",
            "Requirement already satisfied: scipy>=0.16 in /usr/local/lib/python3.7/dist-packages (from madmom) (1.4.1)\n",
            "Requirement already satisfied: cython>=0.25 in /usr/local/lib/python3.7/dist-packages (from madmom) (0.29.28)\n",
            "Collecting mido>=1.2.8\n",
            "  Downloading mido-1.2.10-py2.py3-none-any.whl (51 kB)\n",
            "\u001b[K     |████████████████████████████████| 51 kB 5.8 MB/s \n",
            "\u001b[?25hBuilding wheels for collected packages: madmom\n",
            "  Building wheel for madmom (setup.py) ... \u001b[?25l\u001b[?25hdone\n",
            "  Created wheel for madmom: filename=madmom-0.16.1-cp37-cp37m-linux_x86_64.whl size=20935863 sha256=058aed37b8f8f32fd9057bcc34e1399f4e4109a54bc965f41fab083792a6a5fe\n",
            "  Stored in directory: /root/.cache/pip/wheels/af/90/61/393ceef814b55b12d1b59b5ed3a2b2a3457a55d39b7363b975\n",
            "Successfully built madmom\n",
            "Installing collected packages: mido, madmom\n",
            "Successfully installed madmom-0.16.1 mido-1.2.10\n",
            "Collecting ffmpeg\n",
            "  Downloading ffmpeg-1.4.tar.gz (5.1 kB)\n",
            "Building wheels for collected packages: ffmpeg\n",
            "  Building wheel for ffmpeg (setup.py) ... \u001b[?25l\u001b[?25hdone\n",
            "  Created wheel for ffmpeg: filename=ffmpeg-1.4-py3-none-any.whl size=6084 sha256=4a5bb226a47b372a8f90a80a930f29159973b7e34539835c5c6be1413ea7fda7\n",
            "  Stored in directory: /root/.cache/pip/wheels/64/80/6e/caa3e16deb0267c3cbfd36862058a724144e19fdb9eb03af0f\n",
            "Successfully built ffmpeg\n",
            "Installing collected packages: ffmpeg\n",
            "Successfully installed ffmpeg-1.4\n",
            "Collecting mir_eval\n",
            "  Downloading mir_eval-0.7.tar.gz (90 kB)\n",
            "\u001b[K     |████████████████████████████████| 90 kB 4.2 MB/s \n",
            "\u001b[?25hRequirement already satisfied: numpy>=1.7.0 in /usr/local/lib/python3.7/dist-packages (from mir_eval) (1.21.6)\n",
            "Requirement already satisfied: scipy>=1.0.0 in /usr/local/lib/python3.7/dist-packages (from mir_eval) (1.4.1)\n",
            "Requirement already satisfied: future in /usr/local/lib/python3.7/dist-packages (from mir_eval) (0.16.0)\n",
            "Requirement already satisfied: six in /usr/local/lib/python3.7/dist-packages (from mir_eval) (1.15.0)\n",
            "Building wheels for collected packages: mir-eval\n",
            "  Building wheel for mir-eval (setup.py) ... \u001b[?25l\u001b[?25hdone\n",
            "  Created wheel for mir-eval: filename=mir_eval-0.7-py3-none-any.whl size=100721 sha256=368d7b643f7ebf29d6eb4b7f21784801c495f5473bd9cf69b5b0bec73d14fa80\n",
            "  Stored in directory: /root/.cache/pip/wheels/18/5a/46/d2527ff1fd975e1a793375e6ed763bfe4d3ea396b7cdc470eb\n",
            "Successfully built mir-eval\n",
            "Installing collected packages: mir-eval\n",
            "Successfully installed mir-eval-0.7\n"
          ]
        }
      ],
      "source": [
        "#print(loaded)\n",
        "!pip install mne\n",
        "!pip install mne[hdf5]\n",
        "!pip install madmom\n",
        "!pip install ffmpeg\n",
        "!pip install mir_eval\n",
        "\n",
        "#!conda activate mne\n"
      ]
    },
    {
      "cell_type": "code",
      "execution_count": null,
      "metadata": {
        "id": "A3-D3rO21K3F"
      },
      "outputs": [],
      "source": [
        "# from google.colab import drive\n",
        "# drive.mount(\"/content/drive\")\n",
        "# %cd '/content/drive/MyDrive/2022 Spring/11-785 Introduction to Deep Learning/Project'"
      ]
    },
    {
      "cell_type": "code",
      "execution_count": null,
      "metadata": {
        "id": "hWfEko2mGZmw"
      },
      "outputs": [],
      "source": [
        "from scipy import io\n",
        "import os\n",
        "import numpy as np\n",
        "from sklearn.metrics import roc_auc_score\n",
        "import mne\n",
        "import torch\n",
        "import numpy as np\n",
        "import torch.nn as nn\n",
        "import torch.nn.functional as F\n",
        "from sklearn.metrics import f1_score\n",
        "\n",
        "# from torchsummaryX import summary\n",
        "from torch.utils.data import Dataset, DataLoader\n",
        "from torch.nn.utils.rnn import pad_sequence, pack_padded_sequence, pad_packed_sequence\n",
        "import torchaudio\n",
        "# import wandb \n",
        "import madmom\n",
        "import madmom.features.beats\n",
        "import madmom.features.onsets\n",
        "import mir_eval\n",
        "import ffmpeg\n",
        "from tqdm import tqdm\n",
        "from sklearn.metrics import accuracy_score\n",
        "import gc\n",
        "import zipfile\n",
        "import pandas as pd\n",
        "from tqdm import tqdm\n",
        "import os\n",
        "import datetime\n"
      ]
    },
    {
      "cell_type": "markdown",
      "metadata": {
        "id": "DN5EhqhQLtBP"
      },
      "source": [
        ""
      ]
    },
    {
      "cell_type": "code",
      "execution_count": null,
      "metadata": {
        "id": "9v9f9lgHGQUn"
      },
      "outputs": [],
      "source": [
        "data_folder='/content/drive/MyDrive/11785 Project/data'\n",
        "#data_folder = '/content/drive/MyDrive/11785-IDL/11785 Project/data'\n"
      ]
    },
    {
      "cell_type": "markdown",
      "metadata": {
        "id": "Um4mGVl04mbY"
      },
      "source": [
        "#Restructuring the EEG folders"
      ]
    },
    {
      "cell_type": "code",
      "execution_count": null,
      "metadata": {
        "colab": {
          "base_uri": "https://localhost:8080/"
        },
        "id": "c9Ch-HwNfWUn",
        "outputId": "a8741519-942e-4fe8-b7bf-6b20f24b12d9"
      },
      "outputs": [
        {
          "data": {
            "text/plain": [
              "10"
            ]
          },
          "execution_count": 26,
          "metadata": {},
          "output_type": "execute_result"
        }
      ],
      "source": [
        "timestamps = np.load(data_folder+'/ground_truths/timestamps.npy',allow_pickle=True)\n",
        "len(timestamps)"
      ]
    },
    {
      "cell_type": "code",
      "execution_count": null,
      "metadata": {
        "colab": {
          "base_uri": "https://localhost:8080/"
        },
        "id": "d4J0wsqzj-qV",
        "outputId": "ff0e0b0e-7841-498d-e3b0-26ca1cf1fd7d"
      },
      "outputs": [
        {
          "data": {
            "text/plain": [
              "(10, 37500)"
            ]
          },
          "execution_count": 27,
          "metadata": {},
          "output_type": "execute_result"
        }
      ],
      "source": [
        "one_hot = np.load(data_folder+'/ground_truths/one_hot.npy',allow_pickle=True)\n",
        "one_hot.shape"
      ]
    },
    {
      "cell_type": "code",
      "execution_count": null,
      "metadata": {
        "id": "k_qWvji-kyJb"
      },
      "outputs": [],
      "source": [
        "data = io.loadmat(data_folder+'/users_mat/user0_restructured.mat')"
      ]
    },
    {
      "cell_type": "code",
      "execution_count": null,
      "metadata": {
        "colab": {
          "base_uri": "https://localhost:8080/"
        },
        "id": "zOG0Ld1jk8Cm",
        "outputId": "9273291a-016c-4b5f-a122-e99c470ff5e1"
      },
      "outputs": [
        {
          "data": {
            "text/plain": [
              "(10, 125, 37500)"
            ]
          },
          "execution_count": 29,
          "metadata": {},
          "output_type": "execute_result"
        }
      ],
      "source": [
        "EEG = data['data']\n",
        "EEG.shape"
      ]
    },
    {
      "cell_type": "code",
      "execution_count": null,
      "metadata": {
        "colab": {
          "base_uri": "https://localhost:8080/"
        },
        "id": "701ZS9v1gP6r",
        "outputId": "7b762a66-073a-4d85-c2a1-e3594163c570"
      },
      "outputs": [
        {
          "name": "stdout",
          "output_type": "stream",
          "text": [
            "dict_keys(['__header__', '__version__', '__globals__', 'data', 'user'])\n"
          ]
        }
      ],
      "source": [
        "from scipy import io\n",
        "loaded = io.loadmat(data_folder +'/users_mat/user0_restructured.mat',  struct_as_record=True)\n",
        "\n",
        "# loaded = io.loadmat('/content/song21_Imputed.mat',  struct_as_record=True)\n",
        "print(loaded.keys())\n",
        "#dict_keys(['__header__', '__version__', '__globals__', 'mrk', 'cnt', 'nfo'])"
      ]
    },
    {
      "cell_type": "code",
      "execution_count": null,
      "metadata": {
        "id": "tZJVEXPThRye"
      },
      "outputs": [],
      "source": [
        "class UserDataset(torch.utils.data.Dataset):\n",
        "     def __init__(self, data_path, partition= \"train\", user_id = \"0\"): # You can use partition to specify train or dev\n",
        "\n",
        "        self.X_dir = data_path + \"/users_mat/\" # TODO: get mfcc directory path\n",
        "        self.Y_dir = data_path + \"/ground_truths/\" # TODO: get transcript path\n",
        "\n",
        "        self.X_files = os.listdir(self.X_dir)# TODO: list files in the mfcc directory\n",
        "        print(self.X_files)\n",
        "        if partition == 'train':\n",
        "            self.X_files = [f for f in self.X_files if user_id not in f]\n",
        "            val = 19\n",
        "        else:\n",
        "            self.X_files = [f for f in self.X_files if user_id in f]\n",
        "            val = 1\n",
        "        \n",
        "        self.Y_onehot = np.load(data_path+'/ground_truths/one_hot.npy')\n",
        "        self.Y_timestamps = np.load(data_path+'/ground_truths/timestamps.npy',allow_pickle=True)\n",
        "        # self.Y_files = os.listdir(self.Y_dir)# TODO: list files in the transcript directory\n",
        "        self.XXX = []\n",
        "        self.YYY = []\n",
        "  \n",
        "\n",
        "        for x_file in self.X_files:\n",
        "            Xtemp =  io.loadmat(data_folder+'/users_mat/'+x_file)\n",
        "            data = Xtemp['data']\n",
        "            data = mne.filter.filter_data(data,sfreq=100,l_freq=0.1,h_freq = 40)\n",
        "            for i in data:\n",
        "              #print(\"1\",i.shape)\n",
        "              temp = np.reshape(i,(300,125,125))\n",
        "              #print(\"2\",temp.shape)\n",
        "              split_temp = np.split(temp,300)\n",
        "              #print(len(split_temp))\n",
        "              #print(\"3\",split_temp[0].shape)\n",
        "              self.XXX.extend(split_temp)\n",
        "            \n",
        "            \n",
        "\n",
        "            for i in self.Y_onehot:\n",
        "                temp = np.split(i, 300)\n",
        "                #print(len(temp))\n",
        "                self.YYY.extend(temp)\n",
        "              \n",
        "        \n",
        "\n",
        "        print(len(self.YYY))\n",
        "        print(len(self.XXX))\n",
        "\n",
        "\n",
        "        pass\n",
        "\n",
        "     def __len__(self):\n",
        "        return len(self.X_files)\n",
        "\n",
        "     def __getitem__(self, ind):\n",
        "\n",
        "        return self.XXX[ind], self.YYY[ind]\n",
        "    \n",
        "\n"
      ]
    },
    {
      "cell_type": "code",
      "execution_count": null,
      "metadata": {
        "colab": {
          "base_uri": "https://localhost:8080/",
          "height": 1000
        },
        "id": "41lIONlEIfCU",
        "outputId": "fa02dbd1-2c55-483f-c7a9-43dbc11f215c"
      },
      "outputs": [
        {
          "name": "stdout",
          "output_type": "stream",
          "text": [
            "['user0_restructured.mat', 'user1_restructured.mat', 'user2_restructured.mat', 'user3_restructured.mat', 'user4_restructured.mat', 'user5_restructured.mat', 'user6_restructured.mat', 'user7_restructured.mat', 'user8_restructured.mat', 'user9_restructured.mat', 'user10_restructured.mat', 'user11_restructured.mat', 'user12_restructured.mat', 'user13_restructured.mat', 'user14_restructured.mat', 'user15_restructured.mat', 'user16_restructured.mat', 'user17_restructured.mat', 'user18_restructured.mat', 'user19_restructured.mat']\n",
            "Setting up band-pass filter from 0.1 - 40 Hz\n",
            "\n",
            "FIR filter parameters\n",
            "---------------------\n",
            "Designing a one-pass, zero-phase, non-causal bandpass filter:\n",
            "- Windowed time-domain design (firwin) method\n",
            "- Hamming window with 0.0194 passband ripple and 53 dB stopband attenuation\n",
            "- Lower passband edge: 0.10\n",
            "- Lower transition bandwidth: 0.10 Hz (-6 dB cutoff frequency: 0.05 Hz)\n",
            "- Upper passband edge: 40.00 Hz\n",
            "- Upper transition bandwidth: 10.00 Hz (-6 dB cutoff frequency: 45.00 Hz)\n",
            "- Filter length: 3301 samples (33.010 sec)\n",
            "\n",
            "Setting up band-pass filter from 0.1 - 40 Hz\n",
            "\n",
            "FIR filter parameters\n",
            "---------------------\n",
            "Designing a one-pass, zero-phase, non-causal bandpass filter:\n",
            "- Windowed time-domain design (firwin) method\n",
            "- Hamming window with 0.0194 passband ripple and 53 dB stopband attenuation\n",
            "- Lower passband edge: 0.10\n",
            "- Lower transition bandwidth: 0.10 Hz (-6 dB cutoff frequency: 0.05 Hz)\n",
            "- Upper passband edge: 40.00 Hz\n",
            "- Upper transition bandwidth: 10.00 Hz (-6 dB cutoff frequency: 45.00 Hz)\n",
            "- Filter length: 3301 samples (33.010 sec)\n",
            "\n",
            "Setting up band-pass filter from 0.1 - 40 Hz\n",
            "\n",
            "FIR filter parameters\n",
            "---------------------\n",
            "Designing a one-pass, zero-phase, non-causal bandpass filter:\n",
            "- Windowed time-domain design (firwin) method\n",
            "- Hamming window with 0.0194 passband ripple and 53 dB stopband attenuation\n",
            "- Lower passband edge: 0.10\n",
            "- Lower transition bandwidth: 0.10 Hz (-6 dB cutoff frequency: 0.05 Hz)\n",
            "- Upper passband edge: 40.00 Hz\n",
            "- Upper transition bandwidth: 10.00 Hz (-6 dB cutoff frequency: 45.00 Hz)\n",
            "- Filter length: 3301 samples (33.010 sec)\n",
            "\n",
            "Setting up band-pass filter from 0.1 - 40 Hz\n",
            "\n",
            "FIR filter parameters\n",
            "---------------------\n",
            "Designing a one-pass, zero-phase, non-causal bandpass filter:\n",
            "- Windowed time-domain design (firwin) method\n",
            "- Hamming window with 0.0194 passband ripple and 53 dB stopband attenuation\n",
            "- Lower passband edge: 0.10\n",
            "- Lower transition bandwidth: 0.10 Hz (-6 dB cutoff frequency: 0.05 Hz)\n",
            "- Upper passband edge: 40.00 Hz\n",
            "- Upper transition bandwidth: 10.00 Hz (-6 dB cutoff frequency: 45.00 Hz)\n",
            "- Filter length: 3301 samples (33.010 sec)\n",
            "\n",
            "Setting up band-pass filter from 0.1 - 40 Hz\n",
            "\n",
            "FIR filter parameters\n",
            "---------------------\n",
            "Designing a one-pass, zero-phase, non-causal bandpass filter:\n",
            "- Windowed time-domain design (firwin) method\n",
            "- Hamming window with 0.0194 passband ripple and 53 dB stopband attenuation\n",
            "- Lower passband edge: 0.10\n",
            "- Lower transition bandwidth: 0.10 Hz (-6 dB cutoff frequency: 0.05 Hz)\n",
            "- Upper passband edge: 40.00 Hz\n",
            "- Upper transition bandwidth: 10.00 Hz (-6 dB cutoff frequency: 45.00 Hz)\n",
            "- Filter length: 3301 samples (33.010 sec)\n",
            "\n",
            "Setting up band-pass filter from 0.1 - 40 Hz\n",
            "\n",
            "FIR filter parameters\n",
            "---------------------\n",
            "Designing a one-pass, zero-phase, non-causal bandpass filter:\n",
            "- Windowed time-domain design (firwin) method\n",
            "- Hamming window with 0.0194 passband ripple and 53 dB stopband attenuation\n",
            "- Lower passband edge: 0.10\n",
            "- Lower transition bandwidth: 0.10 Hz (-6 dB cutoff frequency: 0.05 Hz)\n",
            "- Upper passband edge: 40.00 Hz\n",
            "- Upper transition bandwidth: 10.00 Hz (-6 dB cutoff frequency: 45.00 Hz)\n",
            "- Filter length: 3301 samples (33.010 sec)\n",
            "\n",
            "Setting up band-pass filter from 0.1 - 40 Hz\n",
            "\n",
            "FIR filter parameters\n",
            "---------------------\n",
            "Designing a one-pass, zero-phase, non-causal bandpass filter:\n",
            "- Windowed time-domain design (firwin) method\n",
            "- Hamming window with 0.0194 passband ripple and 53 dB stopband attenuation\n",
            "- Lower passband edge: 0.10\n",
            "- Lower transition bandwidth: 0.10 Hz (-6 dB cutoff frequency: 0.05 Hz)\n",
            "- Upper passband edge: 40.00 Hz\n",
            "- Upper transition bandwidth: 10.00 Hz (-6 dB cutoff frequency: 45.00 Hz)\n",
            "- Filter length: 3301 samples (33.010 sec)\n",
            "\n",
            "Setting up band-pass filter from 0.1 - 40 Hz\n",
            "\n",
            "FIR filter parameters\n",
            "---------------------\n",
            "Designing a one-pass, zero-phase, non-causal bandpass filter:\n",
            "- Windowed time-domain design (firwin) method\n",
            "- Hamming window with 0.0194 passband ripple and 53 dB stopband attenuation\n",
            "- Lower passband edge: 0.10\n",
            "- Lower transition bandwidth: 0.10 Hz (-6 dB cutoff frequency: 0.05 Hz)\n",
            "- Upper passband edge: 40.00 Hz\n",
            "- Upper transition bandwidth: 10.00 Hz (-6 dB cutoff frequency: 45.00 Hz)\n",
            "- Filter length: 3301 samples (33.010 sec)\n",
            "\n",
            "Setting up band-pass filter from 0.1 - 40 Hz\n",
            "\n",
            "FIR filter parameters\n",
            "---------------------\n",
            "Designing a one-pass, zero-phase, non-causal bandpass filter:\n",
            "- Windowed time-domain design (firwin) method\n",
            "- Hamming window with 0.0194 passband ripple and 53 dB stopband attenuation\n",
            "- Lower passband edge: 0.10\n",
            "- Lower transition bandwidth: 0.10 Hz (-6 dB cutoff frequency: 0.05 Hz)\n",
            "- Upper passband edge: 40.00 Hz\n",
            "- Upper transition bandwidth: 10.00 Hz (-6 dB cutoff frequency: 45.00 Hz)\n",
            "- Filter length: 3301 samples (33.010 sec)\n",
            "\n",
            "Setting up band-pass filter from 0.1 - 40 Hz\n",
            "\n",
            "FIR filter parameters\n",
            "---------------------\n",
            "Designing a one-pass, zero-phase, non-causal bandpass filter:\n",
            "- Windowed time-domain design (firwin) method\n",
            "- Hamming window with 0.0194 passband ripple and 53 dB stopband attenuation\n",
            "- Lower passband edge: 0.10\n",
            "- Lower transition bandwidth: 0.10 Hz (-6 dB cutoff frequency: 0.05 Hz)\n",
            "- Upper passband edge: 40.00 Hz\n",
            "- Upper transition bandwidth: 10.00 Hz (-6 dB cutoff frequency: 45.00 Hz)\n",
            "- Filter length: 3301 samples (33.010 sec)\n",
            "\n",
            "Setting up band-pass filter from 0.1 - 40 Hz\n",
            "\n",
            "FIR filter parameters\n",
            "---------------------\n",
            "Designing a one-pass, zero-phase, non-causal bandpass filter:\n",
            "- Windowed time-domain design (firwin) method\n",
            "- Hamming window with 0.0194 passband ripple and 53 dB stopband attenuation\n",
            "- Lower passband edge: 0.10\n",
            "- Lower transition bandwidth: 0.10 Hz (-6 dB cutoff frequency: 0.05 Hz)\n",
            "- Upper passband edge: 40.00 Hz\n",
            "- Upper transition bandwidth: 10.00 Hz (-6 dB cutoff frequency: 45.00 Hz)\n",
            "- Filter length: 3301 samples (33.010 sec)\n",
            "\n"
          ]
        },
        {
          "ename": "KeyboardInterrupt",
          "evalue": "ignored",
          "output_type": "error",
          "traceback": [
            "\u001b[0;31m---------------------------------------------------------------------------\u001b[0m",
            "\u001b[0;31mKeyboardInterrupt\u001b[0m                         Traceback (most recent call last)",
            "\u001b[0;32m<ipython-input-32-b8096bb799da>\u001b[0m in \u001b[0;36m<module>\u001b[0;34m()\u001b[0m\n\u001b[0;32m----> 1\u001b[0;31m \u001b[0musers\u001b[0m \u001b[0;34m=\u001b[0m \u001b[0mUserDataset\u001b[0m\u001b[0;34m(\u001b[0m\u001b[0mdata_folder\u001b[0m\u001b[0;34m,\u001b[0m \u001b[0mpartition\u001b[0m\u001b[0;34m=\u001b[0m \u001b[0;34m\"train\"\u001b[0m\u001b[0;34m,\u001b[0m \u001b[0muser_id\u001b[0m \u001b[0;34m=\u001b[0m \u001b[0;34m\"user0\"\u001b[0m\u001b[0;34m)\u001b[0m\u001b[0;34m\u001b[0m\u001b[0;34m\u001b[0m\u001b[0m\n\u001b[0m\u001b[1;32m      2\u001b[0m \u001b[0;31m# print(users[0])\u001b[0m\u001b[0;34m\u001b[0m\u001b[0;34m\u001b[0m\u001b[0;34m\u001b[0m\u001b[0m\n",
            "\u001b[0;32m<ipython-input-31-0f9e6a45abe9>\u001b[0m in \u001b[0;36m__init__\u001b[0;34m(self, data_path, partition, user_id)\u001b[0m\n\u001b[1;32m     22\u001b[0m \u001b[0;34m\u001b[0m\u001b[0m\n\u001b[1;32m     23\u001b[0m         \u001b[0;32mfor\u001b[0m \u001b[0mx_file\u001b[0m \u001b[0;32min\u001b[0m \u001b[0mself\u001b[0m\u001b[0;34m.\u001b[0m\u001b[0mX_files\u001b[0m\u001b[0;34m:\u001b[0m\u001b[0;34m\u001b[0m\u001b[0;34m\u001b[0m\u001b[0m\n\u001b[0;32m---> 24\u001b[0;31m             \u001b[0mXtemp\u001b[0m \u001b[0;34m=\u001b[0m  \u001b[0mio\u001b[0m\u001b[0;34m.\u001b[0m\u001b[0mloadmat\u001b[0m\u001b[0;34m(\u001b[0m\u001b[0mdata_folder\u001b[0m\u001b[0;34m+\u001b[0m\u001b[0;34m'/users_mat/'\u001b[0m\u001b[0;34m+\u001b[0m\u001b[0mx_file\u001b[0m\u001b[0;34m)\u001b[0m\u001b[0;34m\u001b[0m\u001b[0;34m\u001b[0m\u001b[0m\n\u001b[0m\u001b[1;32m     25\u001b[0m             \u001b[0mdata\u001b[0m \u001b[0;34m=\u001b[0m \u001b[0mXtemp\u001b[0m\u001b[0;34m[\u001b[0m\u001b[0;34m'data'\u001b[0m\u001b[0;34m]\u001b[0m\u001b[0;34m\u001b[0m\u001b[0;34m\u001b[0m\u001b[0m\n\u001b[1;32m     26\u001b[0m             \u001b[0mdata\u001b[0m \u001b[0;34m=\u001b[0m \u001b[0mmne\u001b[0m\u001b[0;34m.\u001b[0m\u001b[0mfilter\u001b[0m\u001b[0;34m.\u001b[0m\u001b[0mfilter_data\u001b[0m\u001b[0;34m(\u001b[0m\u001b[0mdata\u001b[0m\u001b[0;34m,\u001b[0m\u001b[0msfreq\u001b[0m\u001b[0;34m=\u001b[0m\u001b[0;36m100\u001b[0m\u001b[0;34m,\u001b[0m\u001b[0ml_freq\u001b[0m\u001b[0;34m=\u001b[0m\u001b[0;36m0.1\u001b[0m\u001b[0;34m,\u001b[0m\u001b[0mh_freq\u001b[0m \u001b[0;34m=\u001b[0m \u001b[0;36m40\u001b[0m\u001b[0;34m)\u001b[0m\u001b[0;34m\u001b[0m\u001b[0;34m\u001b[0m\u001b[0m\n",
            "\u001b[0;32m/usr/local/lib/python3.7/dist-packages/scipy/io/matlab/mio.py\u001b[0m in \u001b[0;36mloadmat\u001b[0;34m(file_name, mdict, appendmat, **kwargs)\u001b[0m\n\u001b[1;32m    216\u001b[0m     \u001b[0;32mwith\u001b[0m \u001b[0m_open_file_context\u001b[0m\u001b[0;34m(\u001b[0m\u001b[0mfile_name\u001b[0m\u001b[0;34m,\u001b[0m \u001b[0mappendmat\u001b[0m\u001b[0;34m)\u001b[0m \u001b[0;32mas\u001b[0m \u001b[0mf\u001b[0m\u001b[0;34m:\u001b[0m\u001b[0;34m\u001b[0m\u001b[0;34m\u001b[0m\u001b[0m\n\u001b[1;32m    217\u001b[0m         \u001b[0mMR\u001b[0m\u001b[0;34m,\u001b[0m \u001b[0m_\u001b[0m \u001b[0;34m=\u001b[0m \u001b[0mmat_reader_factory\u001b[0m\u001b[0;34m(\u001b[0m\u001b[0mf\u001b[0m\u001b[0;34m,\u001b[0m \u001b[0;34m**\u001b[0m\u001b[0mkwargs\u001b[0m\u001b[0;34m)\u001b[0m\u001b[0;34m\u001b[0m\u001b[0;34m\u001b[0m\u001b[0m\n\u001b[0;32m--> 218\u001b[0;31m         \u001b[0mmatfile_dict\u001b[0m \u001b[0;34m=\u001b[0m \u001b[0mMR\u001b[0m\u001b[0;34m.\u001b[0m\u001b[0mget_variables\u001b[0m\u001b[0;34m(\u001b[0m\u001b[0mvariable_names\u001b[0m\u001b[0;34m)\u001b[0m\u001b[0;34m\u001b[0m\u001b[0;34m\u001b[0m\u001b[0m\n\u001b[0m\u001b[1;32m    219\u001b[0m \u001b[0;34m\u001b[0m\u001b[0m\n\u001b[1;32m    220\u001b[0m     \u001b[0;32mif\u001b[0m \u001b[0mmdict\u001b[0m \u001b[0;32mis\u001b[0m \u001b[0;32mnot\u001b[0m \u001b[0;32mNone\u001b[0m\u001b[0;34m:\u001b[0m\u001b[0;34m\u001b[0m\u001b[0;34m\u001b[0m\u001b[0m\n",
            "\u001b[0;32m/usr/local/lib/python3.7/dist-packages/scipy/io/matlab/mio5.py\u001b[0m in \u001b[0;36mget_variables\u001b[0;34m(self, variable_names)\u001b[0m\n\u001b[1;32m    290\u001b[0m                 \u001b[0;32mcontinue\u001b[0m\u001b[0;34m\u001b[0m\u001b[0;34m\u001b[0m\u001b[0m\n\u001b[1;32m    291\u001b[0m             \u001b[0;32mtry\u001b[0m\u001b[0;34m:\u001b[0m\u001b[0;34m\u001b[0m\u001b[0;34m\u001b[0m\u001b[0m\n\u001b[0;32m--> 292\u001b[0;31m                 \u001b[0mres\u001b[0m \u001b[0;34m=\u001b[0m \u001b[0mself\u001b[0m\u001b[0;34m.\u001b[0m\u001b[0mread_var_array\u001b[0m\u001b[0;34m(\u001b[0m\u001b[0mhdr\u001b[0m\u001b[0;34m,\u001b[0m \u001b[0mprocess\u001b[0m\u001b[0;34m)\u001b[0m\u001b[0;34m\u001b[0m\u001b[0;34m\u001b[0m\u001b[0m\n\u001b[0m\u001b[1;32m    293\u001b[0m             \u001b[0;32mexcept\u001b[0m \u001b[0mMatReadError\u001b[0m \u001b[0;32mas\u001b[0m \u001b[0merr\u001b[0m\u001b[0;34m:\u001b[0m\u001b[0;34m\u001b[0m\u001b[0;34m\u001b[0m\u001b[0m\n\u001b[1;32m    294\u001b[0m                 warnings.warn(\n",
            "\u001b[0;32m/usr/local/lib/python3.7/dist-packages/scipy/io/matlab/mio5.py\u001b[0m in \u001b[0;36mread_var_array\u001b[0;34m(self, header, process)\u001b[0m\n\u001b[1;32m    250\u001b[0m            \u001b[0;31m`\u001b[0m\u001b[0mprocess\u001b[0m\u001b[0;31m`\u001b[0m\u001b[0;34m.\u001b[0m\u001b[0;34m\u001b[0m\u001b[0;34m\u001b[0m\u001b[0m\n\u001b[1;32m    251\u001b[0m         '''\n\u001b[0;32m--> 252\u001b[0;31m         \u001b[0;32mreturn\u001b[0m \u001b[0mself\u001b[0m\u001b[0;34m.\u001b[0m\u001b[0m_matrix_reader\u001b[0m\u001b[0;34m.\u001b[0m\u001b[0marray_from_header\u001b[0m\u001b[0;34m(\u001b[0m\u001b[0mheader\u001b[0m\u001b[0;34m,\u001b[0m \u001b[0mprocess\u001b[0m\u001b[0;34m)\u001b[0m\u001b[0;34m\u001b[0m\u001b[0;34m\u001b[0m\u001b[0m\n\u001b[0m\u001b[1;32m    253\u001b[0m \u001b[0;34m\u001b[0m\u001b[0m\n\u001b[1;32m    254\u001b[0m     \u001b[0;32mdef\u001b[0m \u001b[0mget_variables\u001b[0m\u001b[0;34m(\u001b[0m\u001b[0mself\u001b[0m\u001b[0;34m,\u001b[0m \u001b[0mvariable_names\u001b[0m\u001b[0;34m=\u001b[0m\u001b[0;32mNone\u001b[0m\u001b[0;34m)\u001b[0m\u001b[0;34m:\u001b[0m\u001b[0;34m\u001b[0m\u001b[0;34m\u001b[0m\u001b[0m\n",
            "\u001b[0;31mKeyboardInterrupt\u001b[0m: "
          ]
        }
      ],
      "source": [
        "users = UserDataset(data_folder, partition= \"train\", user_id = \"user0\")\n",
        "# print(users[0])"
      ]
    },
    {
      "cell_type": "code",
      "execution_count": null,
      "metadata": {
        "id": "IalhyXC-ZKPR"
      },
      "outputs": [],
      "source": [
        "class UserRNNValidDataset(torch.utils.data.Dataset):\n",
        "    def __init__(self, data_path, user_id = \"0\"): # You can use partition to specify train or dev\n",
        "        self.X_dir = data_path + \"/users_mat/\" # TODO: get mfcc directory path\n",
        "        self.Y_dir = data_path + \"/ground_truths/\" # TODO: get transcript path\n",
        "\n",
        "        self.X_files = os.listdir(self.X_dir)# TODO: list files in the mfcc directory\n",
        "        self.X_files = [f for f in self.X_files if user_id in f]\n",
        "        val = 1\n",
        "        print(self.X_files)\n",
        "        \n",
        "        self.Y_onehot = np.load(data_path+'/ground_truths/one_hot.npy')\n",
        "        self.Y_timestamps = np.load(data_path+'/ground_truths/timestamps.npy',allow_pickle=True)\n",
        "        # self.Y_files = os.listdir(self.Y_dir)# TODO: list files in the transcript directory\n",
        "        self.XXX = []\n",
        "        self.YYY = []\n",
        "        \n",
        "        for x_file in tqdm(self.X_files):\n",
        "            Xtemp =  io.loadmat(data_folder+'/users_mat/'+x_file)\n",
        "            data = Xtemp['data']\n",
        "            data = mne.filter.filter_data(data,sfreq=100,l_freq=0.1,h_freq = 40)\n",
        "            for i in data:\n",
        "                x = i.T\n",
        "                # temp = np.reshape(i,(300,125,125))\n",
        "                # split_temp = np.split(temp,300)\n",
        "                self.XXX.append(x)\n",
        "\n",
        "\n",
        "            for i in self.Y_onehot:\n",
        "                # y = np.reshape(i,(300,125))\n",
        "                # temp = np.split(i, 300)\n",
        "                self.YYY.append(i)\n",
        "\n",
        "                # self.YYY.extend(temp)\n",
        "\n",
        "        assert(len(self.YYY) == len(self.XXX))\n",
        "\n",
        "    def __len__(self):\n",
        "        return len(self.XXX)\n",
        "\n",
        "    def __getitem__(self, ind):\n",
        "        return self.XXX[ind], self.YYY[ind]\n",
        "    \n",
        "    def collate_fn(batch):\n",
        "        batch_x = [torch.from_numpy(x) for x,y in batch]\n",
        "        batch_y = [torch.from_numpy(y) for x,y in batch]\n",
        "\n",
        "        return torch.stack(batch_x,dim=0).squeeze(dim=0),torch.stack(batch_y,dim=0).squeeze(dim=0)\n",
        "\n"
      ]
    },
    {
      "cell_type": "code",
      "execution_count": null,
      "metadata": {
        "id": "6j2XvJKIWPG2"
      },
      "outputs": [],
      "source": [
        "class UserRNNDataset(torch.utils.data.Dataset):\n",
        "    def __init__(self, data_path, partition= \"train\", user_id = \"0\",context=0): # You can use partition to specify train or dev\n",
        "        self.X_dir = data_path + \"/users_mat/\" # TODO: get mfcc directory path\n",
        "        self.Y_dir = data_path + \"/ground_truths/\" # TODO: get transcript path\n",
        "        self.context = context\n",
        "        self.X_files = os.listdir(self.X_dir)# TODO: list files in the mfcc directory\n",
        "        print(user_id)\n",
        "        if partition == 'train':\n",
        "            self.X_files = [f for f in self.X_files if user_id not in f]\n",
        "            val = 19\n",
        "        else:\n",
        "            self.X_files = [f for f in self.X_files if user_id in f]\n",
        "            val = 1\n",
        "        print(self.X_files)\n",
        "        \n",
        "        self.Y_onehot = np.load(data_path+'/ground_truths/one_hot.npy')\n",
        "        self.Y_timestamps = np.load(data_path+'/ground_truths/timestamps.npy',allow_pickle=True)\n",
        "        # self.Y_files = os.listdir(self.Y_dir)# TODO: list files in the transcript directory\n",
        "        XXX = []\n",
        "        self.YYY = []\n",
        "        \n",
        "        for x_file in self.X_files:\n",
        "            Xtemp =  io.loadmat(data_folder+'/users_mat/'+x_file)\n",
        "            data = Xtemp['data']\n",
        "            data = mne.filter.filter_data(data,sfreq=100,l_freq=0.1,h_freq = 40)\n",
        "            for i in data:\n",
        "                x = i.T\n",
        "                temp = np.reshape(i,(300,125,125))\n",
        "                split_temp = np.split(temp,300)\n",
        "                XXX.extend(split_temp)\n",
        "            \n",
        "            del Xtemp,data\n",
        "\n",
        "            for i in self.Y_onehot:\n",
        "                y = np.reshape(i,(300,125))\n",
        "                temp = np.split(i, 300)\n",
        "                self.YYY.extend(temp)\n",
        "\n",
        "        self.XX =np.array(XXX)\n",
        "        # print(self.XX.shape)\n",
        "        if context!=0:\n",
        "            self.add_blocks = context//125 + 1\n",
        "            self.XX = np.pad(self.XX,((self.add_blocks,self.add_blocks),(0,0),(0,0),(0,0)))\n",
        "            # print(\"post pad\",self.XX.shape)\n",
        "        \n",
        "        # assert(len(self.YYY) == len(self.XXX))\n",
        "\n",
        "    def __len__(self):\n",
        "        return len(self.YYY)\n",
        "\n",
        "    def __getitem__(self, ind):\n",
        "        if self.context!=0:\n",
        "            extracted = self.XX[ind:ind+(self.add_blocks*2)+1,0]\n",
        "            pre_x = extracted[0,-self.context%125:,:]\n",
        "            post_x = extracted[-1,:self.context%125,:]\n",
        "            # print(\"pre\",pre_x.shape)\n",
        "            # print(\"post\",post_x.shape)\n",
        "            middle_x = extracted[1:-1,:,:].reshape((-1,125))\n",
        "            # print(\"middle\",middle_x.shape)\n",
        "            final_x = np.vstack((pre_x,middle_x,post_x))\n",
        "            # print('final_x',final_x.shape)\n",
        "            return final_x,self.YYY[ind]\n",
        "        else:\n",
        "            return self.XXX[ind], self.YYY[ind]\n",
        "    \n",
        "    def collate_fn(batch):\n",
        "        batch_x = [torch.from_numpy(x) for x,y in batch]\n",
        "        batch_y = [torch.from_numpy(y) for x,y in batch]\n",
        "\n",
        "        return torch.stack(batch_x,dim=0).squeeze(),torch.stack(batch_y,dim=0).squeeze()\n",
        "\n"
      ]
    },
    {
      "cell_type": "code",
      "execution_count": null,
      "metadata": {
        "id": "hGKddl4ltJD9"
      },
      "outputs": [],
      "source": [
        "user_id=0\n",
        "context = 5\n",
        "# train_dataset = UserRNNDataset(data_folder,'train','user'+str(user_id),context = context)\n",
        "# val_dataset = UserRNNDataset(data_folder,partition=\"valid\",user_id='user'+str(user_id),context = context)\n",
        "# train_loader =torch.utils.data.DataLoader(train_dataset,batch_size=32,collate_fn = UserRNNDataset.collate_fn,shuffle=True,num_workers=4)\n",
        "# val_loader = torch.utils.data.DataLoader(val_dataset,batch_size=32,collate_fn = UserRNNDataset.collate_fn,shuffle=False,num_workers=4)\n"
      ]
    },
    {
      "cell_type": "code",
      "execution_count": null,
      "metadata": {
        "id": "SssjkEhEeq8H"
      },
      "outputs": [],
      "source": [
        ""
      ]
    },
    {
      "cell_type": "code",
      "execution_count": null,
      "metadata": {
        "id": "4E5wwv5keq2U"
      },
      "outputs": [],
      "source": [
        ""
      ]
    },
    {
      "cell_type": "code",
      "execution_count": null,
      "metadata": {
        "id": "lyJYitDMeqw_"
      },
      "outputs": [],
      "source": [
        ""
      ]
    },
    {
      "cell_type": "code",
      "execution_count": null,
      "metadata": {
        "id": "UVOM5Cc-3MQO"
      },
      "outputs": [],
      "source": [
        "# class Baseline(torch.nn.Module):\n",
        "#     def __init__(self,context=0):\n",
        "#         super(Baseline, self).__init__()\n",
        "#         # self.flatten = nn.Flatten()\n",
        "#         self.context_embedding = nn.Conv1d(in_channels=125, out_channels=125,kernel_size = 2*context+1,padding=\"valid\",stride=1,groups = 125)\n",
        "#         self.rnn = nn.GRU(input_size = 125,hidden_size=64,num_layers=2,batch_first=True)\n",
        "\n",
        "#         self.layers = nn.Sequential(\n",
        "#             nn.Linear(64, 1), # try with 125 output\n",
        "#         )\n",
        "\n",
        "#     def forward(self, x):\n",
        "#         # x = torch.flatten(x,start_dim=-2)\n",
        "#         # print('forwaard')\n",
        "#         trans_x = torch.permute(x,(0,2,1))\n",
        "#         # print(\"perm inp\",trans_x.shape)\n",
        "#         x_out = self.context_embedding(trans_x)\n",
        "#         # print(\"out of conv\",x_out.shape)\n",
        "#         x = torch.permute(x_out,(0,2,1))\n",
        "#         # print(\"conv op permute\",x.shape)\n",
        "#         out,h_n =self.rnn(x)\n",
        "#         x = self.layers(out)\n",
        "#         # print(\"\")\n",
        "#         return x\n"
      ]
    },
    {
      "cell_type": "code",
      "execution_count": null,
      "metadata": {
        "id": "5gUqkKu5A3j9"
      },
      "outputs": [],
      "source": [
        "# class Baseline(torch.nn.Module):\n",
        "#     def __init__(self,context=0):\n",
        "#         super(Baseline, self).__init__()\n",
        "#         # self.flatten = nn.Flatten()\n",
        "#         self.context_embedding = nn.Sequential(\n",
        "#             nn.Conv1d(in_channels=125, out_channels=125,kernel_size = 2*context+1,padding=\"valid\",stride=1,groups = 125),\n",
        "#             nn.BatchNorm1d(125),\n",
        "#             nn.LeakyReLU(),)\n",
        "#         self.rnn = nn.GRU(input_size = 125,hidden_size=64,num_layers=2,batch_first=True)\n",
        "\n",
        "#         self.layers = nn.Sequential(\n",
        "#             nn.Linear(64, 64),\n",
        "#             nn.BatchNorm1d(64),\n",
        "#             nn.LeakyReLU(),\n",
        "#             nn.Dropout(0.35),\n",
        "#             nn.Linear(64, 1), # try with 125 output\n",
        "#         )\n",
        "\n",
        "#     def forward(self, x):\n",
        "#         trans_x = torch.permute(x,(0,2,1))\n",
        "#         x_out = self.context_embedding(trans_x)\n",
        "#         x = torch.permute(x_out,(0,2,1))\n",
        "#         out,h_n =self.rnn(x)\n",
        "#         x = self.layers(out)\n",
        "#         # print(\"\")\n",
        "#         return x\n"
      ]
    },
    {
      "cell_type": "code",
      "execution_count": null,
      "metadata": {
        "id": "-yHjGjRGLjV0"
      },
      "outputs": [],
      "source": [
        "class Baseline(torch.nn.Module):\n",
        "    def __init__(self,context=0):\n",
        "        super(Baseline, self).__init__()\n",
        "        # self.flatten = nn.Flatten()\n",
        "        #self.context_embedding = nn.Conv1d(in_channels=125, out_channels=125,kernel_size = 2*context+1,padding=\"valid\",stride=1,groups = 125)\n",
        "        \n",
        "        self.context_embedding = nn.Sequential(\n",
        "            nn.Conv1d(in_channels=125,out_channels=125,kernel_size=2*context+1,stride=1, padding=\"valid\",groups = 125),\n",
        "        )\n",
        "        \n",
        "        #self.rnn = nn.GRU(input_size = 125,hidden_size=64,num_layers=2,batch_first=True)\n",
        "        self.lstm = nn.LSTM(125,125, 3, batch_first = True, dropout = 0.4, bidirectional=True)\n",
        "\n",
        "        #self.layer_norm = nn.LayerNorm(125)\n",
        "\n",
        "        self.layers = nn.Sequential(\n",
        "            nn.Linear(250, 2056),\n",
        "            nn.LeakyReLU(),\n",
        "            nn.Dropout(0.3),\n",
        "            nn.Linear(2056, 1), # try with 125 output\n",
        "        )\n",
        "\n",
        "    def forward(self, x):\n",
        "        trans_x = torch.permute(x,(0,2,1))\n",
        "        x_out = self.context_embedding(trans_x)\n",
        "        x = torch.permute(x_out,(0,2,1))\n",
        "        out,h_n =self.lstm(x)\n",
        "        #out = self.layer_norm(out)\n",
        "        x = self.layers(out)\n",
        "        # print(\"\")\n",
        "        return x\n"
      ]
    },
    {
      "cell_type": "code",
      "execution_count": null,
      "metadata": {
        "id": "OoI4bZ1kSg8z"
      },
      "outputs": [],
      "source": [
        ""
      ]
    },
    {
      "cell_type": "code",
      "execution_count": null,
      "metadata": {
        "id": "0SkyGLk46YKM"
      },
      "outputs": [],
      "source": [
        "# del model\n",
        "# model = Baseline(context=context).cuda()\n"
      ]
    },
    {
      "cell_type": "code",
      "execution_count": null,
      "metadata": {
        "id": "yNZn_vMX6scE"
      },
      "outputs": [],
      "source": [
        "# for data in val_loader:\n",
        "#     x=data[0].cuda()\n",
        "#     y=data[1].cuda()\n",
        "    \n",
        "#     # x=data[0].cuda().unsqueeze(dim=0)\n",
        "#     # y=data[1].cuda().unsqueeze(dim=0)\n",
        "#     print('x',x.shape)\n",
        "#     print('y',y.shape)\n",
        "#     out = model(x.float())\n",
        "\n",
        "#     print('out',out.shape)\n",
        "#     print(y.flatten().shape)\n",
        "\n",
        "#     print(out.flatten().shape)\n",
        "#     # print(min(out),max(out))\n",
        "#     out2 =nn.Sigmoid()(out)\n",
        "#     print(roc_auc_score(y.cpu().detach().numpy().flatten(),out2.cpu().detach().numpy().flatten()))\n",
        "#     break"
      ]
    },
    {
      "cell_type": "code",
      "execution_count": null,
      "metadata": {
        "id": "cFFMan-yH7kF"
      },
      "outputs": [],
      "source": [
        "# out"
      ]
    },
    {
      "cell_type": "code",
      "execution_count": null,
      "metadata": {
        "id": "N3qFkNOA6geo"
      },
      "outputs": [],
      "source": [
        "# model(x.float()).shape"
      ]
    },
    {
      "cell_type": "code",
      "execution_count": null,
      "metadata": {
        "id": "T1HFDKWftI-E"
      },
      "outputs": [],
      "source": [
        "def validate(model,val_loader,criterion):\n",
        "    model.eval()\n",
        "    batch_bar = tqdm(total=len(val_loader), dynamic_ncols=True, leave=False, position=0, desc='Validation')\n",
        "\n",
        "    f1=[]\n",
        "\n",
        "    recall=[]\n",
        "    precision=[]\n",
        "    total_val_loss = 0\n",
        "    ground_truth=np.empty((1,0))\n",
        "    predictions = np.empty((1,0))\n",
        "    # print(\"Validation\")\n",
        "    total_raw_score=0\n",
        "    for idx,(x,y) in tqdm(enumerate(val_loader)):\n",
        "    # for idx,(x,y) in enumerate(val_loader):\n",
        "\n",
        "        ground_truth = np.append(ground_truth,y.reshape(1,-1))\n",
        "        x = x.float().cuda()\n",
        "        y = y.float().cuda()\n",
        "\n",
        "        with torch.no_grad():\n",
        "            pd_one_hot = model(x)\n",
        "            predictions = np.append(predictions,nn.Sigmoid()(pd_one_hot).squeeze().cpu().detach().numpy().reshape(1,-1))\n",
        "            val_loss = criterion(pd_one_hot.squeeze(),y)\n",
        "            y_np = y.cpu().numpy()\n",
        "            pred_np = nn.Sigmoid()(pd_one_hot).squeeze().cpu().detach().numpy()\n",
        "            total_raw_score += roc_auc_score(y_np.flatten(),pred_np.flatten())\n",
        "            # pd_one_hot = nn.Sigmoid()(pd_one_hot)\n",
        "            # pd_one_hot = torch.flatten(pd_one_hot)\n",
        "            # pd_one_hot = pd_one_hot.cpu().numpy()\n",
        "        total_val_loss +=val_loss\n",
        "        # out = madmom.features.onsets.peak_picking(pd_one_hot,0.5)\n",
        "        # predicted_ts = out/125\n",
        "        # if len(predicted_ts)==0:\n",
        "        #     F,P,R =0.0,0.0,0.0\n",
        "        # else:\n",
        "        #     F,P,R = mir_eval.onset.f_measure(gt_ts,predicted_ts,window=1)\n",
        "        # f1.append(F)\n",
        "        # precision.append(P)\n",
        "        # recall.append(R)\n",
        "        batch_bar.set_postfix(roc_score=\"{:.04f}\".format(float(total_raw_score / (idx + 1))),loss=\"{:.04f}\".format(float(total_val_loss / (idx + 1))), lr=\"{:.04f}\".format(float(optimizer.param_groups[0]['lr'])))\n",
        "        batch_bar.update()\n",
        "        del x,y,pd_one_hot,val_loss\n",
        "        torch.cuda.empty_cache()\n",
        "    # print(predictions.shape)\n",
        "    batch_bar.close()\n",
        "\n",
        "    for idx in range(10):\n",
        "        print(\"\")\n",
        "        gt_ts = val_loader.dataset.Y_timestamps[idx]\n",
        "        song_pred = predictions[idx*37500:(idx+1)*37500]\n",
        "\n",
        "        # print(song_pred.shape,gt_ts.shape)\n",
        "        #print(len(gt_ts))\n",
        "        out = madmom.features.onsets.peak_picking(song_pred,0.055)\n",
        "        predicted_ts = out/125\n",
        "        #print(len(predicted_ts))\n",
        "        if len(predicted_ts)==0:\n",
        "            F,P,R =0.0,0.0,0.0\n",
        "        else:\n",
        "            F,P,R = mir_eval.onset.f_measure(gt_ts,predicted_ts,window=0.1)\n",
        "        f1.append(F)\n",
        "        precision.append(P)\n",
        "        recall.append(R)\n",
        "\n",
        "    # print(f1)\n",
        "    # print(precision)\n",
        "    # print(recall)\n",
        "    model.train()\n",
        "    return f1,precision,recall,total_val_loss/len(val_loader)\n"
      ]
    },
    {
      "cell_type": "code",
      "execution_count": null,
      "metadata": {
        "id": "6ZmS5J9F8U40"
      },
      "outputs": [],
      "source": [
        "epoch = 6\n",
        "scores = {\"f\":[],'p':[],'r':[]}"
      ]
    },
    {
      "cell_type": "code",
      "execution_count": null,
      "metadata": {
        "id": "xQPIUUyBE4xr"
      },
      "outputs": [],
      "source": [
        "del train_dataset,val_dataset,train_loader,val_loader,model,criterion\n",
        "del optimizer"
      ]
    },
    {
      "cell_type": "code",
      "execution_count": null,
      "metadata": {
        "id": "j-BPKIcB8Uzh"
      },
      "outputs": [],
      "source": [
        "def train(model,epoch,train_loader,val_loader,criterion,optimizer, scheduler):\n",
        "    for e in range(epoch):\n",
        "        print(\"Epoch \",e)\n",
        "        batch_bar = tqdm(total=len(train_loader), dynamic_ncols=True, leave=False, position=0, desc='Training')\n",
        "        total_loss=0\n",
        "        for idx,data in enumerate(train_loader):\n",
        "            model.train()\n",
        "            optimizer.zero_grad()\n",
        "            x=data[0].float().cuda()\n",
        "            y=data[1].float().cuda()\n",
        "            out = model(x)\n",
        "            out=out.squeeze()\n",
        "            loss = criterion(out,y)\n",
        "            loss.backward()\n",
        "            optimizer.step()\n",
        "            total_loss+=loss\n",
        "\n",
        "            batch_bar.set_postfix(loss=\"{:.04f}\".format(float(total_loss / (idx + 1))), lr=\"{:.04f}\".format(float(optimizer.param_groups[0]['lr'])))\n",
        "            batch_bar.update()\n",
        "\n",
        "            del data,x,y,out,loss\n",
        "            torch.cuda.empty_cache()\n",
        "        batch_bar.close()\n",
        "\n",
        "        f,p,r,val_loss  = validate(model,val_loader,criterion)\n",
        "        \n",
        "\n",
        "        print(\"Epoch {}/{}: Train Loss {:.04f}, Learning Rate {:.04f}, Validation Loss {:.04f}, F1 Score {:.04f}, Precision {:.04f}, Recall {:.04f}\".format(\n",
        "            e,\n",
        "            epoch,\n",
        "            float(total_loss / (len(train_loader))),\n",
        "            float(optimizer.param_groups[0]['lr']),val_loss,np.mean(f),np.mean(p),np.mean(r)))\n",
        "        \n",
        "        scheduler.step(val_loss)\n",
        "    return np.mean(f),np.mean(p),np.mean(r)"
      ]
    },
    {
      "cell_type": "code",
      "execution_count": null,
      "metadata": {
        "id": "xDYie2T2BvDu"
      },
      "outputs": [],
      "source": [
        "model = Baseline(context=context).cuda()\n",
        "#f,p,r = train(model,epoch,train_loader,val_loader,criterion,optimizer, scheduler)\n"
      ]
    },
    {
      "cell_type": "code",
      "execution_count": null,
      "metadata": {
        "colab": {
          "base_uri": "https://localhost:8080/",
          "height": 1000
        },
        "id": "PDQ0jM9REhri",
        "outputId": "18614b2e-d88c-408f-e58b-3f56e7baff52"
      },
      "outputs": [
        {
          "metadata": {
            "tags": null
          },
          "name": "stderr",
          "output_type": "stream",
          "text": [
            "\r                                                                                                        "
          ]
        },
        {
          "metadata": {
            "tags": null
          },
          "name": "stdout",
          "output_type": "stream",
          "text": [
            "user_id 0\n"
          ]
        },
        {
          "metadata": {
            "tags": null
          },
          "name": "stderr",
          "output_type": "stream",
          "text": [
            "\r"
          ]
        },
        {
          "metadata": {
            "tags": null
          },
          "name": "stdout",
          "output_type": "stream",
          "text": [
            "user0\n",
            "['user1_restructured.mat', 'user2_restructured.mat', 'user3_restructured.mat', 'user4_restructured.mat', 'user5_restructured.mat', 'user6_restructured.mat', 'user7_restructured.mat', 'user8_restructured.mat', 'user9_restructured.mat', 'user10_restructured.mat', 'user11_restructured.mat', 'user12_restructured.mat', 'user13_restructured.mat', 'user14_restructured.mat', 'user15_restructured.mat', 'user16_restructured.mat', 'user17_restructured.mat', 'user18_restructured.mat', 'user19_restructured.mat']\n",
            "Setting up band-pass filter from 0.1 - 40 Hz\n",
            "\n",
            "FIR filter parameters\n",
            "---------------------\n",
            "Designing a one-pass, zero-phase, non-causal bandpass filter:\n",
            "- Windowed time-domain design (firwin) method\n",
            "- Hamming window with 0.0194 passband ripple and 53 dB stopband attenuation\n",
            "- Lower passband edge: 0.10\n",
            "- Lower transition bandwidth: 0.10 Hz (-6 dB cutoff frequency: 0.05 Hz)\n",
            "- Upper passband edge: 40.00 Hz\n",
            "- Upper transition bandwidth: 10.00 Hz (-6 dB cutoff frequency: 45.00 Hz)\n",
            "- Filter length: 3301 samples (33.010 sec)\n",
            "\n",
            "Setting up band-pass filter from 0.1 - 40 Hz\n",
            "\n",
            "FIR filter parameters\n",
            "---------------------\n",
            "Designing a one-pass, zero-phase, non-causal bandpass filter:\n",
            "- Windowed time-domain design (firwin) method\n",
            "- Hamming window with 0.0194 passband ripple and 53 dB stopband attenuation\n",
            "- Lower passband edge: 0.10\n",
            "- Lower transition bandwidth: 0.10 Hz (-6 dB cutoff frequency: 0.05 Hz)\n",
            "- Upper passband edge: 40.00 Hz\n",
            "- Upper transition bandwidth: 10.00 Hz (-6 dB cutoff frequency: 45.00 Hz)\n",
            "- Filter length: 3301 samples (33.010 sec)\n",
            "\n",
            "Setting up band-pass filter from 0.1 - 40 Hz\n",
            "\n",
            "FIR filter parameters\n",
            "---------------------\n",
            "Designing a one-pass, zero-phase, non-causal bandpass filter:\n",
            "- Windowed time-domain design (firwin) method\n",
            "- Hamming window with 0.0194 passband ripple and 53 dB stopband attenuation\n",
            "- Lower passband edge: 0.10\n",
            "- Lower transition bandwidth: 0.10 Hz (-6 dB cutoff frequency: 0.05 Hz)\n",
            "- Upper passband edge: 40.00 Hz\n",
            "- Upper transition bandwidth: 10.00 Hz (-6 dB cutoff frequency: 45.00 Hz)\n",
            "- Filter length: 3301 samples (33.010 sec)\n",
            "\n",
            "Setting up band-pass filter from 0.1 - 40 Hz\n",
            "\n",
            "FIR filter parameters\n",
            "---------------------\n",
            "Designing a one-pass, zero-phase, non-causal bandpass filter:\n",
            "- Windowed time-domain design (firwin) method\n",
            "- Hamming window with 0.0194 passband ripple and 53 dB stopband attenuation\n",
            "- Lower passband edge: 0.10\n",
            "- Lower transition bandwidth: 0.10 Hz (-6 dB cutoff frequency: 0.05 Hz)\n",
            "- Upper passband edge: 40.00 Hz\n",
            "- Upper transition bandwidth: 10.00 Hz (-6 dB cutoff frequency: 45.00 Hz)\n",
            "- Filter length: 3301 samples (33.010 sec)\n",
            "\n",
            "Setting up band-pass filter from 0.1 - 40 Hz\n",
            "\n",
            "FIR filter parameters\n",
            "---------------------\n",
            "Designing a one-pass, zero-phase, non-causal bandpass filter:\n",
            "- Windowed time-domain design (firwin) method\n",
            "- Hamming window with 0.0194 passband ripple and 53 dB stopband attenuation\n",
            "- Lower passband edge: 0.10\n",
            "- Lower transition bandwidth: 0.10 Hz (-6 dB cutoff frequency: 0.05 Hz)\n",
            "- Upper passband edge: 40.00 Hz\n",
            "- Upper transition bandwidth: 10.00 Hz (-6 dB cutoff frequency: 45.00 Hz)\n",
            "- Filter length: 3301 samples (33.010 sec)\n",
            "\n",
            "Setting up band-pass filter from 0.1 - 40 Hz\n",
            "\n",
            "FIR filter parameters\n",
            "---------------------\n",
            "Designing a one-pass, zero-phase, non-causal bandpass filter:\n",
            "- Windowed time-domain design (firwin) method\n",
            "- Hamming window with 0.0194 passband ripple and 53 dB stopband attenuation\n",
            "- Lower passband edge: 0.10\n",
            "- Lower transition bandwidth: 0.10 Hz (-6 dB cutoff frequency: 0.05 Hz)\n",
            "- Upper passband edge: 40.00 Hz\n",
            "- Upper transition bandwidth: 10.00 Hz (-6 dB cutoff frequency: 45.00 Hz)\n",
            "- Filter length: 3301 samples (33.010 sec)\n",
            "\n",
            "Setting up band-pass filter from 0.1 - 40 Hz\n",
            "\n",
            "FIR filter parameters\n",
            "---------------------\n",
            "Designing a one-pass, zero-phase, non-causal bandpass filter:\n",
            "- Windowed time-domain design (firwin) method\n",
            "- Hamming window with 0.0194 passband ripple and 53 dB stopband attenuation\n",
            "- Lower passband edge: 0.10\n",
            "- Lower transition bandwidth: 0.10 Hz (-6 dB cutoff frequency: 0.05 Hz)\n",
            "- Upper passband edge: 40.00 Hz\n",
            "- Upper transition bandwidth: 10.00 Hz (-6 dB cutoff frequency: 45.00 Hz)\n",
            "- Filter length: 3301 samples (33.010 sec)\n",
            "\n",
            "Setting up band-pass filter from 0.1 - 40 Hz\n",
            "\n",
            "FIR filter parameters\n",
            "---------------------\n",
            "Designing a one-pass, zero-phase, non-causal bandpass filter:\n",
            "- Windowed time-domain design (firwin) method\n",
            "- Hamming window with 0.0194 passband ripple and 53 dB stopband attenuation\n",
            "- Lower passband edge: 0.10\n",
            "- Lower transition bandwidth: 0.10 Hz (-6 dB cutoff frequency: 0.05 Hz)\n",
            "- Upper passband edge: 40.00 Hz\n",
            "- Upper transition bandwidth: 10.00 Hz (-6 dB cutoff frequency: 45.00 Hz)\n",
            "- Filter length: 3301 samples (33.010 sec)\n",
            "\n",
            "Setting up band-pass filter from 0.1 - 40 Hz\n",
            "\n",
            "FIR filter parameters\n",
            "---------------------\n",
            "Designing a one-pass, zero-phase, non-causal bandpass filter:\n",
            "- Windowed time-domain design (firwin) method\n",
            "- Hamming window with 0.0194 passband ripple and 53 dB stopband attenuation\n",
            "- Lower passband edge: 0.10\n",
            "- Lower transition bandwidth: 0.10 Hz (-6 dB cutoff frequency: 0.05 Hz)\n",
            "- Upper passband edge: 40.00 Hz\n",
            "- Upper transition bandwidth: 10.00 Hz (-6 dB cutoff frequency: 45.00 Hz)\n",
            "- Filter length: 3301 samples (33.010 sec)\n",
            "\n",
            "Setting up band-pass filter from 0.1 - 40 Hz\n",
            "\n",
            "FIR filter parameters\n",
            "---------------------\n",
            "Designing a one-pass, zero-phase, non-causal bandpass filter:\n",
            "- Windowed time-domain design (firwin) method\n",
            "- Hamming window with 0.0194 passband ripple and 53 dB stopband attenuation\n",
            "- Lower passband edge: 0.10\n",
            "- Lower transition bandwidth: 0.10 Hz (-6 dB cutoff frequency: 0.05 Hz)\n",
            "- Upper passband edge: 40.00 Hz\n",
            "- Upper transition bandwidth: 10.00 Hz (-6 dB cutoff frequency: 45.00 Hz)\n",
            "- Filter length: 3301 samples (33.010 sec)\n",
            "\n",
            "Setting up band-pass filter from 0.1 - 40 Hz\n",
            "\n",
            "FIR filter parameters\n",
            "---------------------\n",
            "Designing a one-pass, zero-phase, non-causal bandpass filter:\n",
            "- Windowed time-domain design (firwin) method\n",
            "- Hamming window with 0.0194 passband ripple and 53 dB stopband attenuation\n",
            "- Lower passband edge: 0.10\n",
            "- Lower transition bandwidth: 0.10 Hz (-6 dB cutoff frequency: 0.05 Hz)\n",
            "- Upper passband edge: 40.00 Hz\n",
            "- Upper transition bandwidth: 10.00 Hz (-6 dB cutoff frequency: 45.00 Hz)\n",
            "- Filter length: 3301 samples (33.010 sec)\n",
            "\n",
            "Setting up band-pass filter from 0.1 - 40 Hz\n",
            "\n",
            "FIR filter parameters\n",
            "---------------------\n",
            "Designing a one-pass, zero-phase, non-causal bandpass filter:\n",
            "- Windowed time-domain design (firwin) method\n",
            "- Hamming window with 0.0194 passband ripple and 53 dB stopband attenuation\n",
            "- Lower passband edge: 0.10\n",
            "- Lower transition bandwidth: 0.10 Hz (-6 dB cutoff frequency: 0.05 Hz)\n",
            "- Upper passband edge: 40.00 Hz\n",
            "- Upper transition bandwidth: 10.00 Hz (-6 dB cutoff frequency: 45.00 Hz)\n",
            "- Filter length: 3301 samples (33.010 sec)\n",
            "\n",
            "Setting up band-pass filter from 0.1 - 40 Hz\n",
            "\n",
            "FIR filter parameters\n",
            "---------------------\n",
            "Designing a one-pass, zero-phase, non-causal bandpass filter:\n",
            "- Windowed time-domain design (firwin) method\n",
            "- Hamming window with 0.0194 passband ripple and 53 dB stopband attenuation\n",
            "- Lower passband edge: 0.10\n",
            "- Lower transition bandwidth: 0.10 Hz (-6 dB cutoff frequency: 0.05 Hz)\n",
            "- Upper passband edge: 40.00 Hz\n",
            "- Upper transition bandwidth: 10.00 Hz (-6 dB cutoff frequency: 45.00 Hz)\n",
            "- Filter length: 3301 samples (33.010 sec)\n",
            "\n",
            "Setting up band-pass filter from 0.1 - 40 Hz\n",
            "\n",
            "FIR filter parameters\n",
            "---------------------\n",
            "Designing a one-pass, zero-phase, non-causal bandpass filter:\n",
            "- Windowed time-domain design (firwin) method\n",
            "- Hamming window with 0.0194 passband ripple and 53 dB stopband attenuation\n",
            "- Lower passband edge: 0.10\n",
            "- Lower transition bandwidth: 0.10 Hz (-6 dB cutoff frequency: 0.05 Hz)\n",
            "- Upper passband edge: 40.00 Hz\n",
            "- Upper transition bandwidth: 10.00 Hz (-6 dB cutoff frequency: 45.00 Hz)\n",
            "- Filter length: 3301 samples (33.010 sec)\n",
            "\n",
            "Setting up band-pass filter from 0.1 - 40 Hz\n",
            "\n",
            "FIR filter parameters\n",
            "---------------------\n",
            "Designing a one-pass, zero-phase, non-causal bandpass filter:\n",
            "- Windowed time-domain design (firwin) method\n",
            "- Hamming window with 0.0194 passband ripple and 53 dB stopband attenuation\n",
            "- Lower passband edge: 0.10\n",
            "- Lower transition bandwidth: 0.10 Hz (-6 dB cutoff frequency: 0.05 Hz)\n",
            "- Upper passband edge: 40.00 Hz\n",
            "- Upper transition bandwidth: 10.00 Hz (-6 dB cutoff frequency: 45.00 Hz)\n",
            "- Filter length: 3301 samples (33.010 sec)\n",
            "\n",
            "Setting up band-pass filter from 0.1 - 40 Hz\n",
            "\n",
            "FIR filter parameters\n",
            "---------------------\n",
            "Designing a one-pass, zero-phase, non-causal bandpass filter:\n",
            "- Windowed time-domain design (firwin) method\n",
            "- Hamming window with 0.0194 passband ripple and 53 dB stopband attenuation\n",
            "- Lower passband edge: 0.10\n",
            "- Lower transition bandwidth: 0.10 Hz (-6 dB cutoff frequency: 0.05 Hz)\n",
            "- Upper passband edge: 40.00 Hz\n",
            "- Upper transition bandwidth: 10.00 Hz (-6 dB cutoff frequency: 45.00 Hz)\n",
            "- Filter length: 3301 samples (33.010 sec)\n",
            "\n",
            "Setting up band-pass filter from 0.1 - 40 Hz\n",
            "\n",
            "FIR filter parameters\n",
            "---------------------\n",
            "Designing a one-pass, zero-phase, non-causal bandpass filter:\n",
            "- Windowed time-domain design (firwin) method\n",
            "- Hamming window with 0.0194 passband ripple and 53 dB stopband attenuation\n",
            "- Lower passband edge: 0.10\n",
            "- Lower transition bandwidth: 0.10 Hz (-6 dB cutoff frequency: 0.05 Hz)\n",
            "- Upper passband edge: 40.00 Hz\n",
            "- Upper transition bandwidth: 10.00 Hz (-6 dB cutoff frequency: 45.00 Hz)\n",
            "- Filter length: 3301 samples (33.010 sec)\n",
            "\n",
            "Setting up band-pass filter from 0.1 - 40 Hz\n",
            "\n",
            "FIR filter parameters\n",
            "---------------------\n",
            "Designing a one-pass, zero-phase, non-causal bandpass filter:\n",
            "- Windowed time-domain design (firwin) method\n",
            "- Hamming window with 0.0194 passband ripple and 53 dB stopband attenuation\n",
            "- Lower passband edge: 0.10\n",
            "- Lower transition bandwidth: 0.10 Hz (-6 dB cutoff frequency: 0.05 Hz)\n",
            "- Upper passband edge: 40.00 Hz\n",
            "- Upper transition bandwidth: 10.00 Hz (-6 dB cutoff frequency: 45.00 Hz)\n",
            "- Filter length: 3301 samples (33.010 sec)\n",
            "\n",
            "Setting up band-pass filter from 0.1 - 40 Hz\n",
            "\n",
            "FIR filter parameters\n",
            "---------------------\n",
            "Designing a one-pass, zero-phase, non-causal bandpass filter:\n",
            "- Windowed time-domain design (firwin) method\n",
            "- Hamming window with 0.0194 passband ripple and 53 dB stopband attenuation\n",
            "- Lower passband edge: 0.10\n",
            "- Lower transition bandwidth: 0.10 Hz (-6 dB cutoff frequency: 0.05 Hz)\n",
            "- Upper passband edge: 40.00 Hz\n",
            "- Upper transition bandwidth: 10.00 Hz (-6 dB cutoff frequency: 45.00 Hz)\n",
            "- Filter length: 3301 samples (33.010 sec)\n",
            "\n",
            "user0\n",
            "['user0_restructured.mat']\n",
            "Setting up band-pass filter from 0.1 - 40 Hz\n",
            "\n",
            "FIR filter parameters\n",
            "---------------------\n",
            "Designing a one-pass, zero-phase, non-causal bandpass filter:\n",
            "- Windowed time-domain design (firwin) method\n",
            "- Hamming window with 0.0194 passband ripple and 53 dB stopband attenuation\n",
            "- Lower passband edge: 0.10\n",
            "- Lower transition bandwidth: 0.10 Hz (-6 dB cutoff frequency: 0.05 Hz)\n",
            "- Upper passband edge: 40.00 Hz\n",
            "- Upper transition bandwidth: 10.00 Hz (-6 dB cutoff frequency: 45.00 Hz)\n",
            "- Filter length: 3301 samples (33.010 sec)\n",
            "\n",
            "Epoch  0\n"
          ]
        },
        {
          "metadata": {
            "tags": null
          },
          "name": "stderr",
          "output_type": "stream",
          "text": [
            "Validation:   0%|          | 0/94 [00:00<?, ?it/s]\n",
            "Validation:   2%|▏         | 2/94 [00:01<01:33,  1.02s/it, loss=0.1429, lr=0.0010, roc_score=0.5174]\n",
            "Validation:   6%|▋         | 6/94 [00:01<00:15,  5.67it/s, loss=0.1435, lr=0.0010, roc_score=0.5271]\n",
            "Validation:  11%|█         | 10/94 [00:01<00:07, 10.51it/s, loss=0.1463, lr=0.0010, roc_score=0.5202]\n",
            "Validation:  15%|█▍        | 14/94 [00:01<00:05, 15.09it/s, loss=0.1585, lr=0.0010, roc_score=0.5130]\n",
            "Validation:  19%|█▉        | 18/94 [00:01<00:03, 19.31it/s, loss=0.1594, lr=0.0010, roc_score=0.5155]\n",
            "Validation:  23%|██▎       | 22/94 [00:01<00:03, 22.82it/s, loss=0.1653, lr=0.0010, roc_score=0.5155]\n",
            "Validation:  28%|██▊       | 26/94 [00:01<00:02, 25.73it/s, loss=0.1618, lr=0.0010, roc_score=0.5138]\n",
            "Validation:  32%|███▏      | 30/94 [00:01<00:02, 28.30it/s, loss=0.1563, lr=0.0010, roc_score=0.5076]\n",
            "Validation:  36%|███▌      | 34/94 [00:02<00:02, 29.57it/s, loss=0.1526, lr=0.0010, roc_score=0.5057]\n",
            "Validation:  40%|████      | 38/94 [00:02<00:01, 30.35it/s, loss=0.1503, lr=0.0010, roc_score=0.5056]\n",
            "Validation:  45%|████▍     | 42/94 [00:02<00:01, 31.67it/s, loss=0.1560, lr=0.0010, roc_score=0.5056]\n",
            "Validation:  49%|████▉     | 46/94 [00:02<00:01, 32.47it/s, loss=0.1582, lr=0.0010, roc_score=0.5054]\n",
            "Validation:  53%|█████▎    | 50/94 [00:02<00:01, 32.80it/s, loss=0.1608, lr=0.0010, roc_score=0.5054]\n",
            "Validation:  57%|█████▋    | 54/94 [00:02<00:01, 32.83it/s, loss=0.1626, lr=0.0010, roc_score=0.5058]\n",
            "Validation:  62%|██████▏   | 58/94 [00:02<00:01, 32.96it/s, loss=0.1608, lr=0.0010, roc_score=0.5056]\n",
            "Validation:  66%|██████▌   | 62/94 [00:02<00:00, 32.85it/s, loss=0.1628, lr=0.0010, roc_score=0.5045]\n",
            "Validation:  70%|███████   | 66/94 [00:02<00:00, 32.45it/s, loss=0.1630, lr=0.0010, roc_score=0.5048]\n",
            "Validation:  74%|███████▍  | 70/94 [00:03<00:00, 32.53it/s, loss=0.1644, lr=0.0010, roc_score=0.5086]\n",
            "Validation:  79%|███████▊  | 74/94 [00:03<00:00, 31.78it/s, loss=0.1655, lr=0.0010, roc_score=0.5110]\n",
            "Validation:  83%|████████▎ | 78/94 [00:03<00:00, 32.16it/s, loss=0.1688, lr=0.0010, roc_score=0.5104]\n",
            "Validation:  87%|████████▋ | 82/94 [00:03<00:00, 32.09it/s, loss=0.1721, lr=0.0010, roc_score=0.5101]\n",
            "Validation:  91%|█████████▏| 86/94 [00:03<00:00, 32.32it/s, loss=0.1735, lr=0.0010, roc_score=0.5166]\n",
            "Validation:  96%|█████████▌| 90/94 [00:03<00:00, 33.18it/s, loss=0.1755, lr=0.0010, roc_score=0.5268]\n",
            "94it [00:03, 29.50it/s]\n"
          ]
        },
        {
          "metadata": {
            "tags": null
          },
          "name": "stdout",
          "output_type": "stream",
          "text": [
            "\n",
            "\n",
            "\n",
            "\n",
            "\n",
            "\n",
            "\n",
            "\n",
            "\n",
            "\n",
            "Epoch 0/6: Train Loss 0.1782, Learning Rate 0.0010, Validation Loss 0.1765, F1 Score 0.6112, Precision 0.6398, Recall 0.6039\n",
            "Epoch  1\n"
          ]
        },
        {
          "metadata": {
            "tags": null
          },
          "name": "stderr",
          "output_type": "stream",
          "text": [
            "Validation:   0%|          | 0/94 [00:00<?, ?it/s]\n",
            "Validation:   2%|▏         | 2/94 [00:01<01:34,  1.03s/it, loss=0.1434, lr=0.0010, roc_score=0.5349]\n",
            "Validation:   6%|▋         | 6/94 [00:01<00:15,  5.58it/s, loss=0.1437, lr=0.0010, roc_score=0.5417]\n",
            "Validation:  11%|█         | 10/94 [00:01<00:08, 10.33it/s, loss=0.1466, lr=0.0010, roc_score=0.5338]\n",
            "Validation:  15%|█▍        | 14/94 [00:01<00:05, 14.78it/s, loss=0.1585, lr=0.0010, roc_score=0.5226]\n",
            "Validation:  19%|█▉        | 18/94 [00:01<00:03, 19.05it/s, loss=0.1595, lr=0.0010, roc_score=0.5207]\n",
            "Validation:  23%|██▎       | 22/94 [00:01<00:03, 22.68it/s, loss=0.1652, lr=0.0010, roc_score=0.5199]\n",
            "Validation:  28%|██▊       | 26/94 [00:01<00:02, 25.57it/s, loss=0.1618, lr=0.0010, roc_score=0.5163]\n",
            "Validation:  32%|███▏      | 30/94 [00:01<00:02, 27.84it/s, loss=0.1564, lr=0.0010, roc_score=0.5115]\n",
            "Validation:  36%|███▌      | 34/94 [00:02<00:02, 29.05it/s, loss=0.1529, lr=0.0010, roc_score=0.5104]\n",
            "Validation:  40%|████      | 38/94 [00:02<00:01, 30.10it/s, loss=0.1506, lr=0.0010, roc_score=0.5098]\n",
            "Validation:  45%|████▍     | 42/94 [00:02<00:01, 30.68it/s, loss=0.1563, lr=0.0010, roc_score=0.5091]\n",
            "Validation:  49%|████▉     | 46/94 [00:02<00:01, 30.99it/s, loss=0.1583, lr=0.0010, roc_score=0.5073]\n",
            "Validation:  53%|█████▎    | 50/94 [00:02<00:01, 31.81it/s, loss=0.1609, lr=0.0010, roc_score=0.5067]\n",
            "Validation:  57%|█████▋    | 54/94 [00:02<00:01, 31.98it/s, loss=0.1626, lr=0.0010, roc_score=0.5072]\n",
            "Validation:  62%|██████▏   | 58/94 [00:02<00:01, 32.34it/s, loss=0.1609, lr=0.0010, roc_score=0.5065]\n",
            "Validation:  66%|██████▌   | 62/94 [00:02<00:00, 32.09it/s, loss=0.1627, lr=0.0010, roc_score=0.5067]\n",
            "Validation:  70%|███████   | 66/94 [00:03<00:00, 32.49it/s, loss=0.1629, lr=0.0010, roc_score=0.5077]\n",
            "Validation:  74%|███████▍  | 70/94 [00:03<00:00, 32.79it/s, loss=0.1644, lr=0.0010, roc_score=0.5120]\n",
            "Validation:  79%|███████▊  | 74/94 [00:03<00:00, 33.02it/s, loss=0.1654, lr=0.0010, roc_score=0.5157]\n",
            "Validation:  83%|████████▎ | 78/94 [00:03<00:00, 33.20it/s, loss=0.1686, lr=0.0010, roc_score=0.5147]\n",
            "Validation:  87%|████████▋ | 82/94 [00:03<00:00, 33.03it/s, loss=0.1719, lr=0.0010, roc_score=0.5144]\n",
            "Validation:  91%|█████████▏| 86/94 [00:03<00:00, 32.29it/s, loss=0.1732, lr=0.0010, roc_score=0.5224]\n",
            "Validation:  96%|█████████▌| 90/94 [00:03<00:00, 32.80it/s, loss=0.1753, lr=0.0010, roc_score=0.5310]\n",
            "94it [00:03, 29.49it/s]\n"
          ]
        },
        {
          "metadata": {
            "tags": null
          },
          "name": "stdout",
          "output_type": "stream",
          "text": [
            "\n",
            "\n",
            "\n",
            "\n",
            "\n",
            "\n",
            "\n",
            "\n",
            "\n",
            "\n",
            "Epoch 1/6: Train Loss 0.1727, Learning Rate 0.0010, Validation Loss 0.1764, F1 Score 0.5845, Precision 0.6533, Recall 0.5472\n",
            "Epoch  2\n"
          ]
        },
        {
          "metadata": {
            "tags": null
          },
          "name": "stderr",
          "output_type": "stream",
          "text": [
            "Validation:   0%|          | 0/94 [00:00<?, ?it/s]\n",
            "Validation:   2%|▏         | 2/94 [00:01<01:34,  1.02s/it, loss=0.1424, lr=0.0010, roc_score=0.5561]\n",
            "Validation:   6%|▋         | 6/94 [00:01<00:15,  5.64it/s, loss=0.1430, lr=0.0010, roc_score=0.5530]\n",
            "Validation:  11%|█         | 10/94 [00:01<00:08, 10.34it/s, loss=0.1459, lr=0.0010, roc_score=0.5486]\n",
            "Validation:  15%|█▍        | 14/94 [00:01<00:05, 14.75it/s, loss=0.1575, lr=0.0010, roc_score=0.5469]\n",
            "Validation:  19%|█▉        | 18/94 [00:01<00:03, 19.02it/s, loss=0.1586, lr=0.0010, roc_score=0.5461]\n",
            "Validation:  23%|██▎       | 22/94 [00:01<00:03, 22.39it/s, loss=0.1643, lr=0.0010, roc_score=0.5464]\n",
            "Validation:  28%|██▊       | 26/94 [00:01<00:02, 24.85it/s, loss=0.1610, lr=0.0010, roc_score=0.5426]\n",
            "Validation:  32%|███▏      | 30/94 [00:01<00:02, 27.09it/s, loss=0.1555, lr=0.0010, roc_score=0.5462]\n",
            "Validation:  36%|███▌      | 34/94 [00:02<00:02, 29.05it/s, loss=0.1519, lr=0.0010, roc_score=0.5464]\n",
            "Validation:  40%|████      | 38/94 [00:02<00:01, 30.55it/s, loss=0.1496, lr=0.0010, roc_score=0.5455]\n",
            "Validation:  45%|████▍     | 42/94 [00:02<00:01, 30.93it/s, loss=0.1552, lr=0.0010, roc_score=0.5454]\n",
            "Validation:  49%|████▉     | 46/94 [00:02<00:01, 31.47it/s, loss=0.1573, lr=0.0010, roc_score=0.5456]\n",
            "Validation:  53%|█████▎    | 50/94 [00:02<00:01, 32.07it/s, loss=0.1598, lr=0.0010, roc_score=0.5463]\n",
            "Validation:  57%|█████▋    | 54/94 [00:02<00:01, 32.47it/s, loss=0.1616, lr=0.0010, roc_score=0.5476]\n",
            "Validation:  62%|██████▏   | 58/94 [00:02<00:01, 32.37it/s, loss=0.1598, lr=0.0010, roc_score=0.5465]\n",
            "Validation:  66%|██████▌   | 62/94 [00:02<00:00, 32.25it/s, loss=0.1617, lr=0.0010, roc_score=0.5466]\n",
            "Validation:  70%|███████   | 66/94 [00:03<00:00, 32.07it/s, loss=0.1619, lr=0.0010, roc_score=0.5488]\n",
            "Validation:  74%|███████▍  | 70/94 [00:03<00:00, 32.48it/s, loss=0.1633, lr=0.0010, roc_score=0.5543]\n",
            "Validation:  79%|███████▊  | 74/94 [00:03<00:00, 32.73it/s, loss=0.1642, lr=0.0010, roc_score=0.5596]\n",
            "Validation:  83%|████████▎ | 78/94 [00:03<00:00, 32.51it/s, loss=0.1674, lr=0.0010, roc_score=0.5588]\n",
            "Validation:  87%|████████▋ | 82/94 [00:03<00:00, 31.91it/s, loss=0.1706, lr=0.0010, roc_score=0.5582]\n",
            "Validation:  91%|█████████▏| 86/94 [00:03<00:00, 32.02it/s, loss=0.1721, lr=0.0010, roc_score=0.5591]\n",
            "Validation:  96%|█████████▌| 90/94 [00:03<00:00, 32.59it/s, loss=0.1744, lr=0.0010, roc_score=0.5600]\n",
            "94it [00:03, 29.36it/s]\n"
          ]
        },
        {
          "metadata": {
            "tags": null
          },
          "name": "stdout",
          "output_type": "stream",
          "text": [
            "\n",
            "\n",
            "\n",
            "\n",
            "\n",
            "\n",
            "\n",
            "\n",
            "\n",
            "\n",
            "Epoch 2/6: Train Loss 0.1693, Learning Rate 0.0010, Validation Loss 0.1756, F1 Score 0.4976, Precision 0.5525, Recall 0.4657\n",
            "Epoch  3\n"
          ]
        },
        {
          "metadata": {
            "tags": null
          },
          "name": "stderr",
          "output_type": "stream",
          "text": [
            "Validation:   0%|          | 0/94 [00:00<?, ?it/s]\n",
            "Validation:   2%|▏         | 2/94 [00:01<01:32,  1.01s/it, loss=0.1415, lr=0.0010, roc_score=0.5488]\n",
            "Validation:   6%|▋         | 6/94 [00:01<00:15,  5.68it/s, loss=0.1418, lr=0.0010, roc_score=0.5631]\n",
            "Validation:  11%|█         | 10/94 [00:01<00:08, 10.50it/s, loss=0.1448, lr=0.0010, roc_score=0.5591]\n",
            "Validation:  15%|█▍        | 14/94 [00:01<00:05, 15.06it/s, loss=0.1568, lr=0.0010, roc_score=0.5537]\n",
            "Validation:  19%|█▉        | 18/94 [00:01<00:03, 19.27it/s, loss=0.1581, lr=0.0010, roc_score=0.5517]\n",
            "Validation:  23%|██▎       | 22/94 [00:01<00:03, 22.52it/s, loss=0.1641, lr=0.0010, roc_score=0.5509]\n",
            "Validation:  28%|██▊       | 26/94 [00:01<00:02, 25.44it/s, loss=0.1607, lr=0.0010, roc_score=0.5460]\n",
            "Validation:  32%|███▏      | 30/94 [00:01<00:02, 27.68it/s, loss=0.1550, lr=0.0010, roc_score=0.5466]\n",
            "Validation:  36%|███▌      | 34/94 [00:02<00:02, 29.07it/s, loss=0.1513, lr=0.0010, roc_score=0.5512]\n",
            "Validation:  40%|████      | 38/94 [00:02<00:01, 30.39it/s, loss=0.1489, lr=0.0010, roc_score=0.5516]\n",
            "Validation:  45%|████▍     | 42/94 [00:02<00:01, 31.36it/s, loss=0.1546, lr=0.0010, roc_score=0.5502]\n",
            "Validation:  49%|████▉     | 46/94 [00:02<00:01, 32.08it/s, loss=0.1568, lr=0.0010, roc_score=0.5494]\n",
            "Validation:  53%|█████▎    | 50/94 [00:02<00:01, 32.53it/s, loss=0.1594, lr=0.0010, roc_score=0.5495]\n",
            "Validation:  57%|█████▋    | 54/94 [00:02<00:01, 32.71it/s, loss=0.1612, lr=0.0010, roc_score=0.5521]\n",
            "Validation:  62%|██████▏   | 58/94 [00:02<00:01, 33.00it/s, loss=0.1594, lr=0.0010, roc_score=0.5521]\n",
            "Validation:  66%|██████▌   | 62/94 [00:02<00:00, 33.74it/s, loss=0.1613, lr=0.0010, roc_score=0.5517]\n",
            "Validation:  70%|███████   | 66/94 [00:02<00:00, 33.95it/s, loss=0.1615, lr=0.0010, roc_score=0.5532]\n",
            "Validation:  74%|███████▍  | 70/94 [00:03<00:00, 33.84it/s, loss=0.1628, lr=0.0010, roc_score=0.5583]\n",
            "Validation:  79%|███████▊  | 74/94 [00:03<00:00, 32.81it/s, loss=0.1638, lr=0.0010, roc_score=0.5622]\n",
            "Validation:  83%|████████▎ | 78/94 [00:03<00:00, 33.02it/s, loss=0.1671, lr=0.0010, roc_score=0.5607]\n",
            "Validation:  87%|████████▋ | 82/94 [00:03<00:00, 32.48it/s, loss=0.1705, lr=0.0010, roc_score=0.5597]\n",
            "Validation:  91%|█████████▏| 86/94 [00:03<00:00, 31.87it/s, loss=0.1721, lr=0.0010, roc_score=0.5595]\n",
            "Validation:  96%|█████████▌| 90/94 [00:03<00:00, 32.69it/s, loss=0.1745, lr=0.0010, roc_score=0.5594]\n",
            "94it [00:03, 29.74it/s]\n"
          ]
        },
        {
          "metadata": {
            "tags": null
          },
          "name": "stdout",
          "output_type": "stream",
          "text": [
            "\n",
            "\n",
            "\n",
            "\n",
            "\n",
            "\n",
            "\n",
            "\n",
            "\n",
            "\n",
            "Epoch 3/6: Train Loss 0.1675, Learning Rate 0.0010, Validation Loss 0.1757, F1 Score 0.5595, Precision 0.6957, Recall 0.4809\n",
            "Epoch  4\n"
          ]
        },
        {
          "metadata": {
            "tags": null
          },
          "name": "stderr",
          "output_type": "stream",
          "text": [
            "Validation:   0%|          | 0/94 [00:00<?, ?it/s]\n",
            "Validation:   2%|▏         | 2/94 [00:01<01:33,  1.02s/it, loss=0.1404, lr=0.0003, roc_score=0.5873]\n",
            "Validation:   6%|▋         | 6/94 [00:01<00:15,  5.69it/s, loss=0.1407, lr=0.0003, roc_score=0.5937]\n",
            "Validation:  11%|█         | 10/94 [00:01<00:07, 10.52it/s, loss=0.1438, lr=0.0003, roc_score=0.5912]\n",
            "Validation:  15%|█▍        | 14/94 [00:01<00:05, 15.06it/s, loss=0.1557, lr=0.0003, roc_score=0.5891]\n",
            "Validation:  19%|█▉        | 18/94 [00:01<00:03, 19.30it/s, loss=0.1569, lr=0.0003, roc_score=0.5888]\n",
            "Validation:  23%|██▎       | 22/94 [00:01<00:03, 22.58it/s, loss=0.1628, lr=0.0003, roc_score=0.5881]\n",
            "Validation:  28%|██▊       | 26/94 [00:01<00:02, 25.25it/s, loss=0.1593, lr=0.0003, roc_score=0.5850]\n",
            "Validation:  32%|███▏      | 30/94 [00:01<00:02, 27.54it/s, loss=0.1538, lr=0.0003, roc_score=0.5877]\n",
            "Validation:  36%|███▌      | 34/94 [00:02<00:02, 29.53it/s, loss=0.1502, lr=0.0003, roc_score=0.5877]\n",
            "Validation:  40%|████      | 38/94 [00:02<00:01, 30.87it/s, loss=0.1478, lr=0.0003, roc_score=0.5894]\n",
            "Validation:  45%|████▍     | 42/94 [00:02<00:01, 31.64it/s, loss=0.1535, lr=0.0003, roc_score=0.5882]\n",
            "Validation:  49%|████▉     | 46/94 [00:02<00:01, 32.19it/s, loss=0.1556, lr=0.0003, roc_score=0.5878]\n",
            "Validation:  53%|█████▎    | 50/94 [00:02<00:01, 32.46it/s, loss=0.1582, lr=0.0003, roc_score=0.5886]\n",
            "Validation:  57%|█████▋    | 54/94 [00:02<00:01, 32.33it/s, loss=0.1600, lr=0.0003, roc_score=0.5901]\n",
            "Validation:  62%|██████▏   | 58/94 [00:02<00:01, 32.47it/s, loss=0.1582, lr=0.0003, roc_score=0.5885]\n",
            "Validation:  66%|██████▌   | 62/94 [00:02<00:00, 32.30it/s, loss=0.1601, lr=0.0003, roc_score=0.5884]\n",
            "Validation:  70%|███████   | 66/94 [00:02<00:00, 32.28it/s, loss=0.1601, lr=0.0003, roc_score=0.5916]\n",
            "Validation:  74%|███████▍  | 70/94 [00:03<00:00, 32.53it/s, loss=0.1610, lr=0.0003, roc_score=0.6028]\n",
            "Validation:  79%|███████▊  | 74/94 [00:03<00:00, 32.73it/s, loss=0.1616, lr=0.0003, roc_score=0.6117]\n",
            "Validation:  83%|████████▎ | 78/94 [00:03<00:00, 32.40it/s, loss=0.1649, lr=0.0003, roc_score=0.6102]\n",
            "Validation:  87%|████████▋ | 82/94 [00:03<00:00, 32.40it/s, loss=0.1683, lr=0.0003, roc_score=0.6088]\n",
            "Validation:  91%|█████████▏| 86/94 [00:03<00:00, 32.42it/s, loss=0.1699, lr=0.0003, roc_score=0.6084]\n",
            "Validation:  96%|█████████▌| 90/94 [00:03<00:00, 32.82it/s, loss=0.1723, lr=0.0003, roc_score=0.6085]\n",
            "94it [00:03, 29.54it/s]\n"
          ]
        },
        {
          "metadata": {
            "tags": null
          },
          "name": "stdout",
          "output_type": "stream",
          "text": [
            "\n",
            "\n",
            "\n",
            "\n",
            "\n",
            "\n",
            "\n",
            "\n",
            "\n",
            "\n",
            "Epoch 4/6: Train Loss 0.1631, Learning Rate 0.0003, Validation Loss 0.1736, F1 Score 0.6449, Precision 0.4940, Recall 0.9649\n",
            "Epoch  5\n"
          ]
        },
        {
          "metadata": {
            "tags": null
          },
          "name": "stderr",
          "output_type": "stream",
          "text": [
            "Validation:   0%|          | 0/94 [00:00<?, ?it/s]\n",
            "Validation:   2%|▏         | 2/94 [00:01<01:33,  1.02s/it, loss=0.1410, lr=0.0003, roc_score=0.5884]\n",
            "Validation:   6%|▋         | 6/94 [00:01<00:15,  5.71it/s, loss=0.1412, lr=0.0003, roc_score=0.5998]\n",
            "Validation:  11%|█         | 10/94 [00:01<00:07, 10.55it/s, loss=0.1441, lr=0.0003, roc_score=0.5978]\n",
            "Validation:  15%|█▍        | 14/94 [00:01<00:05, 14.97it/s, loss=0.1561, lr=0.0003, roc_score=0.5930]\n",
            "Validation:  19%|█▉        | 18/94 [00:01<00:03, 19.05it/s, loss=0.1574, lr=0.0003, roc_score=0.5911]\n",
            "Validation:  23%|██▎       | 22/94 [00:01<00:03, 22.26it/s, loss=0.1632, lr=0.0003, roc_score=0.5892]\n",
            "Validation:  28%|██▊       | 26/94 [00:01<00:02, 25.04it/s, loss=0.1598, lr=0.0003, roc_score=0.5867]\n",
            "Validation:  32%|███▏      | 30/94 [00:01<00:02, 27.28it/s, loss=0.1541, lr=0.0003, roc_score=0.5924]\n",
            "Validation:  36%|███▌      | 34/94 [00:02<00:02, 29.06it/s, loss=0.1504, lr=0.0003, roc_score=0.5956]\n",
            "Validation:  40%|████      | 38/94 [00:02<00:01, 30.07it/s, loss=0.1480, lr=0.0003, roc_score=0.5971]\n",
            "Validation:  45%|████▍     | 42/94 [00:02<00:01, 31.09it/s, loss=0.1538, lr=0.0003, roc_score=0.5950]\n",
            "Validation:  49%|████▉     | 46/94 [00:02<00:01, 31.79it/s, loss=0.1559, lr=0.0003, roc_score=0.5935]\n",
            "Validation:  53%|█████▎    | 50/94 [00:02<00:01, 31.74it/s, loss=0.1584, lr=0.0003, roc_score=0.5947]\n",
            "Validation:  57%|█████▋    | 54/94 [00:02<00:01, 31.52it/s, loss=0.1601, lr=0.0003, roc_score=0.5970]\n",
            "Validation:  62%|██████▏   | 58/94 [00:02<00:01, 32.12it/s, loss=0.1584, lr=0.0003, roc_score=0.5951]\n",
            "Validation:  66%|██████▌   | 62/94 [00:02<00:00, 32.42it/s, loss=0.1603, lr=0.0003, roc_score=0.5946]\n",
            "Validation:  70%|███████   | 66/94 [00:03<00:00, 32.89it/s, loss=0.1602, lr=0.0003, roc_score=0.5983]\n",
            "Validation:  74%|███████▍  | 70/94 [00:03<00:00, 32.91it/s, loss=0.1606, lr=0.0003, roc_score=0.6120]\n",
            "Validation:  79%|███████▊  | 74/94 [00:03<00:00, 32.61it/s, loss=0.1609, lr=0.0003, roc_score=0.6231]\n",
            "Validation:  83%|████████▎ | 78/94 [00:03<00:00, 32.78it/s, loss=0.1643, lr=0.0003, roc_score=0.6210]\n",
            "Validation:  87%|████████▋ | 82/94 [00:03<00:00, 32.28it/s, loss=0.1676, lr=0.0003, roc_score=0.6190]\n",
            "Validation:  91%|█████████▏| 86/94 [00:03<00:00, 31.93it/s, loss=0.1696, lr=0.0003, roc_score=0.6151]\n",
            "Validation:  96%|█████████▌| 90/94 [00:03<00:00, 32.47it/s, loss=0.1724, lr=0.0003, roc_score=0.6112]\n",
            "94it [00:03, 29.30it/s]\n"
          ]
        },
        {
          "metadata": {
            "tags": null
          },
          "name": "stdout",
          "output_type": "stream",
          "text": [
            "\n",
            "\n",
            "\n",
            "\n",
            "\n",
            "\n",
            "\n",
            "\n",
            "\n",
            "\n",
            "Epoch 5/6: Train Loss 0.1611, Learning Rate 0.0003, Validation Loss 0.1739, F1 Score 0.5921, Precision 0.4289, Recall 0.9959\n",
            "user_id 5\n",
            "user5\n",
            "['user0_restructured.mat', 'user1_restructured.mat', 'user2_restructured.mat', 'user3_restructured.mat', 'user4_restructured.mat', 'user6_restructured.mat', 'user7_restructured.mat', 'user8_restructured.mat', 'user9_restructured.mat', 'user10_restructured.mat', 'user11_restructured.mat', 'user12_restructured.mat', 'user13_restructured.mat', 'user14_restructured.mat', 'user15_restructured.mat', 'user16_restructured.mat', 'user17_restructured.mat', 'user18_restructured.mat', 'user19_restructured.mat']\n",
            "Setting up band-pass filter from 0.1 - 40 Hz\n",
            "\n",
            "FIR filter parameters\n",
            "---------------------\n",
            "Designing a one-pass, zero-phase, non-causal bandpass filter:\n",
            "- Windowed time-domain design (firwin) method\n",
            "- Hamming window with 0.0194 passband ripple and 53 dB stopband attenuation\n",
            "- Lower passband edge: 0.10\n",
            "- Lower transition bandwidth: 0.10 Hz (-6 dB cutoff frequency: 0.05 Hz)\n",
            "- Upper passband edge: 40.00 Hz\n",
            "- Upper transition bandwidth: 10.00 Hz (-6 dB cutoff frequency: 45.00 Hz)\n",
            "- Filter length: 3301 samples (33.010 sec)\n",
            "\n",
            "Setting up band-pass filter from 0.1 - 40 Hz\n",
            "\n",
            "FIR filter parameters\n",
            "---------------------\n",
            "Designing a one-pass, zero-phase, non-causal bandpass filter:\n",
            "- Windowed time-domain design (firwin) method\n",
            "- Hamming window with 0.0194 passband ripple and 53 dB stopband attenuation\n",
            "- Lower passband edge: 0.10\n",
            "- Lower transition bandwidth: 0.10 Hz (-6 dB cutoff frequency: 0.05 Hz)\n",
            "- Upper passband edge: 40.00 Hz\n",
            "- Upper transition bandwidth: 10.00 Hz (-6 dB cutoff frequency: 45.00 Hz)\n",
            "- Filter length: 3301 samples (33.010 sec)\n",
            "\n",
            "Setting up band-pass filter from 0.1 - 40 Hz\n",
            "\n",
            "FIR filter parameters\n",
            "---------------------\n",
            "Designing a one-pass, zero-phase, non-causal bandpass filter:\n",
            "- Windowed time-domain design (firwin) method\n",
            "- Hamming window with 0.0194 passband ripple and 53 dB stopband attenuation\n",
            "- Lower passband edge: 0.10\n",
            "- Lower transition bandwidth: 0.10 Hz (-6 dB cutoff frequency: 0.05 Hz)\n",
            "- Upper passband edge: 40.00 Hz\n",
            "- Upper transition bandwidth: 10.00 Hz (-6 dB cutoff frequency: 45.00 Hz)\n",
            "- Filter length: 3301 samples (33.010 sec)\n",
            "\n",
            "Setting up band-pass filter from 0.1 - 40 Hz\n",
            "\n",
            "FIR filter parameters\n",
            "---------------------\n",
            "Designing a one-pass, zero-phase, non-causal bandpass filter:\n",
            "- Windowed time-domain design (firwin) method\n",
            "- Hamming window with 0.0194 passband ripple and 53 dB stopband attenuation\n",
            "- Lower passband edge: 0.10\n",
            "- Lower transition bandwidth: 0.10 Hz (-6 dB cutoff frequency: 0.05 Hz)\n",
            "- Upper passband edge: 40.00 Hz\n",
            "- Upper transition bandwidth: 10.00 Hz (-6 dB cutoff frequency: 45.00 Hz)\n",
            "- Filter length: 3301 samples (33.010 sec)\n",
            "\n",
            "Setting up band-pass filter from 0.1 - 40 Hz\n",
            "\n",
            "FIR filter parameters\n",
            "---------------------\n",
            "Designing a one-pass, zero-phase, non-causal bandpass filter:\n",
            "- Windowed time-domain design (firwin) method\n",
            "- Hamming window with 0.0194 passband ripple and 53 dB stopband attenuation\n",
            "- Lower passband edge: 0.10\n",
            "- Lower transition bandwidth: 0.10 Hz (-6 dB cutoff frequency: 0.05 Hz)\n",
            "- Upper passband edge: 40.00 Hz\n",
            "- Upper transition bandwidth: 10.00 Hz (-6 dB cutoff frequency: 45.00 Hz)\n",
            "- Filter length: 3301 samples (33.010 sec)\n",
            "\n",
            "Setting up band-pass filter from 0.1 - 40 Hz\n",
            "\n",
            "FIR filter parameters\n",
            "---------------------\n",
            "Designing a one-pass, zero-phase, non-causal bandpass filter:\n",
            "- Windowed time-domain design (firwin) method\n",
            "- Hamming window with 0.0194 passband ripple and 53 dB stopband attenuation\n",
            "- Lower passband edge: 0.10\n",
            "- Lower transition bandwidth: 0.10 Hz (-6 dB cutoff frequency: 0.05 Hz)\n",
            "- Upper passband edge: 40.00 Hz\n",
            "- Upper transition bandwidth: 10.00 Hz (-6 dB cutoff frequency: 45.00 Hz)\n",
            "- Filter length: 3301 samples (33.010 sec)\n",
            "\n",
            "Setting up band-pass filter from 0.1 - 40 Hz\n",
            "\n",
            "FIR filter parameters\n",
            "---------------------\n",
            "Designing a one-pass, zero-phase, non-causal bandpass filter:\n",
            "- Windowed time-domain design (firwin) method\n",
            "- Hamming window with 0.0194 passband ripple and 53 dB stopband attenuation\n",
            "- Lower passband edge: 0.10\n",
            "- Lower transition bandwidth: 0.10 Hz (-6 dB cutoff frequency: 0.05 Hz)\n",
            "- Upper passband edge: 40.00 Hz\n",
            "- Upper transition bandwidth: 10.00 Hz (-6 dB cutoff frequency: 45.00 Hz)\n",
            "- Filter length: 3301 samples (33.010 sec)\n",
            "\n",
            "Setting up band-pass filter from 0.1 - 40 Hz\n",
            "\n",
            "FIR filter parameters\n",
            "---------------------\n",
            "Designing a one-pass, zero-phase, non-causal bandpass filter:\n",
            "- Windowed time-domain design (firwin) method\n",
            "- Hamming window with 0.0194 passband ripple and 53 dB stopband attenuation\n",
            "- Lower passband edge: 0.10\n",
            "- Lower transition bandwidth: 0.10 Hz (-6 dB cutoff frequency: 0.05 Hz)\n",
            "- Upper passband edge: 40.00 Hz\n",
            "- Upper transition bandwidth: 10.00 Hz (-6 dB cutoff frequency: 45.00 Hz)\n",
            "- Filter length: 3301 samples (33.010 sec)\n",
            "\n",
            "Setting up band-pass filter from 0.1 - 40 Hz\n",
            "\n",
            "FIR filter parameters\n",
            "---------------------\n",
            "Designing a one-pass, zero-phase, non-causal bandpass filter:\n",
            "- Windowed time-domain design (firwin) method\n",
            "- Hamming window with 0.0194 passband ripple and 53 dB stopband attenuation\n",
            "- Lower passband edge: 0.10\n",
            "- Lower transition bandwidth: 0.10 Hz (-6 dB cutoff frequency: 0.05 Hz)\n",
            "- Upper passband edge: 40.00 Hz\n",
            "- Upper transition bandwidth: 10.00 Hz (-6 dB cutoff frequency: 45.00 Hz)\n",
            "- Filter length: 3301 samples (33.010 sec)\n",
            "\n",
            "Setting up band-pass filter from 0.1 - 40 Hz\n",
            "\n",
            "FIR filter parameters\n",
            "---------------------\n",
            "Designing a one-pass, zero-phase, non-causal bandpass filter:\n",
            "- Windowed time-domain design (firwin) method\n",
            "- Hamming window with 0.0194 passband ripple and 53 dB stopband attenuation\n",
            "- Lower passband edge: 0.10\n",
            "- Lower transition bandwidth: 0.10 Hz (-6 dB cutoff frequency: 0.05 Hz)\n",
            "- Upper passband edge: 40.00 Hz\n",
            "- Upper transition bandwidth: 10.00 Hz (-6 dB cutoff frequency: 45.00 Hz)\n",
            "- Filter length: 3301 samples (33.010 sec)\n",
            "\n",
            "Setting up band-pass filter from 0.1 - 40 Hz\n",
            "\n",
            "FIR filter parameters\n",
            "---------------------\n",
            "Designing a one-pass, zero-phase, non-causal bandpass filter:\n",
            "- Windowed time-domain design (firwin) method\n",
            "- Hamming window with 0.0194 passband ripple and 53 dB stopband attenuation\n",
            "- Lower passband edge: 0.10\n",
            "- Lower transition bandwidth: 0.10 Hz (-6 dB cutoff frequency: 0.05 Hz)\n",
            "- Upper passband edge: 40.00 Hz\n",
            "- Upper transition bandwidth: 10.00 Hz (-6 dB cutoff frequency: 45.00 Hz)\n",
            "- Filter length: 3301 samples (33.010 sec)\n",
            "\n",
            "Setting up band-pass filter from 0.1 - 40 Hz\n",
            "\n",
            "FIR filter parameters\n",
            "---------------------\n",
            "Designing a one-pass, zero-phase, non-causal bandpass filter:\n",
            "- Windowed time-domain design (firwin) method\n",
            "- Hamming window with 0.0194 passband ripple and 53 dB stopband attenuation\n",
            "- Lower passband edge: 0.10\n",
            "- Lower transition bandwidth: 0.10 Hz (-6 dB cutoff frequency: 0.05 Hz)\n",
            "- Upper passband edge: 40.00 Hz\n",
            "- Upper transition bandwidth: 10.00 Hz (-6 dB cutoff frequency: 45.00 Hz)\n",
            "- Filter length: 3301 samples (33.010 sec)\n",
            "\n",
            "Setting up band-pass filter from 0.1 - 40 Hz\n",
            "\n",
            "FIR filter parameters\n",
            "---------------------\n",
            "Designing a one-pass, zero-phase, non-causal bandpass filter:\n",
            "- Windowed time-domain design (firwin) method\n",
            "- Hamming window with 0.0194 passband ripple and 53 dB stopband attenuation\n",
            "- Lower passband edge: 0.10\n",
            "- Lower transition bandwidth: 0.10 Hz (-6 dB cutoff frequency: 0.05 Hz)\n",
            "- Upper passband edge: 40.00 Hz\n",
            "- Upper transition bandwidth: 10.00 Hz (-6 dB cutoff frequency: 45.00 Hz)\n",
            "- Filter length: 3301 samples (33.010 sec)\n",
            "\n",
            "Setting up band-pass filter from 0.1 - 40 Hz\n",
            "\n",
            "FIR filter parameters\n",
            "---------------------\n",
            "Designing a one-pass, zero-phase, non-causal bandpass filter:\n",
            "- Windowed time-domain design (firwin) method\n",
            "- Hamming window with 0.0194 passband ripple and 53 dB stopband attenuation\n",
            "- Lower passband edge: 0.10\n",
            "- Lower transition bandwidth: 0.10 Hz (-6 dB cutoff frequency: 0.05 Hz)\n",
            "- Upper passband edge: 40.00 Hz\n",
            "- Upper transition bandwidth: 10.00 Hz (-6 dB cutoff frequency: 45.00 Hz)\n",
            "- Filter length: 3301 samples (33.010 sec)\n",
            "\n",
            "Setting up band-pass filter from 0.1 - 40 Hz\n",
            "\n",
            "FIR filter parameters\n",
            "---------------------\n",
            "Designing a one-pass, zero-phase, non-causal bandpass filter:\n",
            "- Windowed time-domain design (firwin) method\n",
            "- Hamming window with 0.0194 passband ripple and 53 dB stopband attenuation\n",
            "- Lower passband edge: 0.10\n",
            "- Lower transition bandwidth: 0.10 Hz (-6 dB cutoff frequency: 0.05 Hz)\n",
            "- Upper passband edge: 40.00 Hz\n",
            "- Upper transition bandwidth: 10.00 Hz (-6 dB cutoff frequency: 45.00 Hz)\n",
            "- Filter length: 3301 samples (33.010 sec)\n",
            "\n",
            "Setting up band-pass filter from 0.1 - 40 Hz\n",
            "\n",
            "FIR filter parameters\n",
            "---------------------\n",
            "Designing a one-pass, zero-phase, non-causal bandpass filter:\n",
            "- Windowed time-domain design (firwin) method\n",
            "- Hamming window with 0.0194 passband ripple and 53 dB stopband attenuation\n",
            "- Lower passband edge: 0.10\n",
            "- Lower transition bandwidth: 0.10 Hz (-6 dB cutoff frequency: 0.05 Hz)\n",
            "- Upper passband edge: 40.00 Hz\n",
            "- Upper transition bandwidth: 10.00 Hz (-6 dB cutoff frequency: 45.00 Hz)\n",
            "- Filter length: 3301 samples (33.010 sec)\n",
            "\n",
            "Setting up band-pass filter from 0.1 - 40 Hz\n",
            "\n",
            "FIR filter parameters\n",
            "---------------------\n",
            "Designing a one-pass, zero-phase, non-causal bandpass filter:\n",
            "- Windowed time-domain design (firwin) method\n",
            "- Hamming window with 0.0194 passband ripple and 53 dB stopband attenuation\n",
            "- Lower passband edge: 0.10\n",
            "- Lower transition bandwidth: 0.10 Hz (-6 dB cutoff frequency: 0.05 Hz)\n",
            "- Upper passband edge: 40.00 Hz\n",
            "- Upper transition bandwidth: 10.00 Hz (-6 dB cutoff frequency: 45.00 Hz)\n",
            "- Filter length: 3301 samples (33.010 sec)\n",
            "\n",
            "Setting up band-pass filter from 0.1 - 40 Hz\n",
            "\n",
            "FIR filter parameters\n",
            "---------------------\n",
            "Designing a one-pass, zero-phase, non-causal bandpass filter:\n",
            "- Windowed time-domain design (firwin) method\n",
            "- Hamming window with 0.0194 passband ripple and 53 dB stopband attenuation\n",
            "- Lower passband edge: 0.10\n",
            "- Lower transition bandwidth: 0.10 Hz (-6 dB cutoff frequency: 0.05 Hz)\n",
            "- Upper passband edge: 40.00 Hz\n",
            "- Upper transition bandwidth: 10.00 Hz (-6 dB cutoff frequency: 45.00 Hz)\n",
            "- Filter length: 3301 samples (33.010 sec)\n",
            "\n",
            "Setting up band-pass filter from 0.1 - 40 Hz\n",
            "\n",
            "FIR filter parameters\n",
            "---------------------\n",
            "Designing a one-pass, zero-phase, non-causal bandpass filter:\n",
            "- Windowed time-domain design (firwin) method\n",
            "- Hamming window with 0.0194 passband ripple and 53 dB stopband attenuation\n",
            "- Lower passband edge: 0.10\n",
            "- Lower transition bandwidth: 0.10 Hz (-6 dB cutoff frequency: 0.05 Hz)\n",
            "- Upper passband edge: 40.00 Hz\n",
            "- Upper transition bandwidth: 10.00 Hz (-6 dB cutoff frequency: 45.00 Hz)\n",
            "- Filter length: 3301 samples (33.010 sec)\n",
            "\n",
            "user5\n",
            "['user5_restructured.mat']\n",
            "Setting up band-pass filter from 0.1 - 40 Hz\n",
            "\n",
            "FIR filter parameters\n",
            "---------------------\n",
            "Designing a one-pass, zero-phase, non-causal bandpass filter:\n",
            "- Windowed time-domain design (firwin) method\n",
            "- Hamming window with 0.0194 passband ripple and 53 dB stopband attenuation\n",
            "- Lower passband edge: 0.10\n",
            "- Lower transition bandwidth: 0.10 Hz (-6 dB cutoff frequency: 0.05 Hz)\n",
            "- Upper passband edge: 40.00 Hz\n",
            "- Upper transition bandwidth: 10.00 Hz (-6 dB cutoff frequency: 45.00 Hz)\n",
            "- Filter length: 3301 samples (33.010 sec)\n",
            "\n",
            "Epoch  0\n"
          ]
        },
        {
          "metadata": {
            "tags": null
          },
          "name": "stderr",
          "output_type": "stream",
          "text": [
            "Validation:   0%|          | 0/94 [00:00<?, ?it/s]\n",
            "Validation:   2%|▏         | 2/94 [00:01<01:37,  1.06s/it, loss=0.1442, lr=0.0010, roc_score=0.5346]\n",
            "Validation:   6%|▋         | 6/94 [00:01<00:16,  5.45it/s, loss=0.1451, lr=0.0010, roc_score=0.5190]\n",
            "Validation:  11%|█         | 10/94 [00:01<00:08, 10.20it/s, loss=0.1475, lr=0.0010, roc_score=0.5236]\n",
            "Validation:  15%|█▍        | 14/94 [00:01<00:05, 14.70it/s, loss=0.1589, lr=0.0010, roc_score=0.5170]\n",
            "Validation:  19%|█▉        | 18/94 [00:01<00:04, 18.82it/s, loss=0.1599, lr=0.0010, roc_score=0.5181]\n",
            "Validation:  23%|██▎       | 22/94 [00:01<00:03, 22.38it/s, loss=0.1656, lr=0.0010, roc_score=0.5140]\n",
            "Validation:  28%|██▊       | 26/94 [00:01<00:02, 25.35it/s, loss=0.1623, lr=0.0010, roc_score=0.5106]\n",
            "Validation:  32%|███▏      | 30/94 [00:01<00:02, 27.53it/s, loss=0.1571, lr=0.0010, roc_score=0.5107]\n",
            "Validation:  36%|███▌      | 34/94 [00:02<00:02, 29.48it/s, loss=0.1536, lr=0.0010, roc_score=0.5093]\n",
            "Validation:  40%|████      | 38/94 [00:02<00:01, 30.57it/s, loss=0.1513, lr=0.0010, roc_score=0.5109]\n",
            "Validation:  45%|████▍     | 42/94 [00:02<00:01, 31.25it/s, loss=0.1568, lr=0.0010, roc_score=0.5109]\n",
            "Validation:  49%|████▉     | 46/94 [00:02<00:01, 31.28it/s, loss=0.1588, lr=0.0010, roc_score=0.5097]\n",
            "Validation:  53%|█████▎    | 50/94 [00:02<00:01, 31.97it/s, loss=0.1613, lr=0.0010, roc_score=0.5089]\n",
            "Validation:  57%|█████▋    | 54/94 [00:02<00:01, 32.14it/s, loss=0.1631, lr=0.0010, roc_score=0.5093]\n",
            "Validation:  62%|██████▏   | 58/94 [00:02<00:01, 32.70it/s, loss=0.1614, lr=0.0010, roc_score=0.5082]\n",
            "Validation:  66%|██████▌   | 62/94 [00:02<00:00, 32.63it/s, loss=0.1632, lr=0.0010, roc_score=0.5071]\n",
            "Validation:  70%|███████   | 66/94 [00:03<00:00, 32.44it/s, loss=0.1634, lr=0.0010, roc_score=0.5078]\n",
            "Validation:  74%|███████▍  | 70/94 [00:03<00:00, 32.23it/s, loss=0.1649, lr=0.0010, roc_score=0.5103]\n",
            "Validation:  79%|███████▊  | 74/94 [00:03<00:00, 32.21it/s, loss=0.1660, lr=0.0010, roc_score=0.5129]\n",
            "Validation:  83%|████████▎ | 78/94 [00:03<00:00, 32.03it/s, loss=0.1692, lr=0.0010, roc_score=0.5117]\n",
            "Validation:  87%|████████▋ | 82/94 [00:03<00:00, 31.69it/s, loss=0.1723, lr=0.0010, roc_score=0.5108]\n",
            "Validation:  91%|█████████▏| 86/94 [00:03<00:00, 31.62it/s, loss=0.1739, lr=0.0010, roc_score=0.5128]\n",
            "Validation:  96%|█████████▌| 90/94 [00:03<00:00, 32.24it/s, loss=0.1760, lr=0.0010, roc_score=0.5197]\n",
            "94it [00:03, 29.46it/s]\n"
          ]
        },
        {
          "metadata": {
            "tags": null
          },
          "name": "stdout",
          "output_type": "stream",
          "text": [
            "\n",
            "\n",
            "\n",
            "\n",
            "\n",
            "\n",
            "\n",
            "\n",
            "\n",
            "\n",
            "Epoch 0/6: Train Loss 0.1782, Learning Rate 0.0010, Validation Loss 0.1772, F1 Score 0.6751, Precision 0.5593, Recall 0.8838\n",
            "Epoch  1\n"
          ]
        },
        {
          "metadata": {
            "tags": null
          },
          "name": "stderr",
          "output_type": "stream",
          "text": [
            "Validation:   0%|          | 0/94 [00:00<?, ?it/s]\n",
            "Validation:   2%|▏         | 2/94 [00:01<01:33,  1.02s/it, loss=0.1423, lr=0.0010, roc_score=0.5167]\n",
            "Validation:   6%|▋         | 6/94 [00:01<00:15,  5.64it/s, loss=0.1431, lr=0.0010, roc_score=0.5264]\n",
            "Validation:  11%|█         | 10/94 [00:01<00:08, 10.46it/s, loss=0.1459, lr=0.0010, roc_score=0.5320]\n",
            "Validation:  15%|█▍        | 14/94 [00:01<00:05, 14.98it/s, loss=0.1577, lr=0.0010, roc_score=0.5231]\n",
            "Validation:  19%|█▉        | 18/94 [00:01<00:03, 19.08it/s, loss=0.1587, lr=0.0010, roc_score=0.5239]\n",
            "Validation:  23%|██▎       | 22/94 [00:01<00:03, 22.52it/s, loss=0.1647, lr=0.0010, roc_score=0.5182]\n",
            "Validation:  28%|██▊       | 26/94 [00:01<00:02, 24.97it/s, loss=0.1611, lr=0.0010, roc_score=0.5157]\n",
            "Validation:  32%|███▏      | 30/94 [00:01<00:02, 27.50it/s, loss=0.1555, lr=0.0010, roc_score=0.5180]\n",
            "Validation:  36%|███▌      | 34/94 [00:02<00:02, 29.68it/s, loss=0.1518, lr=0.0010, roc_score=0.5169]\n",
            "Validation:  40%|████      | 38/94 [00:02<00:01, 31.01it/s, loss=0.1495, lr=0.0010, roc_score=0.5182]\n",
            "Validation:  45%|████▍     | 42/94 [00:02<00:01, 32.01it/s, loss=0.1552, lr=0.0010, roc_score=0.5173]\n",
            "Validation:  49%|████▉     | 46/94 [00:02<00:01, 32.45it/s, loss=0.1574, lr=0.0010, roc_score=0.5163]\n",
            "Validation:  53%|█████▎    | 50/94 [00:02<00:01, 32.67it/s, loss=0.1600, lr=0.0010, roc_score=0.5163]\n",
            "Validation:  57%|█████▋    | 54/94 [00:02<00:01, 32.84it/s, loss=0.1619, lr=0.0010, roc_score=0.5162]\n",
            "Validation:  62%|██████▏   | 58/94 [00:02<00:01, 33.03it/s, loss=0.1601, lr=0.0010, roc_score=0.5146]\n",
            "Validation:  66%|██████▌   | 62/94 [00:02<00:00, 33.11it/s, loss=0.1620, lr=0.0010, roc_score=0.5129]\n",
            "Validation:  70%|███████   | 66/94 [00:02<00:00, 32.68it/s, loss=0.1622, lr=0.0010, roc_score=0.5133]\n",
            "Validation:  74%|███████▍  | 70/94 [00:03<00:00, 32.81it/s, loss=0.1638, lr=0.0010, roc_score=0.5170]\n",
            "Validation:  79%|███████▊  | 74/94 [00:03<00:00, 32.71it/s, loss=0.1650, lr=0.0010, roc_score=0.5188]\n",
            "Validation:  83%|████████▎ | 78/94 [00:03<00:00, 32.74it/s, loss=0.1682, lr=0.0010, roc_score=0.5183]\n",
            "Validation:  87%|████████▋ | 82/94 [00:03<00:00, 33.00it/s, loss=0.1715, lr=0.0010, roc_score=0.5174]\n",
            "Validation:  91%|█████████▏| 86/94 [00:03<00:00, 32.70it/s, loss=0.1731, lr=0.0010, roc_score=0.5213]\n",
            "Validation:  96%|█████████▌| 90/94 [00:03<00:00, 33.53it/s, loss=0.1755, lr=0.0010, roc_score=0.5238]\n",
            "94it [00:03, 29.93it/s]\n"
          ]
        },
        {
          "metadata": {
            "tags": null
          },
          "name": "stdout",
          "output_type": "stream",
          "text": [
            "\n",
            "\n",
            "\n",
            "\n",
            "\n",
            "\n",
            "\n",
            "\n",
            "\n",
            "\n",
            "Epoch 1/6: Train Loss 0.1725, Learning Rate 0.0010, Validation Loss 0.1768, F1 Score 0.4513, Precision 0.7066, Recall 0.3373\n",
            "Epoch  2\n"
          ]
        },
        {
          "metadata": {
            "tags": null
          },
          "name": "stderr",
          "output_type": "stream",
          "text": [
            "Validation:   0%|          | 0/94 [00:00<?, ?it/s]\n",
            "Validation:   2%|▏         | 2/94 [00:01<01:34,  1.03s/it, loss=0.1420, lr=0.0010, roc_score=0.5230]\n",
            "Validation:   6%|▋         | 6/94 [00:01<00:15,  5.62it/s, loss=0.1424, lr=0.0010, roc_score=0.5308]\n",
            "Validation:  11%|█         | 10/94 [00:01<00:08, 10.49it/s, loss=0.1451, lr=0.0010, roc_score=0.5347]\n",
            "Validation:  15%|█▍        | 14/94 [00:01<00:05, 14.87it/s, loss=0.1572, lr=0.0010, roc_score=0.5295]\n",
            "Validation:  19%|█▉        | 18/94 [00:01<00:03, 19.16it/s, loss=0.1583, lr=0.0010, roc_score=0.5287]\n",
            "Validation:  23%|██▎       | 22/94 [00:01<00:03, 22.56it/s, loss=0.1642, lr=0.0010, roc_score=0.5257]\n",
            "Validation:  28%|██▊       | 26/94 [00:01<00:02, 25.37it/s, loss=0.1607, lr=0.0010, roc_score=0.5219]\n",
            "Validation:  32%|███▏      | 30/94 [00:01<00:02, 27.46it/s, loss=0.1551, lr=0.0010, roc_score=0.5271]\n",
            "Validation:  36%|███▌      | 34/94 [00:02<00:02, 29.16it/s, loss=0.1514, lr=0.0010, roc_score=0.5232]\n",
            "Validation:  40%|████      | 38/94 [00:02<00:01, 30.10it/s, loss=0.1490, lr=0.0010, roc_score=0.5208]\n",
            "Validation:  45%|████▍     | 42/94 [00:02<00:01, 30.55it/s, loss=0.1548, lr=0.0010, roc_score=0.5214]\n",
            "Validation:  49%|████▉     | 46/94 [00:02<00:01, 31.24it/s, loss=0.1570, lr=0.0010, roc_score=0.5219]\n",
            "Validation:  53%|█████▎    | 50/94 [00:02<00:01, 31.65it/s, loss=0.1597, lr=0.0010, roc_score=0.5214]\n",
            "Validation:  57%|█████▋    | 54/94 [00:02<00:01, 32.06it/s, loss=0.1615, lr=0.0010, roc_score=0.5219]\n",
            "Validation:  62%|██████▏   | 58/94 [00:02<00:01, 32.39it/s, loss=0.1597, lr=0.0010, roc_score=0.5214]\n",
            "Validation:  66%|██████▌   | 62/94 [00:02<00:00, 32.11it/s, loss=0.1617, lr=0.0010, roc_score=0.5211]\n",
            "Validation:  70%|███████   | 66/94 [00:03<00:00, 31.80it/s, loss=0.1618, lr=0.0010, roc_score=0.5226]\n",
            "Validation:  74%|███████▍  | 70/94 [00:03<00:00, 32.09it/s, loss=0.1633, lr=0.0010, roc_score=0.5281]\n",
            "Validation:  79%|███████▊  | 74/94 [00:03<00:00, 32.41it/s, loss=0.1643, lr=0.0010, roc_score=0.5327]\n",
            "Validation:  83%|████████▎ | 78/94 [00:03<00:00, 32.50it/s, loss=0.1676, lr=0.0010, roc_score=0.5319]\n",
            "Validation:  87%|████████▋ | 82/94 [00:03<00:00, 32.18it/s, loss=0.1710, lr=0.0010, roc_score=0.5312]\n",
            "Validation:  91%|█████████▏| 86/94 [00:03<00:00, 32.33it/s, loss=0.1725, lr=0.0010, roc_score=0.5351]\n",
            "Validation:  96%|█████████▌| 90/94 [00:03<00:00, 32.79it/s, loss=0.1748, lr=0.0010, roc_score=0.5382]\n",
            "94it [00:03, 29.33it/s]\n"
          ]
        },
        {
          "metadata": {
            "tags": null
          },
          "name": "stdout",
          "output_type": "stream",
          "text": [
            "\n",
            "\n",
            "\n",
            "\n",
            "\n",
            "\n",
            "\n",
            "\n",
            "\n",
            "\n",
            "Epoch 2/6: Train Loss 0.1697, Learning Rate 0.0010, Validation Loss 0.1760, F1 Score 0.3621, Precision 0.7483, Recall 0.2428\n",
            "Epoch  3\n"
          ]
        },
        {
          "metadata": {
            "tags": null
          },
          "name": "stderr",
          "output_type": "stream",
          "text": [
            "Validation:   0%|          | 0/94 [00:00<?, ?it/s]\n",
            "Validation:   2%|▏         | 2/94 [00:01<01:32,  1.01s/it, loss=0.1421, lr=0.0010, roc_score=0.5736]\n",
            "Validation:   6%|▋         | 6/94 [00:01<00:15,  5.70it/s, loss=0.1419, lr=0.0010, roc_score=0.5808]\n",
            "Validation:  11%|█         | 10/94 [00:01<00:07, 10.54it/s, loss=0.1447, lr=0.0010, roc_score=0.5777]\n",
            "Validation:  15%|█▍        | 14/94 [00:01<00:05, 15.20it/s, loss=0.1567, lr=0.0010, roc_score=0.5711]\n",
            "Validation:  19%|█▉        | 18/94 [00:01<00:03, 19.27it/s, loss=0.1579, lr=0.0010, roc_score=0.5709]\n",
            "Validation:  23%|██▎       | 22/94 [00:01<00:03, 22.79it/s, loss=0.1637, lr=0.0010, roc_score=0.5696]\n",
            "Validation:  28%|██▊       | 26/94 [00:01<00:02, 25.37it/s, loss=0.1602, lr=0.0010, roc_score=0.5685]\n",
            "Validation:  32%|███▏      | 30/94 [00:01<00:02, 27.73it/s, loss=0.1548, lr=0.0010, roc_score=0.5722]\n",
            "Validation:  36%|███▌      | 34/94 [00:02<00:02, 29.75it/s, loss=0.1511, lr=0.0010, roc_score=0.5703]\n",
            "Validation:  40%|████      | 38/94 [00:02<00:01, 30.84it/s, loss=0.1488, lr=0.0010, roc_score=0.5701]\n",
            "Validation:  45%|████▍     | 42/94 [00:02<00:01, 31.71it/s, loss=0.1545, lr=0.0010, roc_score=0.5693]\n",
            "Validation:  49%|████▉     | 46/94 [00:02<00:01, 31.36it/s, loss=0.1566, lr=0.0010, roc_score=0.5700]\n",
            "Validation:  53%|█████▎    | 50/94 [00:02<00:01, 31.95it/s, loss=0.1592, lr=0.0010, roc_score=0.5699]\n",
            "Validation:  57%|█████▋    | 54/94 [00:02<00:01, 32.45it/s, loss=0.1609, lr=0.0010, roc_score=0.5716]\n",
            "Validation:  62%|██████▏   | 58/94 [00:02<00:01, 33.08it/s, loss=0.1591, lr=0.0010, roc_score=0.5707]\n",
            "Validation:  66%|██████▌   | 62/94 [00:02<00:00, 32.48it/s, loss=0.1610, lr=0.0010, roc_score=0.5714]\n",
            "Validation:  70%|███████   | 66/94 [00:02<00:00, 32.57it/s, loss=0.1611, lr=0.0010, roc_score=0.5729]\n",
            "Validation:  74%|███████▍  | 70/94 [00:03<00:00, 32.56it/s, loss=0.1624, lr=0.0010, roc_score=0.5791]\n",
            "Validation:  79%|███████▊  | 74/94 [00:03<00:00, 32.45it/s, loss=0.1633, lr=0.0010, roc_score=0.5835]\n",
            "Validation:  83%|████████▎ | 78/94 [00:03<00:00, 32.59it/s, loss=0.1666, lr=0.0010, roc_score=0.5826]\n",
            "Validation:  87%|████████▋ | 82/94 [00:03<00:00, 32.52it/s, loss=0.1699, lr=0.0010, roc_score=0.5819]\n",
            "Validation:  91%|█████████▏| 86/94 [00:03<00:00, 32.58it/s, loss=0.1713, lr=0.0010, roc_score=0.5844]\n",
            "Validation:  96%|█████████▌| 90/94 [00:03<00:00, 32.99it/s, loss=0.1735, lr=0.0010, roc_score=0.5880]\n",
            "94it [00:03, 29.49it/s]\n"
          ]
        },
        {
          "metadata": {
            "tags": null
          },
          "name": "stdout",
          "output_type": "stream",
          "text": [
            "\n",
            "\n",
            "\n",
            "\n",
            "\n",
            "\n",
            "\n",
            "\n",
            "\n",
            "\n",
            "Epoch 3/6: Train Loss 0.1669, Learning Rate 0.0010, Validation Loss 0.1746, F1 Score 0.6230, Precision 0.4681, Recall 0.9686\n",
            "Epoch  4\n"
          ]
        },
        {
          "metadata": {
            "tags": null
          },
          "name": "stderr",
          "output_type": "stream",
          "text": [
            "Validation:   0%|          | 0/94 [00:00<?, ?it/s]\n",
            "Validation:   2%|▏         | 2/94 [00:01<01:32,  1.01s/it, loss=0.1423, lr=0.0003, roc_score=0.5710]\n",
            "Validation:   6%|▋         | 6/94 [00:01<00:15,  5.71it/s, loss=0.1420, lr=0.0003, roc_score=0.5825]\n",
            "Validation:  11%|█         | 10/94 [00:01<00:08, 10.38it/s, loss=0.1447, lr=0.0003, roc_score=0.5808]\n",
            "Validation:  15%|█▍        | 14/94 [00:01<00:05, 14.92it/s, loss=0.1564, lr=0.0003, roc_score=0.5785]\n",
            "Validation:  19%|█▉        | 18/94 [00:01<00:03, 19.12it/s, loss=0.1575, lr=0.0003, roc_score=0.5771]\n",
            "Validation:  23%|██▎       | 22/94 [00:01<00:03, 22.52it/s, loss=0.1633, lr=0.0003, roc_score=0.5773]\n",
            "Validation:  28%|██▊       | 26/94 [00:01<00:02, 25.36it/s, loss=0.1598, lr=0.0003, roc_score=0.5765]\n",
            "Validation:  32%|███▏      | 30/94 [00:01<00:02, 28.07it/s, loss=0.1543, lr=0.0003, roc_score=0.5821]\n",
            "Validation:  36%|███▌      | 34/94 [00:02<00:02, 29.67it/s, loss=0.1507, lr=0.0003, roc_score=0.5820]\n",
            "Validation:  40%|████      | 38/94 [00:02<00:01, 30.55it/s, loss=0.1484, lr=0.0003, roc_score=0.5825]\n",
            "Validation:  45%|████▍     | 42/94 [00:02<00:01, 31.09it/s, loss=0.1540, lr=0.0003, roc_score=0.5819]\n",
            "Validation:  49%|████▉     | 46/94 [00:02<00:01, 31.66it/s, loss=0.1561, lr=0.0003, roc_score=0.5820]\n",
            "Validation:  53%|█████▎    | 50/94 [00:02<00:01, 32.23it/s, loss=0.1587, lr=0.0003, roc_score=0.5822]\n",
            "Validation:  57%|█████▋    | 54/94 [00:02<00:01, 32.47it/s, loss=0.1604, lr=0.0003, roc_score=0.5831]\n",
            "Validation:  62%|██████▏   | 58/94 [00:02<00:01, 32.62it/s, loss=0.1586, lr=0.0003, roc_score=0.5821]\n",
            "Validation:  66%|██████▌   | 62/94 [00:02<00:00, 32.18it/s, loss=0.1605, lr=0.0003, roc_score=0.5827]\n",
            "Validation:  70%|███████   | 66/94 [00:02<00:00, 32.55it/s, loss=0.1606, lr=0.0003, roc_score=0.5841]\n",
            "Validation:  74%|███████▍  | 70/94 [00:03<00:00, 32.84it/s, loss=0.1618, lr=0.0003, roc_score=0.5922]\n",
            "Validation:  79%|███████▊  | 74/94 [00:03<00:00, 33.15it/s, loss=0.1627, lr=0.0003, roc_score=0.5976]\n",
            "Validation:  83%|████████▎ | 78/94 [00:03<00:00, 33.06it/s, loss=0.1660, lr=0.0003, roc_score=0.5963]\n",
            "Validation:  87%|████████▋ | 82/94 [00:03<00:00, 33.20it/s, loss=0.1692, lr=0.0003, roc_score=0.5957]\n",
            "Validation:  91%|█████████▏| 86/94 [00:03<00:00, 33.32it/s, loss=0.1708, lr=0.0003, roc_score=0.5954]\n",
            "Validation:  96%|█████████▌| 90/94 [00:03<00:00, 33.79it/s, loss=0.1731, lr=0.0003, roc_score=0.5953]\n",
            "94it [00:03, 29.63it/s]\n"
          ]
        },
        {
          "metadata": {
            "tags": null
          },
          "name": "stdout",
          "output_type": "stream",
          "text": [
            "\n",
            "\n",
            "\n",
            "\n",
            "\n",
            "\n",
            "\n",
            "\n",
            "\n",
            "\n",
            "Epoch 4/6: Train Loss 0.1630, Learning Rate 0.0003, Validation Loss 0.1743, F1 Score 0.5165, Precision 0.3541, Recall 0.9975\n",
            "Epoch  5\n"
          ]
        },
        {
          "metadata": {
            "tags": null
          },
          "name": "stderr",
          "output_type": "stream",
          "text": [
            "Validation:   0%|          | 0/94 [00:00<?, ?it/s]\n",
            "Validation:   2%|▏         | 2/94 [00:01<01:32,  1.01s/it, loss=0.1420, lr=0.0003, roc_score=0.5722]\n",
            "Validation:   6%|▋         | 6/94 [00:01<00:15,  5.72it/s, loss=0.1417, lr=0.0003, roc_score=0.5851]\n",
            "Validation:  11%|█         | 10/94 [00:01<00:07, 10.55it/s, loss=0.1443, lr=0.0003, roc_score=0.5844]\n",
            "Validation:  15%|█▍        | 14/94 [00:01<00:05, 15.11it/s, loss=0.1561, lr=0.0003, roc_score=0.5827]\n",
            "Validation:  19%|█▉        | 18/94 [00:01<00:03, 19.20it/s, loss=0.1573, lr=0.0003, roc_score=0.5800]\n",
            "Validation:  23%|██▎       | 22/94 [00:01<00:03, 22.59it/s, loss=0.1631, lr=0.0003, roc_score=0.5793]\n",
            "Validation:  28%|██▊       | 26/94 [00:01<00:02, 25.45it/s, loss=0.1596, lr=0.0003, roc_score=0.5795]\n",
            "Validation:  32%|███▏      | 30/94 [00:01<00:02, 28.12it/s, loss=0.1540, lr=0.0003, roc_score=0.5850]\n",
            "Validation:  36%|███▌      | 34/94 [00:01<00:02, 29.91it/s, loss=0.1505, lr=0.0003, roc_score=0.5860]\n",
            "Validation:  40%|████      | 38/94 [00:02<00:01, 31.25it/s, loss=0.1482, lr=0.0003, roc_score=0.5863]\n",
            "Validation:  45%|████▍     | 42/94 [00:02<00:01, 32.10it/s, loss=0.1538, lr=0.0003, roc_score=0.5855]\n",
            "Validation:  49%|████▉     | 46/94 [00:02<00:01, 32.63it/s, loss=0.1559, lr=0.0003, roc_score=0.5853]\n",
            "Validation:  53%|█████▎    | 50/94 [00:02<00:01, 32.46it/s, loss=0.1585, lr=0.0003, roc_score=0.5850]\n",
            "Validation:  57%|█████▋    | 54/94 [00:02<00:01, 32.38it/s, loss=0.1602, lr=0.0003, roc_score=0.5864]\n",
            "Validation:  62%|██████▏   | 58/94 [00:02<00:01, 32.59it/s, loss=0.1584, lr=0.0003, roc_score=0.5856]\n",
            "Validation:  66%|██████▌   | 62/94 [00:02<00:00, 32.09it/s, loss=0.1602, lr=0.0003, roc_score=0.5863]\n",
            "Validation:  70%|███████   | 66/94 [00:02<00:00, 32.76it/s, loss=0.1603, lr=0.0003, roc_score=0.5888]\n",
            "Validation:  74%|███████▍  | 70/94 [00:03<00:00, 33.04it/s, loss=0.1614, lr=0.0003, roc_score=0.5982]\n",
            "Validation:  79%|███████▊  | 74/94 [00:03<00:00, 32.99it/s, loss=0.1621, lr=0.0003, roc_score=0.6051]\n",
            "Validation:  83%|████████▎ | 78/94 [00:03<00:00, 33.22it/s, loss=0.1654, lr=0.0003, roc_score=0.6039]\n",
            "Validation:  87%|████████▋ | 82/94 [00:03<00:00, 33.40it/s, loss=0.1687, lr=0.0003, roc_score=0.6029]\n",
            "Validation:  91%|█████████▏| 86/94 [00:03<00:00, 33.12it/s, loss=0.1704, lr=0.0003, roc_score=0.6004]\n",
            "Validation:  96%|█████████▌| 90/94 [00:03<00:00, 33.38it/s, loss=0.1730, lr=0.0003, roc_score=0.5974]\n",
            "94it [00:03, 29.87it/s]\n"
          ]
        },
        {
          "metadata": {
            "tags": null
          },
          "name": "stdout",
          "output_type": "stream",
          "text": [
            "\n",
            "\n",
            "\n",
            "\n",
            "\n",
            "\n",
            "\n",
            "\n",
            "\n",
            "\n",
            "Epoch 5/6: Train Loss 0.1615, Learning Rate 0.0003, Validation Loss 0.1744, F1 Score 0.5527, Precision 0.3897, Recall 0.9906\n",
            "user_id 10\n",
            "user10\n",
            "['user0_restructured.mat', 'user1_restructured.mat', 'user2_restructured.mat', 'user3_restructured.mat', 'user4_restructured.mat', 'user5_restructured.mat', 'user6_restructured.mat', 'user7_restructured.mat', 'user8_restructured.mat', 'user9_restructured.mat', 'user11_restructured.mat', 'user12_restructured.mat', 'user13_restructured.mat', 'user14_restructured.mat', 'user15_restructured.mat', 'user16_restructured.mat', 'user17_restructured.mat', 'user18_restructured.mat', 'user19_restructured.mat']\n",
            "Setting up band-pass filter from 0.1 - 40 Hz\n",
            "\n",
            "FIR filter parameters\n",
            "---------------------\n",
            "Designing a one-pass, zero-phase, non-causal bandpass filter:\n",
            "- Windowed time-domain design (firwin) method\n",
            "- Hamming window with 0.0194 passband ripple and 53 dB stopband attenuation\n",
            "- Lower passband edge: 0.10\n",
            "- Lower transition bandwidth: 0.10 Hz (-6 dB cutoff frequency: 0.05 Hz)\n",
            "- Upper passband edge: 40.00 Hz\n",
            "- Upper transition bandwidth: 10.00 Hz (-6 dB cutoff frequency: 45.00 Hz)\n",
            "- Filter length: 3301 samples (33.010 sec)\n",
            "\n",
            "Setting up band-pass filter from 0.1 - 40 Hz\n",
            "\n",
            "FIR filter parameters\n",
            "---------------------\n",
            "Designing a one-pass, zero-phase, non-causal bandpass filter:\n",
            "- Windowed time-domain design (firwin) method\n",
            "- Hamming window with 0.0194 passband ripple and 53 dB stopband attenuation\n",
            "- Lower passband edge: 0.10\n",
            "- Lower transition bandwidth: 0.10 Hz (-6 dB cutoff frequency: 0.05 Hz)\n",
            "- Upper passband edge: 40.00 Hz\n",
            "- Upper transition bandwidth: 10.00 Hz (-6 dB cutoff frequency: 45.00 Hz)\n",
            "- Filter length: 3301 samples (33.010 sec)\n",
            "\n",
            "Setting up band-pass filter from 0.1 - 40 Hz\n",
            "\n",
            "FIR filter parameters\n",
            "---------------------\n",
            "Designing a one-pass, zero-phase, non-causal bandpass filter:\n",
            "- Windowed time-domain design (firwin) method\n",
            "- Hamming window with 0.0194 passband ripple and 53 dB stopband attenuation\n",
            "- Lower passband edge: 0.10\n",
            "- Lower transition bandwidth: 0.10 Hz (-6 dB cutoff frequency: 0.05 Hz)\n",
            "- Upper passband edge: 40.00 Hz\n",
            "- Upper transition bandwidth: 10.00 Hz (-6 dB cutoff frequency: 45.00 Hz)\n",
            "- Filter length: 3301 samples (33.010 sec)\n",
            "\n",
            "Setting up band-pass filter from 0.1 - 40 Hz\n",
            "\n",
            "FIR filter parameters\n",
            "---------------------\n",
            "Designing a one-pass, zero-phase, non-causal bandpass filter:\n",
            "- Windowed time-domain design (firwin) method\n",
            "- Hamming window with 0.0194 passband ripple and 53 dB stopband attenuation\n",
            "- Lower passband edge: 0.10\n",
            "- Lower transition bandwidth: 0.10 Hz (-6 dB cutoff frequency: 0.05 Hz)\n",
            "- Upper passband edge: 40.00 Hz\n",
            "- Upper transition bandwidth: 10.00 Hz (-6 dB cutoff frequency: 45.00 Hz)\n",
            "- Filter length: 3301 samples (33.010 sec)\n",
            "\n",
            "Setting up band-pass filter from 0.1 - 40 Hz\n",
            "\n",
            "FIR filter parameters\n",
            "---------------------\n",
            "Designing a one-pass, zero-phase, non-causal bandpass filter:\n",
            "- Windowed time-domain design (firwin) method\n",
            "- Hamming window with 0.0194 passband ripple and 53 dB stopband attenuation\n",
            "- Lower passband edge: 0.10\n",
            "- Lower transition bandwidth: 0.10 Hz (-6 dB cutoff frequency: 0.05 Hz)\n",
            "- Upper passband edge: 40.00 Hz\n",
            "- Upper transition bandwidth: 10.00 Hz (-6 dB cutoff frequency: 45.00 Hz)\n",
            "- Filter length: 3301 samples (33.010 sec)\n",
            "\n",
            "Setting up band-pass filter from 0.1 - 40 Hz\n",
            "\n",
            "FIR filter parameters\n",
            "---------------------\n",
            "Designing a one-pass, zero-phase, non-causal bandpass filter:\n",
            "- Windowed time-domain design (firwin) method\n",
            "- Hamming window with 0.0194 passband ripple and 53 dB stopband attenuation\n",
            "- Lower passband edge: 0.10\n",
            "- Lower transition bandwidth: 0.10 Hz (-6 dB cutoff frequency: 0.05 Hz)\n",
            "- Upper passband edge: 40.00 Hz\n",
            "- Upper transition bandwidth: 10.00 Hz (-6 dB cutoff frequency: 45.00 Hz)\n",
            "- Filter length: 3301 samples (33.010 sec)\n",
            "\n",
            "Setting up band-pass filter from 0.1 - 40 Hz\n",
            "\n",
            "FIR filter parameters\n",
            "---------------------\n",
            "Designing a one-pass, zero-phase, non-causal bandpass filter:\n",
            "- Windowed time-domain design (firwin) method\n",
            "- Hamming window with 0.0194 passband ripple and 53 dB stopband attenuation\n",
            "- Lower passband edge: 0.10\n",
            "- Lower transition bandwidth: 0.10 Hz (-6 dB cutoff frequency: 0.05 Hz)\n",
            "- Upper passband edge: 40.00 Hz\n",
            "- Upper transition bandwidth: 10.00 Hz (-6 dB cutoff frequency: 45.00 Hz)\n",
            "- Filter length: 3301 samples (33.010 sec)\n",
            "\n",
            "Setting up band-pass filter from 0.1 - 40 Hz\n",
            "\n",
            "FIR filter parameters\n",
            "---------------------\n",
            "Designing a one-pass, zero-phase, non-causal bandpass filter:\n",
            "- Windowed time-domain design (firwin) method\n",
            "- Hamming window with 0.0194 passband ripple and 53 dB stopband attenuation\n",
            "- Lower passband edge: 0.10\n",
            "- Lower transition bandwidth: 0.10 Hz (-6 dB cutoff frequency: 0.05 Hz)\n",
            "- Upper passband edge: 40.00 Hz\n",
            "- Upper transition bandwidth: 10.00 Hz (-6 dB cutoff frequency: 45.00 Hz)\n",
            "- Filter length: 3301 samples (33.010 sec)\n",
            "\n",
            "Setting up band-pass filter from 0.1 - 40 Hz\n",
            "\n",
            "FIR filter parameters\n",
            "---------------------\n",
            "Designing a one-pass, zero-phase, non-causal bandpass filter:\n",
            "- Windowed time-domain design (firwin) method\n",
            "- Hamming window with 0.0194 passband ripple and 53 dB stopband attenuation\n",
            "- Lower passband edge: 0.10\n",
            "- Lower transition bandwidth: 0.10 Hz (-6 dB cutoff frequency: 0.05 Hz)\n",
            "- Upper passband edge: 40.00 Hz\n",
            "- Upper transition bandwidth: 10.00 Hz (-6 dB cutoff frequency: 45.00 Hz)\n",
            "- Filter length: 3301 samples (33.010 sec)\n",
            "\n",
            "Setting up band-pass filter from 0.1 - 40 Hz\n",
            "\n",
            "FIR filter parameters\n",
            "---------------------\n",
            "Designing a one-pass, zero-phase, non-causal bandpass filter:\n",
            "- Windowed time-domain design (firwin) method\n",
            "- Hamming window with 0.0194 passband ripple and 53 dB stopband attenuation\n",
            "- Lower passband edge: 0.10\n",
            "- Lower transition bandwidth: 0.10 Hz (-6 dB cutoff frequency: 0.05 Hz)\n",
            "- Upper passband edge: 40.00 Hz\n",
            "- Upper transition bandwidth: 10.00 Hz (-6 dB cutoff frequency: 45.00 Hz)\n",
            "- Filter length: 3301 samples (33.010 sec)\n",
            "\n",
            "Setting up band-pass filter from 0.1 - 40 Hz\n",
            "\n",
            "FIR filter parameters\n",
            "---------------------\n",
            "Designing a one-pass, zero-phase, non-causal bandpass filter:\n",
            "- Windowed time-domain design (firwin) method\n",
            "- Hamming window with 0.0194 passband ripple and 53 dB stopband attenuation\n",
            "- Lower passband edge: 0.10\n",
            "- Lower transition bandwidth: 0.10 Hz (-6 dB cutoff frequency: 0.05 Hz)\n",
            "- Upper passband edge: 40.00 Hz\n",
            "- Upper transition bandwidth: 10.00 Hz (-6 dB cutoff frequency: 45.00 Hz)\n",
            "- Filter length: 3301 samples (33.010 sec)\n",
            "\n",
            "Setting up band-pass filter from 0.1 - 40 Hz\n",
            "\n",
            "FIR filter parameters\n",
            "---------------------\n",
            "Designing a one-pass, zero-phase, non-causal bandpass filter:\n",
            "- Windowed time-domain design (firwin) method\n",
            "- Hamming window with 0.0194 passband ripple and 53 dB stopband attenuation\n",
            "- Lower passband edge: 0.10\n",
            "- Lower transition bandwidth: 0.10 Hz (-6 dB cutoff frequency: 0.05 Hz)\n",
            "- Upper passband edge: 40.00 Hz\n",
            "- Upper transition bandwidth: 10.00 Hz (-6 dB cutoff frequency: 45.00 Hz)\n",
            "- Filter length: 3301 samples (33.010 sec)\n",
            "\n",
            "Setting up band-pass filter from 0.1 - 40 Hz\n",
            "\n",
            "FIR filter parameters\n",
            "---------------------\n",
            "Designing a one-pass, zero-phase, non-causal bandpass filter:\n",
            "- Windowed time-domain design (firwin) method\n",
            "- Hamming window with 0.0194 passband ripple and 53 dB stopband attenuation\n",
            "- Lower passband edge: 0.10\n",
            "- Lower transition bandwidth: 0.10 Hz (-6 dB cutoff frequency: 0.05 Hz)\n",
            "- Upper passband edge: 40.00 Hz\n",
            "- Upper transition bandwidth: 10.00 Hz (-6 dB cutoff frequency: 45.00 Hz)\n",
            "- Filter length: 3301 samples (33.010 sec)\n",
            "\n",
            "Setting up band-pass filter from 0.1 - 40 Hz\n",
            "\n",
            "FIR filter parameters\n",
            "---------------------\n",
            "Designing a one-pass, zero-phase, non-causal bandpass filter:\n",
            "- Windowed time-domain design (firwin) method\n",
            "- Hamming window with 0.0194 passband ripple and 53 dB stopband attenuation\n",
            "- Lower passband edge: 0.10\n",
            "- Lower transition bandwidth: 0.10 Hz (-6 dB cutoff frequency: 0.05 Hz)\n",
            "- Upper passband edge: 40.00 Hz\n",
            "- Upper transition bandwidth: 10.00 Hz (-6 dB cutoff frequency: 45.00 Hz)\n",
            "- Filter length: 3301 samples (33.010 sec)\n",
            "\n",
            "Setting up band-pass filter from 0.1 - 40 Hz\n",
            "\n",
            "FIR filter parameters\n",
            "---------------------\n",
            "Designing a one-pass, zero-phase, non-causal bandpass filter:\n",
            "- Windowed time-domain design (firwin) method\n",
            "- Hamming window with 0.0194 passband ripple and 53 dB stopband attenuation\n",
            "- Lower passband edge: 0.10\n",
            "- Lower transition bandwidth: 0.10 Hz (-6 dB cutoff frequency: 0.05 Hz)\n",
            "- Upper passband edge: 40.00 Hz\n",
            "- Upper transition bandwidth: 10.00 Hz (-6 dB cutoff frequency: 45.00 Hz)\n",
            "- Filter length: 3301 samples (33.010 sec)\n",
            "\n",
            "Setting up band-pass filter from 0.1 - 40 Hz\n",
            "\n",
            "FIR filter parameters\n",
            "---------------------\n",
            "Designing a one-pass, zero-phase, non-causal bandpass filter:\n",
            "- Windowed time-domain design (firwin) method\n",
            "- Hamming window with 0.0194 passband ripple and 53 dB stopband attenuation\n",
            "- Lower passband edge: 0.10\n",
            "- Lower transition bandwidth: 0.10 Hz (-6 dB cutoff frequency: 0.05 Hz)\n",
            "- Upper passband edge: 40.00 Hz\n",
            "- Upper transition bandwidth: 10.00 Hz (-6 dB cutoff frequency: 45.00 Hz)\n",
            "- Filter length: 3301 samples (33.010 sec)\n",
            "\n",
            "Setting up band-pass filter from 0.1 - 40 Hz\n",
            "\n",
            "FIR filter parameters\n",
            "---------------------\n",
            "Designing a one-pass, zero-phase, non-causal bandpass filter:\n",
            "- Windowed time-domain design (firwin) method\n",
            "- Hamming window with 0.0194 passband ripple and 53 dB stopband attenuation\n",
            "- Lower passband edge: 0.10\n",
            "- Lower transition bandwidth: 0.10 Hz (-6 dB cutoff frequency: 0.05 Hz)\n",
            "- Upper passband edge: 40.00 Hz\n",
            "- Upper transition bandwidth: 10.00 Hz (-6 dB cutoff frequency: 45.00 Hz)\n",
            "- Filter length: 3301 samples (33.010 sec)\n",
            "\n",
            "Setting up band-pass filter from 0.1 - 40 Hz\n",
            "\n",
            "FIR filter parameters\n",
            "---------------------\n",
            "Designing a one-pass, zero-phase, non-causal bandpass filter:\n",
            "- Windowed time-domain design (firwin) method\n",
            "- Hamming window with 0.0194 passband ripple and 53 dB stopband attenuation\n",
            "- Lower passband edge: 0.10\n",
            "- Lower transition bandwidth: 0.10 Hz (-6 dB cutoff frequency: 0.05 Hz)\n",
            "- Upper passband edge: 40.00 Hz\n",
            "- Upper transition bandwidth: 10.00 Hz (-6 dB cutoff frequency: 45.00 Hz)\n",
            "- Filter length: 3301 samples (33.010 sec)\n",
            "\n",
            "Setting up band-pass filter from 0.1 - 40 Hz\n",
            "\n",
            "FIR filter parameters\n",
            "---------------------\n",
            "Designing a one-pass, zero-phase, non-causal bandpass filter:\n",
            "- Windowed time-domain design (firwin) method\n",
            "- Hamming window with 0.0194 passband ripple and 53 dB stopband attenuation\n",
            "- Lower passband edge: 0.10\n",
            "- Lower transition bandwidth: 0.10 Hz (-6 dB cutoff frequency: 0.05 Hz)\n",
            "- Upper passband edge: 40.00 Hz\n",
            "- Upper transition bandwidth: 10.00 Hz (-6 dB cutoff frequency: 45.00 Hz)\n",
            "- Filter length: 3301 samples (33.010 sec)\n",
            "\n",
            "user10\n",
            "['user10_restructured.mat']\n",
            "Setting up band-pass filter from 0.1 - 40 Hz\n",
            "\n",
            "FIR filter parameters\n",
            "---------------------\n",
            "Designing a one-pass, zero-phase, non-causal bandpass filter:\n",
            "- Windowed time-domain design (firwin) method\n",
            "- Hamming window with 0.0194 passband ripple and 53 dB stopband attenuation\n",
            "- Lower passband edge: 0.10\n",
            "- Lower transition bandwidth: 0.10 Hz (-6 dB cutoff frequency: 0.05 Hz)\n",
            "- Upper passband edge: 40.00 Hz\n",
            "- Upper transition bandwidth: 10.00 Hz (-6 dB cutoff frequency: 45.00 Hz)\n",
            "- Filter length: 3301 samples (33.010 sec)\n",
            "\n",
            "Epoch  0\n"
          ]
        },
        {
          "output_type": "stream",
          "name": "stderr",
          "text": [
            "Validation:   0%|          | 0/94 [00:00<?, ?it/s]\n",
            "Validation:   2%|▏         | 2/94 [00:01<01:34,  1.02s/it, loss=0.1435, lr=0.0010, roc_score=0.5562]\n",
            "Validation:   6%|▋         | 6/94 [00:01<00:15,  5.57it/s, loss=0.1440, lr=0.0010, roc_score=0.5455]\n",
            "Validation:  11%|█         | 10/94 [00:01<00:08, 10.30it/s, loss=0.1467, lr=0.0010, roc_score=0.5353]\n",
            "Validation:  15%|█▍        | 14/94 [00:01<00:05, 14.85it/s, loss=0.1582, lr=0.0010, roc_score=0.5261]\n",
            "Validation:  19%|█▉        | 18/94 [00:01<00:04, 18.90it/s, loss=0.1594, lr=0.0010, roc_score=0.5186]\n",
            "Validation:  23%|██▎       | 22/94 [00:01<00:03, 22.50it/s, loss=0.1651, lr=0.0010, roc_score=0.5158]\n",
            "Validation:  28%|██▊       | 26/94 [00:01<00:02, 25.08it/s, loss=0.1617, lr=0.0010, roc_score=0.5163]\n",
            "Validation:  32%|███▏      | 30/94 [00:01<00:02, 27.54it/s, loss=0.1564, lr=0.0010, roc_score=0.5126]\n",
            "Validation:  36%|███▌      | 34/94 [00:02<00:02, 29.39it/s, loss=0.1529, lr=0.0010, roc_score=0.5116]\n",
            "Validation:  40%|████      | 38/94 [00:02<00:01, 30.42it/s, loss=0.1506, lr=0.0010, roc_score=0.5155]\n",
            "Validation:  45%|████▍     | 42/94 [00:02<00:01, 31.27it/s, loss=0.1562, lr=0.0010, roc_score=0.5138]\n",
            "Validation:  49%|████▉     | 46/94 [00:02<00:01, 31.89it/s, loss=0.1583, lr=0.0010, roc_score=0.5120]\n",
            "Validation:  53%|█████▎    | 50/94 [00:02<00:01, 31.99it/s, loss=0.1608, lr=0.0010, roc_score=0.5109]\n",
            "Validation:  57%|█████▋    | 54/94 [00:02<00:01, 32.19it/s, loss=0.1626, lr=0.0010, roc_score=0.5092]\n",
            "Validation:  62%|██████▏   | 58/94 [00:02<00:01, 31.59it/s, loss=0.1609, lr=0.0010, roc_score=0.5077]\n",
            "Validation:  66%|██████▌   | 62/94 [00:02<00:01, 31.29it/s, loss=0.1627, lr=0.0010, roc_score=0.5080]\n",
            "Validation:  70%|███████   | 66/94 [00:03<00:00, 31.63it/s, loss=0.1629, lr=0.0010, roc_score=0.5082]\n",
            "Validation:  74%|███████▍  | 70/94 [00:03<00:00, 32.02it/s, loss=0.1645, lr=0.0010, roc_score=0.5103]\n",
            "Validation:  79%|███████▊  | 74/94 [00:03<00:00, 32.25it/s, loss=0.1657, lr=0.0010, roc_score=0.5120]\n",
            "Validation:  83%|████████▎ | 78/94 [00:03<00:00, 32.23it/s, loss=0.1688, lr=0.0010, roc_score=0.5116]\n",
            "Validation:  87%|████████▋ | 82/94 [00:03<00:00, 31.86it/s, loss=0.1719, lr=0.0010, roc_score=0.5110]\n",
            "Validation:  91%|█████████▏| 86/94 [00:03<00:00, 32.06it/s, loss=0.1735, lr=0.0010, roc_score=0.5135]\n",
            "Validation:  96%|█████████▌| 90/94 [00:03<00:00, 32.65it/s, loss=0.1757, lr=0.0010, roc_score=0.5191]\n",
            "94it [00:03, 29.36it/s]\n"
          ]
        },
        {
          "output_type": "stream",
          "name": "stdout",
          "text": [
            "\n",
            "\n",
            "\n",
            "\n",
            "\n",
            "\n",
            "\n",
            "\n",
            "\n",
            "\n",
            "Epoch 0/6: Train Loss 0.1783, Learning Rate 0.0010, Validation Loss 0.1769, F1 Score 0.6465, Precision 0.5998, Recall 0.7247\n",
            "Epoch  1\n"
          ]
        },
        {
          "output_type": "stream",
          "name": "stderr",
          "text": [
            "Validation:   0%|          | 0/94 [00:00<?, ?it/s]\n",
            "Validation:   2%|▏         | 2/94 [00:01<01:35,  1.04s/it, loss=0.1433, lr=0.0010, roc_score=0.5410]\n",
            "Validation:   6%|▋         | 6/94 [00:01<00:19,  4.45it/s, loss=0.1439, lr=0.0010, roc_score=0.5368]\n",
            "Validation:  11%|█         | 10/94 [00:01<00:09,  9.23it/s, loss=0.1464, lr=0.0010, roc_score=0.5302]\n",
            "Validation:  14%|█▍        | 13/94 [00:01<00:05, 13.80it/s, loss=0.1545, lr=0.0010, roc_score=0.5289]\n",
            "Validation:  18%|█▊        | 17/94 [00:01<00:04, 16.55it/s, loss=0.1641, lr=0.0010, roc_score=0.5238]\n",
            "Validation:  22%|██▏       | 21/94 [00:01<00:03, 20.36it/s, loss=0.1658, lr=0.0010, roc_score=0.5196]\n",
            "Validation:  27%|██▋       | 25/94 [00:01<00:03, 22.67it/s, loss=0.1631, lr=0.0010, roc_score=0.5184]\n",
            "Validation:  31%|███       | 29/94 [00:01<00:02, 25.05it/s, loss=0.1567, lr=0.0010, roc_score=0.5131]\n",
            "Validation:  35%|███▌      | 33/94 [00:02<00:02, 26.63it/s, loss=0.1531, lr=0.0010, roc_score=0.5086]\n",
            "Validation:  39%|███▉      | 37/94 [00:02<00:02, 28.10it/s, loss=0.1490, lr=0.0010, roc_score=0.5074]\n",
            "Validation:  44%|████▎     | 41/94 [00:02<00:01, 28.12it/s, loss=0.1549, lr=0.0010, roc_score=0.5069]\n",
            "Validation:  48%|████▊     | 45/94 [00:02<00:01, 28.68it/s, loss=0.1594, lr=0.0010, roc_score=0.5072]\n",
            "Validation:  51%|█████     | 48/94 [00:02<00:01, 28.82it/s, loss=0.1594, lr=0.0010, roc_score=0.5069]\n",
            "Validation:  54%|█████▍    | 51/94 [00:02<00:01, 29.05it/s, loss=0.1606, lr=0.0010, roc_score=0.5070]\n",
            "Validation:  57%|█████▋    | 54/94 [00:02<00:01, 27.99it/s, loss=0.1627, lr=0.0010, roc_score=0.5093]\n",
            "Validation:  61%|██████    | 57/94 [00:02<00:01, 28.07it/s, loss=0.1612, lr=0.0010, roc_score=0.5082]\n",
            "Validation:  64%|██████▍   | 60/94 [00:03<00:01, 26.74it/s, loss=0.1611, lr=0.0010, roc_score=0.5081]\n",
            "Validation:  67%|██████▋   | 63/94 [00:03<00:01, 25.42it/s, loss=0.1622, lr=0.0010, roc_score=0.5079]\n",
            "Validation:  70%|███████   | 66/94 [00:03<00:01, 24.55it/s, loss=0.1631, lr=0.0010, roc_score=0.5094]\n",
            "Validation:  74%|███████▍  | 70/94 [00:03<00:00, 26.65it/s, loss=0.1645, lr=0.0010, roc_score=0.5145]\n",
            "Validation:  79%|███████▊  | 74/94 [00:03<00:00, 27.81it/s, loss=0.1656, lr=0.0010, roc_score=0.5177]\n",
            "Validation:  82%|████████▏ | 77/94 [00:03<00:00, 28.04it/s, loss=0.1678, lr=0.0010, roc_score=0.5174]\n",
            "Validation:  85%|████████▌ | 80/94 [00:03<00:00, 28.21it/s, loss=0.1707, lr=0.0010, roc_score=0.5169]\n",
            "Validation:  90%|█████████ | 85/94 [00:03<00:00, 28.77it/s, loss=0.1723, lr=0.0010, roc_score=0.5189]\n",
            "Validation:  95%|█████████▍| 89/94 [00:04<00:00, 29.87it/s, loss=0.1742, lr=0.0010, roc_score=0.5263]\n",
            "Validation:  99%|█████████▉| 93/94 [00:04<00:00, 30.92it/s, loss=0.1765, lr=0.0010, roc_score=0.5335]\n",
            "94it [00:03, 26.33it/s]\n"
          ]
        },
        {
          "output_type": "stream",
          "name": "stdout",
          "text": [
            "\n",
            "\n",
            "\n",
            "\n",
            "\n",
            "\n",
            "\n",
            "\n",
            "\n",
            "\n",
            "Epoch 1/6: Train Loss 0.1729, Learning Rate 0.0010, Validation Loss 0.1765, F1 Score 0.5970, Precision 0.6280, Recall 0.5870\n",
            "Epoch  2\n"
          ]
        },
        {
          "output_type": "stream",
          "name": "stderr",
          "text": [
            "Training:  12%|█▏        | 207/1782 [00:14<01:37, 16.09it/s, loss=0.1699, lr=0.0010]"
          ]
        },
        {
          "output_type": "error",
          "ename": "KeyboardInterrupt",
          "evalue": "ignored",
          "traceback": [
            "\u001b[0;31m---------------------------------------------------------------------------\u001b[0m",
            "\u001b[0;31mKeyboardInterrupt\u001b[0m                         Traceback (most recent call last)",
            "\u001b[0;32m<ipython-input-63-d2221ea9545c>\u001b[0m in \u001b[0;36m<module>\u001b[0;34m()\u001b[0m\n\u001b[1;32m     17\u001b[0m \u001b[0;34m\u001b[0m\u001b[0m\n\u001b[1;32m     18\u001b[0m \u001b[0;34m\u001b[0m\u001b[0m\n\u001b[0;32m---> 19\u001b[0;31m     \u001b[0mf\u001b[0m\u001b[0;34m,\u001b[0m\u001b[0mp\u001b[0m\u001b[0;34m,\u001b[0m\u001b[0mr\u001b[0m \u001b[0;34m=\u001b[0m \u001b[0mtrain\u001b[0m\u001b[0;34m(\u001b[0m\u001b[0mmodel\u001b[0m\u001b[0;34m,\u001b[0m\u001b[0mepoch\u001b[0m\u001b[0;34m,\u001b[0m\u001b[0mtrain_loader\u001b[0m\u001b[0;34m,\u001b[0m\u001b[0mval_loader\u001b[0m\u001b[0;34m,\u001b[0m\u001b[0mcriterion\u001b[0m\u001b[0;34m,\u001b[0m\u001b[0moptimizer\u001b[0m\u001b[0;34m,\u001b[0m \u001b[0mscheduler\u001b[0m\u001b[0;34m)\u001b[0m\u001b[0;34m\u001b[0m\u001b[0;34m\u001b[0m\u001b[0m\n\u001b[0m\u001b[1;32m     20\u001b[0m     \u001b[0mscores\u001b[0m\u001b[0;34m[\u001b[0m\u001b[0;34m'f'\u001b[0m\u001b[0;34m]\u001b[0m\u001b[0;34m.\u001b[0m\u001b[0mappend\u001b[0m\u001b[0;34m(\u001b[0m\u001b[0mf\u001b[0m\u001b[0;34m)\u001b[0m\u001b[0;34m\u001b[0m\u001b[0;34m\u001b[0m\u001b[0m\n\u001b[1;32m     21\u001b[0m     \u001b[0mscores\u001b[0m\u001b[0;34m[\u001b[0m\u001b[0;34m'p'\u001b[0m\u001b[0;34m]\u001b[0m\u001b[0;34m.\u001b[0m\u001b[0mappend\u001b[0m\u001b[0;34m(\u001b[0m\u001b[0mp\u001b[0m\u001b[0;34m)\u001b[0m\u001b[0;34m\u001b[0m\u001b[0;34m\u001b[0m\u001b[0m\n",
            "\u001b[0;32m<ipython-input-62-847ef5a44bec>\u001b[0m in \u001b[0;36mtrain\u001b[0;34m(model, epoch, train_loader, val_loader, criterion, optimizer, scheduler)\u001b[0m\n\u001b[1;32m     16\u001b[0m             \u001b[0mtotal_loss\u001b[0m\u001b[0;34m+=\u001b[0m\u001b[0mloss\u001b[0m\u001b[0;34m\u001b[0m\u001b[0;34m\u001b[0m\u001b[0m\n\u001b[1;32m     17\u001b[0m \u001b[0;34m\u001b[0m\u001b[0m\n\u001b[0;32m---> 18\u001b[0;31m             \u001b[0mbatch_bar\u001b[0m\u001b[0;34m.\u001b[0m\u001b[0mset_postfix\u001b[0m\u001b[0;34m(\u001b[0m\u001b[0mloss\u001b[0m\u001b[0;34m=\u001b[0m\u001b[0;34m\"{:.04f}\"\u001b[0m\u001b[0;34m.\u001b[0m\u001b[0mformat\u001b[0m\u001b[0;34m(\u001b[0m\u001b[0mfloat\u001b[0m\u001b[0;34m(\u001b[0m\u001b[0mtotal_loss\u001b[0m \u001b[0;34m/\u001b[0m \u001b[0;34m(\u001b[0m\u001b[0midx\u001b[0m \u001b[0;34m+\u001b[0m \u001b[0;36m1\u001b[0m\u001b[0;34m)\u001b[0m\u001b[0;34m)\u001b[0m\u001b[0;34m)\u001b[0m\u001b[0;34m,\u001b[0m \u001b[0mlr\u001b[0m\u001b[0;34m=\u001b[0m\u001b[0;34m\"{:.04f}\"\u001b[0m\u001b[0;34m.\u001b[0m\u001b[0mformat\u001b[0m\u001b[0;34m(\u001b[0m\u001b[0mfloat\u001b[0m\u001b[0;34m(\u001b[0m\u001b[0moptimizer\u001b[0m\u001b[0;34m.\u001b[0m\u001b[0mparam_groups\u001b[0m\u001b[0;34m[\u001b[0m\u001b[0;36m0\u001b[0m\u001b[0;34m]\u001b[0m\u001b[0;34m[\u001b[0m\u001b[0;34m'lr'\u001b[0m\u001b[0;34m]\u001b[0m\u001b[0;34m)\u001b[0m\u001b[0;34m)\u001b[0m\u001b[0;34m)\u001b[0m\u001b[0;34m\u001b[0m\u001b[0;34m\u001b[0m\u001b[0m\n\u001b[0m\u001b[1;32m     19\u001b[0m             \u001b[0mbatch_bar\u001b[0m\u001b[0;34m.\u001b[0m\u001b[0mupdate\u001b[0m\u001b[0;34m(\u001b[0m\u001b[0;34m)\u001b[0m\u001b[0;34m\u001b[0m\u001b[0;34m\u001b[0m\u001b[0m\n\u001b[1;32m     20\u001b[0m \u001b[0;34m\u001b[0m\u001b[0m\n",
            "\u001b[0;31mKeyboardInterrupt\u001b[0m: "
          ]
        }
      ],
      "source": [
        "import gc\n",
        "valid_ids = [0,5,10,15]\n",
        "# for user_id in valid_ids:\n",
        "for user_id in valid_ids:\n",
        "    print('user_id', user_id)\n",
        "    gc.collect()\n",
        "    context = 60\n",
        "    train_dataset = UserRNNDataset(data_folder,'train','user'+str(user_id),context = context)\n",
        "    val_dataset = UserRNNDataset(data_folder,partition=\"valid\",user_id='user'+str(user_id),context = context)\n",
        "    train_loader =torch.utils.data.DataLoader(train_dataset,batch_size=32,collate_fn = UserRNNDataset.collate_fn,shuffle=True,num_workers=4)\n",
        "    val_loader = torch.utils.data.DataLoader(val_dataset,batch_size=32,collate_fn = UserRNNDataset.collate_fn,shuffle=False,num_workers=4)\n",
        "    model = Baseline(context=context).cuda()\n",
        "    #model = Network(context=context).cuda()\n",
        "    criterion = nn.BCEWithLogitsLoss()\n",
        "    optimizer = torch.optim.Adam(model.parameters(),lr = 1e-3)\n",
        "    scheduler = torch.optim.lr_scheduler.ReduceLROnPlateau(optimizer, threshold = 0.1, factor = 0.3, patience = 2, mode = 'min')\n",
        "\n",
        "\n",
        "    f,p,r = train(model,epoch,train_loader,val_loader,criterion,optimizer, scheduler)\n",
        "    scores['f'].append(f)\n",
        "    scores['p'].append(p)\n",
        "    scores['r'].append(r)\n",
        "\n",
        "    del train_dataset,val_dataset,train_loader,val_loader,model,criterion,optimizer\n",
        "    torch.cuda.empty_cache()\n",
        "    gc.collect()\n"
      ]
    },
    {
      "cell_type": "markdown",
      "metadata": {
        "id": "SXn7M_jaJsOf"
      },
      "source": [
        ""
      ]
    },
    {
      "cell_type": "code",
      "execution_count": null,
      "metadata": {
        "id": "1uY7VNM6mJKb"
      },
      "outputs": [],
      "source": [
        "print(\"Final F1 score : \", sum(scores['f'][:])/4)\n",
        "print(\"Final precision score : \",sum(scores['p'][:])/4)\n",
        "print(\"Final recall score : \",sum(scores['r'][:])/4)\n",
        "print(scores)"
      ]
    },
    {
      "cell_type": "code",
      "execution_count": null,
      "metadata": {
        "id": "IkIvx7Yjygkw"
      },
      "outputs": [],
      "source": [
        "scores2 = scores.copy()"
      ]
    },
    {
      "cell_type": "code",
      "execution_count": null,
      "metadata": {
        "id": "xpLr6tukMuwv"
      },
      "outputs": [],
      "source": [
        "out = validate(model,val_loader,criterion)"
      ]
    },
    {
      "cell_type": "code",
      "execution_count": null,
      "metadata": {
        "id": "NbAAMU5f8Utj"
      },
      "outputs": [],
      "source": [
        "val_dataset.Y_timestamps[0],val_dataset.Y_timestamps[1]"
      ]
    },
    {
      "cell_type": "code",
      "execution_count": null,
      "metadata": {
        "id": "IGYzjv888UoM"
      },
      "outputs": [],
      "source": [
        "val_dataset[0][1][1]"
      ]
    },
    {
      "cell_type": "code",
      "execution_count": null,
      "metadata": {
        "id": "EXR8G5MU8Ui_"
      },
      "outputs": [],
      "source": [
        "val_dataset[1][1][0]\n"
      ]
    },
    {
      "cell_type": "code",
      "execution_count": null,
      "metadata": {
        "id": "ExHwHT_3tI3N"
      },
      "outputs": [],
      "source": [
        "a=np.array([0,3.7,4,4.1,0.1,2.3,2,0,0])"
      ]
    },
    {
      "cell_type": "code",
      "execution_count": null,
      "metadata": {
        "id": "zzu8QHkJtIve"
      },
      "outputs": [],
      "source": [
        "out = madmom.features.onsets.peak_picking(a,0.5)"
      ]
    },
    {
      "cell_type": "code",
      "execution_count": null,
      "metadata": {
        "id": "myyIk5eKtIoo"
      },
      "outputs": [],
      "source": [
        "out"
      ]
    },
    {
      "cell_type": "code",
      "execution_count": null,
      "metadata": {
        "id": "AjSjvXvRtIfo"
      },
      "outputs": [],
      "source": [
        "a=np.array([0,234,5685,23424])/125"
      ]
    },
    {
      "cell_type": "code",
      "execution_count": null,
      "metadata": {
        "id": "oyu2GN57tIW0"
      },
      "outputs": [],
      "source": [
        "a"
      ]
    },
    {
      "cell_type": "code",
      "execution_count": null,
      "metadata": {
        "id": "i7QxbsKFdS9p"
      },
      "outputs": [],
      "source": [
        "b =val_loader.dataset.Y_timestamps[0]"
      ]
    },
    {
      "cell_type": "code",
      "execution_count": null,
      "metadata": {
        "id": "K23KfscQ2IJX"
      },
      "outputs": [],
      "source": [
        "mir_eval.onset.f_measure(b,\n",
        "                                   a)"
      ]
    },
    {
      "cell_type": "code",
      "execution_count": null,
      "metadata": {
        "id": "TFkGL1AfWOyH"
      },
      "outputs": [],
      "source": [
        "dataset = UserRNNDataset(data_folder,partition='val',user_id=\"user0\")"
      ]
    },
    {
      "cell_type": "code",
      "execution_count": null,
      "metadata": {
        "id": "Sxv2kryDdeYz"
      },
      "outputs": [],
      "source": [
        "len(dataset)"
      ]
    },
    {
      "cell_type": "code",
      "execution_count": null,
      "metadata": {
        "id": "hNzy2LBMq0Li"
      },
      "outputs": [],
      "source": [
        "x,y = dataset[0]"
      ]
    },
    {
      "cell_type": "code",
      "execution_count": null,
      "metadata": {
        "id": "81fQuFo4q5if"
      },
      "outputs": [],
      "source": [
        "x.shape"
      ]
    },
    {
      "cell_type": "code",
      "execution_count": null,
      "metadata": {
        "id": "zU19SQngq8P_"
      },
      "outputs": [],
      "source": [
        "y.shape"
      ]
    },
    {
      "cell_type": "code",
      "execution_count": null,
      "metadata": {
        "id": "uPJunQ1gnx7h"
      },
      "outputs": [],
      "source": [
        "#dict_keys(['__header__', '__version__', '__globals__', 'data21', 'fs', 'subs21'])\n",
        "\n",
        "dat = np.transpose(np.array(loaded['data21']), (2,0,1)) #Putting into 20 x 125 x N\n",
        "\n",
        "print(dat.shape)\n",
        "print(loaded['data21'].shape) #Actual Data\n",
        "#(20 subjects, 125 channels and N time steps)\n",
        "print(loaded['fs'].shape)\n",
        "print(loaded['fs']) #fs is just for number of channels\n",
        "print(loaded['subs21'].shape) #Subjects\n",
        "\n",
        "\n",
        "#sfreq = loaded['data21'][125]\n",
        "EEGdata   = dat\n",
        "nsubjects, nchannels, ntimesteps = EEGdata.shape\n"
      ]
    },
    {
      "cell_type": "code",
      "execution_count": null,
      "metadata": {
        "id": "NIWTPhg55CfE"
      },
      "outputs": [],
      "source": [
        "pad_length = 37500 - ntimesteps\n",
        "\n",
        "EEGdata = np.pad(EEGdata, ((0,0) , (0,0), (0, pad_length)), constant_values=0)\n",
        "\n",
        "print(\"padded EEG data shape: \", EEGdata.shape)"
      ]
    },
    {
      "cell_type": "code",
      "execution_count": null,
      "metadata": {
        "id": "00aEifX42qg1"
      },
      "outputs": [],
      "source": [
        "#Segment into one second blocks\n",
        "split_EEGdata = np.dsplit(EEGdata, 300)\n",
        "print(split_EEGdata[0].shape)"
      ]
    },
    {
      "cell_type": "code",
      "execution_count": null,
      "metadata": {
        "id": "b8kO4CXv4ifE"
      },
      "outputs": [],
      "source": [
        "#I think the split worked correctly?\n",
        "print(len(split_EEGdata[0][0][0]))\n",
        "print(len(split_EEGdata))"
      ]
    },
    {
      "cell_type": "code",
      "execution_count": null,
      "metadata": {
        "id": "3eCzvXmrof4V"
      },
      "outputs": [],
      "source": [
        "#we filter the EEG data with a bandpass filter (0.1–\n",
        "#40 Hz) and zero-pad the dataset uniformly to a length of 37500\n",
        "#samples (5 min), since the longest song in the dataset is around\n",
        "#five minutes long\n",
        "\n",
        "!pip install eeg-filters\n",
        "\n"
      ]
    },
    {
      "cell_type": "code",
      "execution_count": null,
      "metadata": {
        "id": "HhhOSj6A8VPc"
      },
      "outputs": [],
      "source": [
        "\n",
        "from scipy.signal import butter, lfilter\n",
        "\n",
        "def butter_bandpass(lowcut, highcut, fs, order=5):\n",
        "    return butter(order, [lowcut, highcut], fs=fs, btype='band')\n",
        "\n",
        "def butter_bandpass_filter(data, lowcut, highcut, fs, order=5):\n",
        "    b, a = butter_bandpass(lowcut, highcut, fs, order=order)\n",
        "    y = lfilter(b, a, data)\n",
        "    return y\n",
        "\n",
        "\n",
        "import numpy as np\n",
        "import matplotlib.pyplot as plt\n",
        "from scipy.signal import freqz\n",
        "\n",
        "# Sample rate and desired cutoff frequencies (in Hz).\n",
        "fs = 5000.0\n",
        "lowcut = 500.0\n",
        "highcut = 1250.0\n",
        "\n",
        "# Plot the frequency response for a few different orders.\n",
        "plt.figure(1)\n",
        "plt.clf()\n",
        "for order in [3, 6, 9]:\n",
        "    b, a = butter_bandpass(lowcut, highcut, fs, order=order)\n",
        "    w, h = freqz(b, a, fs=fs, worN=2000)\n",
        "    plt.plot(w, abs(h), label=\"order = %d\" % order)\n",
        "\n",
        "plt.plot([0, 0.5 * fs], [np.sqrt(0.5), np.sqrt(0.5)],\n",
        "          '--', label='sqrt(0.5)')\n",
        "plt.xlabel('Frequency (Hz)')\n",
        "plt.ylabel('Gain')\n",
        "plt.grid(True)\n",
        "plt.legend(loc='best')\n",
        "\n",
        "# Filter a noisy signal.\n",
        "T = 0.05\n",
        "nsamples = T * fs\n",
        "t = np.arange(0, nsamples) / fs\n",
        "a = 0.02\n",
        "f0 = 600.0\n",
        "x = 0.1 * np.sin(2 * np.pi * 1.2 * np.sqrt(t))\n",
        "x += 0.01 * np.cos(2 * np.pi * 312 * t + 0.1)\n",
        "x += a * np.cos(2 * np.pi * f0 * t + .11)\n",
        "x += 0.03 * np.cos(2 * np.pi * 2000 * t)\n",
        "\n",
        "#x = EEGdata[0]\n",
        "\n",
        "plt.figure(2)\n",
        "plt.clf()\n",
        "plt.plot(t, x, label='Noisy signal')\n",
        "\n",
        "y = butter_bandpass_filter(x, lowcut, highcut, fs, order=6)\n",
        "plt.plot(t, y, label='Filtered signal (%g Hz)' % f0)\n",
        "plt.xlabel('time (seconds)')\n",
        "plt.hlines([-a, a], 0, T, linestyles='--')\n",
        "plt.grid(True)\n",
        "plt.axis('tight')\n",
        "plt.legend(loc='upper left')\n",
        "\n",
        "plt.show()\n"
      ]
    },
    {
      "cell_type": "markdown",
      "metadata": {
        "id": "yNLc-8IJmmb2"
      },
      "source": [
        "Attempting to Annotate Music with MADMOM ODF RNN"
      ]
    },
    {
      "cell_type": "code",
      "execution_count": null,
      "metadata": {
        "id": "Y0uPlUHp9P_6"
      },
      "outputs": [],
      "source": [
        "import madmom\n",
        "import madmom.features.beats\n",
        "import madmom.features.onsets\n",
        "import ffmpeg"
      ]
    },
    {
      "cell_type": "code",
      "execution_count": null,
      "metadata": {
        "id": "OIFwuammmkZl"
      },
      "outputs": [],
      "source": [
        "#from scipy.io import wavfile\n",
        "#samplerate, data = wavfile.read('/content/first_fires.wav')"
      ]
    },
    {
      "cell_type": "code",
      "execution_count": null,
      "metadata": {
        "id": "Cm0oGRRYohL3"
      },
      "outputs": [],
      "source": [
        "#proc1.reset()\n",
        "proc1 = madmom.features.onsets.OnsetPeakPickingProcessor(fps = 100) #What should fps be?\n",
        "act1 = madmom.features.onsets.RNNOnsetProcessor()(data_folder + '/content/first_fires.wav') \n",
        "onset_values = proc1(act1) \n",
        "print(onset_values)\n",
        "gt = np.zeros(37500)\n",
        "idx_list=[]\n",
        "for onset in (onset_values):\n",
        "    idx_list.append(onset*125)\n",
        "print(idx_list)\n",
        "idx_list = np.array(idx_list)\n",
        "\n",
        "idx_list = np.round(idx_list,0).astype('int64')\n",
        "print(idx_list)\n",
        "\n",
        "gt[idx_list] = 1"
      ]
    },
    {
      "cell_type": "code",
      "execution_count": null,
      "metadata": {
        "id": "e9K6aTLHn4SH"
      },
      "outputs": [],
      "source": [
        "\n"
      ]
    },
    {
      "cell_type": "code",
      "execution_count": null,
      "metadata": {
        "id": "cW8VdjStqjks"
      },
      "outputs": [],
      "source": [
        ""
      ]
    },
    {
      "cell_type": "code",
      "execution_count": null,
      "metadata": {
        "id": "AfqYkH8prdD5"
      },
      "outputs": [],
      "source": [
        "print(len(onset_values))\n",
        "\n",
        "import os\n",
        "import wave\n",
        "\n",
        "with wave.open(data_folder + '/songs_wav/first_fires.wav', \"rb\") as wave_file:\n",
        "  frame_rate = wave_file.getframerate()\n",
        "print(frame_rate)"
      ]
    },
    {
      "cell_type": "code",
      "execution_count": null,
      "metadata": {
        "id": "HQGS_rGaymob"
      },
      "outputs": [],
      "source": [
        "#lmao this is so wrong\n",
        "\n",
        "song_labels = np.zeros(37500)\n",
        "\n",
        "for i in onset_values:\n",
        "  song_labels[int(i)] = 1"
      ]
    },
    {
      "cell_type": "code",
      "execution_count": null,
      "metadata": {
        "id": "gSKZIOElJUpF"
      },
      "outputs": [],
      "source": [
        "print(song_labels[-1000:])"
      ]
    },
    {
      "cell_type": "code",
      "execution_count": null,
      "metadata": {
        "id": "pM7qCi7NMHbR"
      },
      "outputs": [],
      "source": [
        "split_song_labels = np.split(song_labels, 300)\n",
        "print(split_song_labels[0].shape)"
      ]
    },
    {
      "cell_type": "code",
      "execution_count": null,
      "metadata": {
        "id": "aHqUf0Y5noeR"
      },
      "outputs": [],
      "source": [
        "print(len(split_song_labels))"
      ]
    },
    {
      "cell_type": "markdown",
      "metadata": {
        "id": "kJJn0VgAPd6Z"
      },
      "source": [
        "Fully Connected Network"
      ]
    },
    {
      "cell_type": "code",
      "execution_count": null,
      "metadata": {
        "id": "0w7OpS9TPYJY"
      },
      "outputs": [],
      "source": [
        "import torch\n",
        "import torch.nn as nn\n",
        "import torch.nn.functional as F"
      ]
    },
    {
      "cell_type": "code",
      "execution_count": null,
      "metadata": {
        "id": "X_iVpWrMPc9A"
      },
      "outputs": [],
      "source": [
        "from torch.nn.modules.batchnorm import BatchNorm2d\n",
        "class Network(torch.nn.Module): #All your models should inherit from torch.nn.Module\n",
        "    def __init__(self, context = 0):\n",
        "        super(Network, self).__init__()\n",
        "        # TODO: Please try different architectures\n",
        "        \n",
        "        layers = [\n",
        "            nn.Linear(15625, 256),\n",
        "            nn.ReLU(),\n",
        "            nn.Linear(256, 125)]\n",
        "\n",
        "        self.laysers = nn.Sequential(*layers)\n",
        "\n",
        "\n",
        "    def forward(self, A0):\n",
        "        x = self.laysers(A0)\n",
        "        return x"
      ]
    },
    {
      "cell_type": "code",
      "execution_count": null,
      "metadata": {
        "id": "tg1dIJkAQzxP"
      },
      "outputs": [],
      "source": [
        "#train_loader = torch.utils.data.DataLoader(split_EEGdata, batch_size=50, shuffle=False)\n",
        "out = Network(split_EEGdata[0].flatten())"
      ]
    },
    {
      "cell_type": "code",
      "execution_count": null,
      "metadata": {
        "id": "Gq26-e7RRu4j"
      },
      "outputs": [],
      "source": [
        "class ToyDataset(torch.utils.data.Dataset):\n",
        "    def __init__(self):\n",
        "        self.XXX = np.arange(200).reshape(40,-1)\n",
        "        self.YYY = self.XXX * 2\n",
        "\n",
        "    def __len__(self):\n",
        "        return len(self.XXX)\n",
        "\n",
        "    def __getitem__(self, ind):\n",
        "        return self.XXX[ind], self.YYY[ind]\n",
        "    \n",
        "    def collate_fn(batch):\n",
        "        batch_x = [torch.from_numpy(x) for x,y in batch]\n",
        "        batch_y = [torch.from_numpy(y) for x,y in batch]\n",
        "\n",
        "        return torch.stack(batch_x,dim=0).squeeze(),torch.stack(batch_y,dim=0).squeeze()\n",
        "    "
      ]
    },
    {
      "cell_type": "code",
      "execution_count": null,
      "metadata": {
        "id": "Jn2tXxG7VBqb"
      },
      "outputs": [],
      "source": [
        "data = ToyDataset()"
      ]
    },
    {
      "cell_type": "code",
      "execution_count": null,
      "metadata": {
        "id": "S9fX9jLBVEBW"
      },
      "outputs": [],
      "source": [
        "data[0]"
      ]
    },
    {
      "cell_type": "code",
      "execution_count": null,
      "metadata": {
        "id": "_jeUhgMEVEqu"
      },
      "outputs": [],
      "source": [
        "loader = torch.torch.utils.data.DataLoader(data,batch_size=32,collate_fn = ToyDataset.collate_fn,shuffle=False,num_workers=4)"
      ]
    },
    {
      "cell_type": "code",
      "execution_count": null,
      "metadata": {
        "id": "0ptHaeO3VdBR"
      },
      "outputs": [],
      "source": [
        "final_y = np.empty((1,0))\n",
        "for x,y in loader:\n",
        "    print(x.reshape(1,-1))\n",
        "    final_y = np.append(final_y,y.reshape(-1,1))"
      ]
    },
    {
      "cell_type": "code",
      "execution_count": null,
      "metadata": {
        "id": "Xe8MDQO8Vfz2"
      },
      "outputs": [],
      "source": [
        "final_y"
      ]
    },
    {
      "cell_type": "code",
      "execution_count": null,
      "metadata": {
        "id": "VIWII7LA1pAr"
      },
      "outputs": [],
      "source": [
        "from sklearn.metrics import f1_score\n"
      ]
    },
    {
      "cell_type": "code",
      "execution_count": null,
      "metadata": {
        "id": "iH92Qs9q70r8"
      },
      "outputs": [],
      "source": [
        "y_pred = np.zeros((3,10))\n",
        "y_true = np.ones((3,10))"
      ]
    },
    {
      "cell_type": "code",
      "execution_count": null,
      "metadata": {
        "id": "g0vMXwxl8D3q"
      },
      "outputs": [],
      "source": [
        "y_pred[1][4] = 1\n",
        "y_pred[2][5] = 1\n",
        "y_pred[0][4] = 1\n",
        "y_pred[2][0] = 1\n",
        "y_pred[0][0] = 1\n",
        "y_pred[1][0] = 1\n",
        "y_pred[0][4] = 1\n",
        "y_pred[1][8] = 1\n"
      ]
    },
    {
      "cell_type": "code",
      "execution_count": null,
      "metadata": {
        "id": "zHvlDn1o8RTd"
      },
      "outputs": [],
      "source": [
        "y_true[1][8]=0\n",
        "y_true[0][1]=0\n",
        "y_true[0][1]=0\n",
        "y_true[0][8]=0\n",
        "y_true[2][4]=0\n",
        "y_true[0][2]=0\n",
        "y_true[1][7]=0\n"
      ]
    },
    {
      "cell_type": "code",
      "execution_count": null,
      "metadata": {
        "id": "381CVhFR7vKJ"
      },
      "outputs": [],
      "source": [
        "f1_score(y_pred.flatten(),y_true.flatten())"
      ]
    },
    {
      "cell_type": "code",
      "execution_count": null,
      "metadata": {
        "id": "uAPYcAHk7zHJ"
      },
      "outputs": [],
      "source": [
        "a = np.arange(20).reshape(4,5)\n",
        "b = np.arange(100,120).reshape(4,5)"
      ]
    },
    {
      "cell_type": "code",
      "execution_count": null,
      "metadata": {
        "id": "cbKHO6GLa3bJ"
      },
      "outputs": [],
      "source": [
        "x=[]\n",
        "x.append(a)\n",
        "x.append(b)"
      ]
    },
    {
      "cell_type": "code",
      "execution_count": null,
      "metadata": {
        "id": "OIrXa0Kxa6GM"
      },
      "outputs": [],
      "source": [
        "m = np.array(x)"
      ]
    },
    {
      "cell_type": "code",
      "execution_count": null,
      "metadata": {
        "id": "jcv_tA4pa6qR"
      },
      "outputs": [],
      "source": [
        "np.pad(m,((2,2),(0,0),(0,0)))"
      ]
    },
    {
      "cell_type": "code",
      "execution_count": null,
      "metadata": {
        "id": "zTnZy1u7byw_"
      },
      "outputs": [],
      "source": [
        "a =np.arange(2*3*5).reshape(2,3,5)"
      ]
    },
    {
      "cell_type": "code",
      "execution_count": null,
      "metadata": {
        "id": "Fv9j909XfoTR"
      },
      "outputs": [],
      "source": [
        "a"
      ]
    },
    {
      "cell_type": "code",
      "execution_count": null,
      "metadata": {
        "id": "JYNNgml8fqVP"
      },
      "outputs": [],
      "source": [
        "a = np.arange(8).reshape((2,4))\n",
        "b = np.arange(12).reshape(3,4)\n",
        "c = np.arange(8).reshape((2,4))\n"
      ]
    },
    {
      "cell_type": "code",
      "execution_count": null,
      "metadata": {
        "id": "T6e-ESwafvvC"
      },
      "outputs": [],
      "source": [
        "b"
      ]
    },
    {
      "cell_type": "code",
      "execution_count": null,
      "metadata": {
        "id": "kXMckxYSxhmN"
      },
      "outputs": [],
      "source": [
        "np.vstack((a,b,c)).shape"
      ]
    },
    {
      "cell_type": "code",
      "execution_count": null,
      "metadata": {
        "id": "dvP0FqxMxkLm"
      },
      "outputs": [],
      "source": [
        ""
      ]
    }
  ],
  "metadata": {
    "accelerator": "GPU",
    "colab": {
      "collapsed_sections": [],
      "machine_shape": "hm",
      "name": "shruticopy of model_loading_for_rnn",
      "provenance": []
    },
    "kernelspec": {
      "display_name": "Python 3",
      "name": "python3"
    },
    "language_info": {
      "name": "python"
    }
  },
  "nbformat": 4,
  "nbformat_minor": 0
}